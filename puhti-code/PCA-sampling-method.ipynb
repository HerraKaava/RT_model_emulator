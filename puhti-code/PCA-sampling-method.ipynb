{
 "cells": [
  {
   "cell_type": "markdown",
   "id": "02319add",
   "metadata": {},
   "source": [
    "<h3 align=\"left\">Workflow</h3>"
   ]
  },
  {
   "cell_type": "markdown",
   "id": "84925a88",
   "metadata": {},
   "source": [
    "In this notebook, we repeat the processes done previously, but now we are using by far a larger dataset.\n",
    "\n",
    "1) We utilize the *principal component analysis* for finding clusters.\n",
    "2) We explore the explained variance ratios of the principal components in order to see how much of the variance of the original data can be explained by *n* principal components.\n",
    "3) We develop a sampling method to determine the *n* most representative temperature profiles."
   ]
  },
  {
   "cell_type": "markdown",
   "id": "eacf509d",
   "metadata": {},
   "source": [
    "<br>"
   ]
  },
  {
   "cell_type": "code",
   "execution_count": 1,
   "id": "fc80e725",
   "metadata": {},
   "outputs": [],
   "source": [
    "import numpy as np\n",
    "import matplotlib.pyplot as plt\n",
    "import seaborn as sns\n",
    "from netCDF4 import Dataset\n",
    "from sklearn.decomposition import PCA\n",
    "from matplotlib.colors import LogNorm\n",
    "from sklearn.preprocessing import StandardScaler\n",
    "import time\n",
    "from collections import defaultdict"
   ]
  },
  {
   "cell_type": "markdown",
   "id": "682978de",
   "metadata": {},
   "source": [
    "<br>"
   ]
  },
  {
   "cell_type": "markdown",
   "id": "fd6ea142",
   "metadata": {},
   "source": [
    "<h3 align=\"left\">Read in the data</h3>"
   ]
  },
  {
   "cell_type": "code",
   "execution_count": 363,
   "id": "cb3b0160",
   "metadata": {},
   "outputs": [],
   "source": [
    "def read_netCDF4_data(filename):\n",
    "    with Dataset(filename) as rootgrp:\n",
    "        print(rootgrp)\n",
    "        longitude = rootgrp['longitude'][:]\n",
    "        latitude = rootgrp['latitude'][:]\n",
    "        level = rootgrp['level'][:]\n",
    "        time = rootgrp['time'][:]\n",
    "        temperature = rootgrp['t'][:][:][:][:]\n",
    "    return longitude, latitude, level, time, temperature"
   ]
  },
  {
   "cell_type": "code",
   "execution_count": 364,
   "id": "def79d4b",
   "metadata": {},
   "outputs": [
    {
     "name": "stdout",
     "output_type": "stream",
     "text": [
      "<class 'netCDF4._netCDF4.Dataset'>\n",
      "root group (NETCDF3_64BIT_OFFSET data model, file format NETCDF3):\n",
      "    Conventions: CF-1.6\n",
      "    history: 2022-10-14 07:00:11 GMT by grib_to_netcdf-2.25.1: /opt/ecmwf/mars-client/bin/grib_to_netcdf.bin -S param -o /cache/data7/adaptor.mars.internal-1665730697.065383-17808-14-ce77431c-f506-461b-9645-fa31ff6f4e68.nc /cache/tmp/ce77431c-f506-461b-9645-fa31ff6f4e68-adaptor.mars.internal-1665730517.9997954-17808-24-tmp.grib\n",
      "    dimensions(sizes): longitude(1440), latitude(721), level(19), time(132)\n",
      "    variables(dimensions): float32 longitude(longitude), float32 latitude(latitude), int32 level(level), int32 time(time), int16 t(time, level, latitude, longitude)\n",
      "    groups: \n"
     ]
    }
   ],
   "source": [
    "longitude, latitude, level, time, temperature = read_netCDF4_data('/fmi/scratch/project_2004400/jamin_code/data/T_profile_2010_2020.nc')"
   ]
  },
  {
   "cell_type": "code",
   "execution_count": 5,
   "id": "fadbb450",
   "metadata": {},
   "outputs": [
    {
     "data": {
      "text/plain": [
       "(132, 19, 721, 1440)"
      ]
     },
     "execution_count": 5,
     "metadata": {},
     "output_type": "execute_result"
    }
   ],
   "source": [
    "temperature.shape"
   ]
  },
  {
   "cell_type": "code",
   "execution_count": 14,
   "id": "51aa41d7",
   "metadata": {},
   "outputs": [],
   "source": [
    "def create_temperature_profiles(t):\n",
    "    \"\"\"\n",
    "    This function creates temperature profiles such that\n",
    "    each column represent one pressure level.\n",
    "    For example, the first column has the temperatures associated\n",
    "    with pressure level 1.\n",
    "    \n",
    "    parameters:\n",
    "        t: a 4D tensor containing time, pressure level, latitude, longitude.\n",
    "        \n",
    "    returns:\n",
    "        2D matrix where each column represents one pressure level.\n",
    "    \"\"\"\n",
    "    i = 0\n",
    "    T_profiles = np.zeros((t[:, 0, :, :].size, t[0, :, 0, 0].size), float)\n",
    "    for day in range(0, len(time)):\n",
    "        #print(day)\n",
    "        for lat in range(0, len(latitude)):\n",
    "            for lon in range(0, len(longitude)):\n",
    "                T_profiles[i, :] = t[day, :, lat, lon][None, :]\n",
    "                i += 1\n",
    "    return T_profiles"
   ]
  },
  {
   "cell_type": "code",
   "execution_count": 15,
   "id": "9595a9d1",
   "metadata": {},
   "outputs": [],
   "source": [
    "temperature_profiles = create_temperature_profiles(temperature)"
   ]
  },
  {
   "cell_type": "code",
   "execution_count": 20,
   "id": "4a55c5f5",
   "metadata": {},
   "outputs": [
    {
     "data": {
      "text/plain": [
       "(137047680, 19)"
      ]
     },
     "execution_count": 20,
     "metadata": {},
     "output_type": "execute_result"
    }
   ],
   "source": [
    "temperature_profiles.shape"
   ]
  },
  {
   "cell_type": "code",
   "execution_count": 21,
   "id": "9ae76e02",
   "metadata": {},
   "outputs": [],
   "source": [
    "# Save the temperature profiles (it takes very long time to produce them)\n",
    "data = np.save('temperature_profiles.npy', temperature_profiles)"
   ]
  },
  {
   "cell_type": "markdown",
   "id": "4cbcd5e7",
   "metadata": {},
   "source": [
    "- Here we save the temperature profiles so that we don't have to create them again, since it takes a long time to create them in the loop above."
   ]
  },
  {
   "cell_type": "code",
   "execution_count": 2,
   "id": "012419df",
   "metadata": {},
   "outputs": [],
   "source": [
    "# Load the data\n",
    "T_profiles = np.load('temperature_profiles.npy')"
   ]
  },
  {
   "cell_type": "code",
   "execution_count": 3,
   "id": "a7c64f93",
   "metadata": {},
   "outputs": [
    {
     "data": {
      "text/plain": [
       "(137047680, 19)"
      ]
     },
     "execution_count": 3,
     "metadata": {},
     "output_type": "execute_result"
    }
   ],
   "source": [
    "T_profiles.shape"
   ]
  },
  {
   "cell_type": "markdown",
   "id": "2b35e2a4",
   "metadata": {},
   "source": [
    "<br>"
   ]
  },
  {
   "cell_type": "markdown",
   "id": "b9e9abeb",
   "metadata": {},
   "source": [
    "<h3>A function to save netCDF4 files</h3>"
   ]
  },
  {
   "cell_type": "code",
   "execution_count": 25,
   "id": "2848527e",
   "metadata": {},
   "outputs": [],
   "source": [
    "def save_data(data, filename=\"PCA_sample_temperatures\"):\n",
    "    with Dataset(f\"{filename}.nc\", \"w\", format=\"NETCDF4\") as nc:\n",
    "        # Description\n",
    "        nc.description = ''\n",
    "        # Dimensions\n",
    "        nc.createDimension(\"rows\", None)\n",
    "        nc.createDimension(\"columns\", None)\n",
    "        # Variables\n",
    "        nc = nc.createVariable(\"data\", \"f8\", (\"rows\", \"columns\"))\n",
    "        # Attributes\n",
    "        nc.longname = \"sampled PCA temperature profiles\"\n",
    "        # Assigning values\n",
    "        nc[:, :] = data"
   ]
  },
  {
   "cell_type": "markdown",
   "id": "ebf82bf3",
   "metadata": {},
   "source": [
    "<br>"
   ]
  },
  {
   "cell_type": "markdown",
   "id": "04a0e56c",
   "metadata": {},
   "source": [
    "<h3 align=\"left\">PCA</h3>"
   ]
  },
  {
   "cell_type": "code",
   "execution_count": 4,
   "id": "27673169",
   "metadata": {},
   "outputs": [],
   "source": [
    "# Scale the data for numerical stability\n",
    "scaler = StandardScaler()\n",
    "scaled_T_profiles = scaler.fit_transform(T_profiles)"
   ]
  },
  {
   "cell_type": "code",
   "execution_count": 5,
   "id": "a9a3916e",
   "metadata": {},
   "outputs": [
    {
     "data": {
      "text/plain": [
       "(137047680, 19)"
      ]
     },
     "execution_count": 5,
     "metadata": {},
     "output_type": "execute_result"
    }
   ],
   "source": [
    "scaled_T_profiles.shape"
   ]
  },
  {
   "cell_type": "code",
   "execution_count": 6,
   "id": "825237bd",
   "metadata": {},
   "outputs": [],
   "source": [
    "pca = PCA(n_components=None)\n",
    "pca_results = pca.fit_transform(scaled_T_profiles)"
   ]
  },
  {
   "cell_type": "markdown",
   "id": "e0affa69",
   "metadata": {},
   "source": [
    "- Here we perform the principal component analysis without reducing the dimensions of the data so that we can wee how much of the variance of the original data can be explained by **n** principal components."
   ]
  },
  {
   "cell_type": "code",
   "execution_count": 7,
   "id": "ce829af9",
   "metadata": {},
   "outputs": [
    {
     "data": {
      "text/plain": [
       "(137047680, 19)"
      ]
     },
     "execution_count": 7,
     "metadata": {},
     "output_type": "execute_result"
    }
   ],
   "source": [
    "pca_results.shape"
   ]
  },
  {
   "cell_type": "code",
   "execution_count": 8,
   "id": "8993220d",
   "metadata": {},
   "outputs": [],
   "source": [
    "def var_explained_by_n_components(arr, n):\n",
    "    \"\"\"\n",
    "    This function calculates how much of the variance of the original data\n",
    "    can be explained by n principal components.\n",
    "    \n",
    "    parameters:\n",
    "        arr: array containing the explained variances of the principal components.\n",
    "        n: the number of principal components.\n",
    "        \n",
    "    returns:\n",
    "        The amount of variance of the original data that can be explained\n",
    "        by n principal components\n",
    "    \"\"\"\n",
    "    explained_sigmasq = np.round(np.sum(arr[:n]), 3)\n",
    "    print(f'{explained_sigmasq} of the variance can be explained by {n} principal components.')"
   ]
  },
  {
   "cell_type": "code",
   "execution_count": 9,
   "id": "46a70416",
   "metadata": {},
   "outputs": [
    {
     "name": "stdout",
     "output_type": "stream",
     "text": [
      "0.555 of the variance can be explained by 1 principal components.\n",
      "0.861 of the variance can be explained by 2 principal components.\n",
      "0.949 of the variance can be explained by 3 principal components.\n",
      "0.97 of the variance can be explained by 4 principal components.\n",
      "0.986 of the variance can be explained by 5 principal components.\n",
      "0.991 of the variance can be explained by 6 principal components.\n",
      "0.995 of the variance can be explained by 7 principal components.\n",
      "0.997 of the variance can be explained by 8 principal components.\n",
      "0.998 of the variance can be explained by 9 principal components.\n",
      "0.998 of the variance can be explained by 10 principal components.\n",
      "0.999 of the variance can be explained by 11 principal components.\n",
      "0.999 of the variance can be explained by 12 principal components.\n"
     ]
    }
   ],
   "source": [
    "explained_var = pca.explained_variance_ratio_\n",
    "for i in range(1, 13):\n",
    "    var_explained_by_n_components(explained_var, i)"
   ]
  },
  {
   "cell_type": "markdown",
   "id": "139f4723",
   "metadata": {},
   "source": [
    "<br>"
   ]
  },
  {
   "cell_type": "code",
   "execution_count": 10,
   "id": "5a9cafb0",
   "metadata": {},
   "outputs": [
    {
     "data": {
      "image/png": "[encoded data removed]",
      "text/plain": [
       "<Figure size 800x600 with 2 Axes>"
      ]
     },
     "metadata": {},
     "output_type": "display_data"
    }
   ],
   "source": [
    "plt.figure(figsize=(8,6), dpi=100)\n",
    "plt.hist2d(pca_results[:, 0], pca_results[:, 1], bins=100, norm=LogNorm())\n",
    "plt.colorbar()\n",
    "plt.xlabel('Principal component 1')\n",
    "plt.ylabel('Principal component 2');"
   ]
  },
  {
   "cell_type": "markdown",
   "id": "67d746c9",
   "metadata": {},
   "source": [
    "<br>"
   ]
  },
  {
   "cell_type": "markdown",
   "id": "b3aca29e",
   "metadata": {},
   "source": [
    "<h3 align=\"left\">Discretizing the data</h3>"
   ]
  },
  {
   "cell_type": "code",
   "execution_count": 12,
   "id": "a59d209a",
   "metadata": {},
   "outputs": [],
   "source": [
    "def discretize_data(arr, bin_dims: list[int], n_components: int):\n",
    "    \"\"\"\n",
    "    This function discretizes the given dataset into bins for each dimension of the data.\n",
    "    \n",
    "    Parameters:\n",
    "        arr: a 2D dataset that is to be discretized.\n",
    "        num_bins_per_dim: a list of bins you want to divide each dimension into.\n",
    "        n_components: the number of principal components\n",
    "        \n",
    "    Examples:\n",
    "        Suppose you want to use 5 principal components, and you want to discretize the first\n",
    "        two principal component into 4 bins, the third principal component into 3 dims,\n",
    "        and fourth and fifth principal components into 2 dims.\n",
    "        The bin_dims argument would then be [4, 4, 3, 2, 2], and n_components would be 5.\n",
    "    \"\"\"\n",
    "    # Take n principal components from the data\n",
    "    data = arr[:, 0:n_components]\n",
    "    \n",
    "    # Initialize empty bins\n",
    "    bins = []\n",
    "    \n",
    "    # Iterate over each dimension\n",
    "    for i in range(len(bin_dims)):\n",
    "        # Calculate bin edges for each dimension.\n",
    "        edges = np.linspace(start=np.min(data[:, i]), \n",
    "                            stop=np.max(data[:, i] + 0.0001),\n",
    "                            num=bin_dims[i] + 1)\n",
    "        bins.append(edges)\n",
    "        # Notice that if you have 3 bins, you need 3+1 edges: |-----|-----|-----|\n",
    "        \n",
    "    ##### Discretize each data point #####\n",
    "    \n",
    "    # Initialize an empty list to store the discretized data points\n",
    "    discretized_data = []\n",
    "    \n",
    "    for point in data:\n",
    "        # Initialize an empty array to store the discretized values \n",
    "        # for the current data point\n",
    "        discrete_point = np.empty(data.shape[1], dtype=int)\n",
    "        \n",
    "        # Iterate through each dimension (column) of the current data point\n",
    "        for j in range(data.shape[1]):\n",
    "            # Find the bin index to which each element (dimension) in point[j] belongs to\n",
    "            # (the np.digitize() function returns the index of the bin into which each element\n",
    "            # in point[j] falls).\n",
    "            # Notice that we subtract 1 from the bin indexes to convert it to 0-based indexing, \n",
    "            # which is a standard in Python (by default np.digitize() uses 1-based indexing).\n",
    "            bin_index = np.digitize(point[j], bins[j]) - 1\n",
    "            \n",
    "            discrete_point[j] = bin_index\n",
    "        discretized_data.append(discrete_point)\n",
    "        \n",
    "    # Convert the discretized data from a list into a numpy array\n",
    "    discretized_data = np.array(discretized_data)\n",
    "        \n",
    "    # A function to count the number of occurrences of each bin index sequence\n",
    "    def count_bin_idx_seqs(arr):\n",
    "        # Initialize a dictionary to count the occurrences of each bin idx seq\n",
    "        bin_idx_seq_count = defaultdict(int)\n",
    "            \n",
    "        # Iterate over each row, convert it to a tuple, and increase its count by 1.\n",
    "        # Note that converting the rows (numpy arrays) into a tuple is necessary,\n",
    "        # because numpy arrays are unhashable\n",
    "        for seq in arr:\n",
    "            seq_tuple = tuple(seq)\n",
    "            bin_idx_seq_count[seq_tuple] += 1\n",
    "                \n",
    "        # Convert the defaultdict to a regular dict for a nicer output\n",
    "        bin_idx_seq_count = dict(bin_idx_seq_count)\n",
    "            \n",
    "        return bin_idx_seq_count\n",
    "            \n",
    "    # Call the count_bin_idx_seqs() function on discretized_data to count the occurrences\n",
    "    # of each bin index sequence\n",
    "    counts = count_bin_idx_seqs(discretized_data)\n",
    "        \n",
    "    return discretized_data, counts, bins"
   ]
  },
  {
   "cell_type": "markdown",
   "id": "28caf560",
   "metadata": {},
   "source": [
    "<br>"
   ]
  },
  {
   "cell_type": "code",
   "execution_count": 15,
   "id": "f8eabd65",
   "metadata": {},
   "outputs": [],
   "source": [
    "def map_grids_to_temperatures(gridded_data, bins):\n",
    "    \"\"\"\n",
    "    Function info here.\n",
    "    \n",
    "    Parameters:\n",
    "        gridded_data: the discretized data that is returned from the gridding_data function\n",
    "        bins: the bins that are returned from the gridding data function.\n",
    "        \n",
    "    Returns:\n",
    "        info here.\n",
    "    \"\"\"\n",
    "    # The number of principal components\n",
    "    n = gridded_data.shape[1]\n",
    "    \n",
    "    # PCA\n",
    "    pca = PCA(n_components=n)\n",
    "    scaler = StandardScaler()\n",
    "    scaled_temperature_profiles = scaler.fit_transform(T_profiles)\n",
    "    pca_results = pca.fit_transform(scaled_temperature_profiles)\n",
    "    \n",
    "    points = np.zeros(shape=(len(gridded_data), n))\n",
    "    for point_idx, point in enumerate(gridded_data):\n",
    "        temp = np.zeros(shape=(n,))\n",
    "        for idx, c in enumerate(point):\n",
    "            val = (bins[idx][c] + bins[idx][c+1]) / 2\n",
    "            temp[idx] = val\n",
    "        points[point_idx, :] = temp\n",
    "        \n",
    "    # Inverse transform\n",
    "    inversed_points = pca.inverse_transform(points)\n",
    "    \n",
    "    # Scale back to original temperatures\n",
    "    original_temperatures = scaler.inverse_transform(inversed_points)\n",
    "    \n",
    "    return original_temperatures"
   ]
  }
 ],
 "metadata": {
  "kernelspec": {
   "display_name": "Python 3 (ipykernel)",
   "language": "python",
   "name": "python3"
  },
  "language_info": {
   "codemirror_mode": {
    "name": "ipython",
    "version": 3
   },
   "file_extension": ".py",
   "mimetype": "text/x-python",
   "name": "python",
   "nbconvert_exporter": "python",
   "pygments_lexer": "ipython3",
   "version": "3.11.7"
  }
 },
 "nbformat": 4,
 "nbformat_minor": 5
}
