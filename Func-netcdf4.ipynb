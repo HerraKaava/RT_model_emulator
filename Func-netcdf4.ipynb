{
 "cells": [
  {
   "cell_type": "code",
   "execution_count": 1,
   "id": "21816865",
   "metadata": {},
   "outputs": [],
   "source": [
    "from netCDF4 import Dataset"
   ]
  },
  {
   "cell_type": "code",
   "execution_count": 2,
   "id": "a6d3f77c",
   "metadata": {},
   "outputs": [],
   "source": [
    "def read_netCDF4_data(filename):\n",
    "    with Dataset(filename) as rootgrp:\n",
    "        print(rootgrp)\n",
    "        #p = rootgrp[\"level\"][:]\n",
    "        #lat = rootgrp[\"latitude\"][:]\n",
    "        #on = rootgrp[\"longitude\"][:]\n",
    "        #u = rootgrp[\"u\"][:][:][:][:]\n",
    "        #v = rootgrp[\"v\"][:][:][:][:]\n",
    "    #return lat, lon, p, u, v"
   ]
  },
  {
   "cell_type": "markdown",
   "id": "340bc24b",
   "metadata": {},
   "source": [
    "- A function for opening netCDF4 files. Note that it needs to be modified to the users specific needs."
   ]
  }
 ],
 "metadata": {
  "kernelspec": {
   "display_name": "Python 3 (ipykernel)",
   "language": "python",
   "name": "python3"
  },
  "language_info": {
   "codemirror_mode": {
    "name": "ipython",
    "version": 3
   },
   "file_extension": ".py",
   "mimetype": "text/x-python",
   "name": "python",
   "nbconvert_exporter": "python",
   "pygments_lexer": "ipython3",
   "version": "3.12.3"
  }
 },
 "nbformat": 4,
 "nbformat_minor": 5
}
