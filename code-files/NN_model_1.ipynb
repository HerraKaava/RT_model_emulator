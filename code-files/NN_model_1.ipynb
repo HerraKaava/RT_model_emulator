{
 "cells": [
  {
   "cell_type": "code",
   "execution_count": 2,
   "id": "9f7503f1",
   "metadata": {},
   "outputs": [],
   "source": [
    "import tensorflow as tf\n",
    "from tensorflow.keras.optimizers import Adam\n",
    "from tensorflow.keras.layers import Conv1D, MaxPool1D, Input, Dense, Flatten\n",
    "from tensorflow.keras.models import Sequential\n",
    "from tensorflow.keras.losses import MSE\n",
    "from sklearn.preprocessing import MinMaxScaler\n",
    "from sklearn.model_selection import train_test_split\n",
    "import numpy as np\n",
    "import pandas as pd\n",
    "import matplotlib.pyplot as plt\n",
    "import h5py\n",
    "import os"
   ]
  },
  {
   "cell_type": "code",
   "execution_count": 3,
   "id": "2e848e69",
   "metadata": {},
   "outputs": [
    {
     "name": "stdout",
     "output_type": "stream",
     "text": [
      "2.15.0\n"
     ]
    }
   ],
   "source": [
    "print(tf.__version__)"
   ]
  },
  {
   "cell_type": "code",
   "execution_count": 4,
   "id": "c4b82c76",
   "metadata": {},
   "outputs": [],
   "source": [
    "# Folder where the input and output data are located\n",
    "NN_data_path = \"/fmi/projappl/project_2004400/jamin/data/libradtran_data/NN_data/\""
   ]
  },
  {
   "cell_type": "code",
   "execution_count": 5,
   "id": "8bacb25a",
   "metadata": {},
   "outputs": [],
   "source": [
    "X = pd.read_csv(NN_data_path + \"inputs.csv\", index_col=0)"
   ]
  },
  {
   "cell_type": "code",
   "execution_count": 6,
   "id": "ca4ff040",
   "metadata": {},
   "outputs": [],
   "source": [
    "def load_HDF5(folder_path: str, file_name: str):\n",
    "    \"\"\"\n",
    "    Reads in the output data for the NN model.\n",
    "    \n",
    "    Args:\n",
    "        folder_path: path to the folder containing the output data\n",
    "        file_name: name of the output data file\n",
    "        \n",
    "    Returns:\n",
    "        output_data: a NumPy array (tensor) containing the output data.\n",
    "    \"\"\"\n",
    "    with h5py.File(name=folder_path+file_name, mode=\"r\") as hf:\n",
    "        data = hf[\"output_data\"][:]\n",
    "    return data"
   ]
  },
  {
   "cell_type": "code",
   "execution_count": 7,
   "id": "87ba2363",
   "metadata": {},
   "outputs": [],
   "source": [
    "Y = load_HDF5(NN_data_path, \"outputs_subset.h5\")"
   ]
  },
  {
   "cell_type": "code",
   "execution_count": 8,
   "id": "46a83787",
   "metadata": {},
   "outputs": [
    {
     "name": "stdout",
     "output_type": "stream",
     "text": [
      "Input (X) shape: (1728, 54)\n",
      "Output (Y) shape: (1728, 235002, 8)\n"
     ]
    }
   ],
   "source": [
    "print(f\"Input (X) shape: {X.shape}\")\n",
    "print(f\"Output (Y) shape: {Y.shape}\")"
   ]
  },
  {
   "cell_type": "markdown",
   "id": "df3db8ff",
   "metadata": {},
   "source": [
    "- Note that the 8 columns of **Y** correspond to these variable (in this order): tdir_down, tdif_down, tdir_up, tdif_up, spherical_albedo, edir, edif, path_rad.\n",
    "- The order can be seen from the *create_subset* function in [THIS](https://github.com/monsieurformule/SummerProject/blob/main/code-files/Generate_NN_outputs.ipynb) notebook."
   ]
  },
  {
   "cell_type": "markdown",
   "id": "106c1797",
   "metadata": {},
   "source": [
    "Note that there are **1728** *matrices*, where each matrix of shape $\\, (235002, 8) \\,$ corresponds to one row in the inputs matrix. This leaves us with two choices:\n",
    "\n",
    "**1)** Build a NN where each input row predicts a matrix of shape $\\, (235002, 8). \\,$ \\\n",
    "**2)** Build **8** separate NNs, where each NN is taught to predict one vector of shape $\\, (235002, 1). \\,$\n",
    "\n",
    "In this notebook, we'll build **8** separate neural networks that each predicts a different feature of shape $\\, (235002, 1). \\,$"
   ]
  },
  {
   "cell_type": "markdown",
   "id": "c61bec03",
   "metadata": {},
   "source": [
    "<h3>Preparing the data for the neural network(s)</h3>"
   ]
  },
  {
   "cell_type": "code",
   "execution_count": 9,
   "id": "64cf513b",
   "metadata": {},
   "outputs": [
    {
     "data": {
      "text/html": [
       "<div>\n",
       "<style scoped>\n",
       "    .dataframe tbody tr th:only-of-type {\n",
       "        vertical-align: middle;\n",
       "    }\n",
       "\n",
       "    .dataframe tbody tr th {\n",
       "        vertical-align: top;\n",
       "    }\n",
       "\n",
       "    .dataframe thead th {\n",
       "        text-align: right;\n",
       "    }\n",
       "</style>\n",
       "<table border=\"1\" class=\"dataframe\">\n",
       "  <thead>\n",
       "    <tr style=\"text-align: right;\">\n",
       "      <th></th>\n",
       "      <th>atmosphere_file</th>\n",
       "      <th>sza</th>\n",
       "      <th>altitude</th>\n",
       "      <th>tau</th>\n",
       "      <th>2e-05</th>\n",
       "      <th>4e-05</th>\n",
       "      <th>6e-05</th>\n",
       "      <th>0.00012</th>\n",
       "      <th>0.00026</th>\n",
       "      <th>0.00062</th>\n",
       "      <th>...</th>\n",
       "      <th>324.0</th>\n",
       "      <th>372.0</th>\n",
       "      <th>426.0</th>\n",
       "      <th>487.0</th>\n",
       "      <th>554.0</th>\n",
       "      <th>628.0</th>\n",
       "      <th>710.0</th>\n",
       "      <th>802.0</th>\n",
       "      <th>902.0</th>\n",
       "      <th>1013.0</th>\n",
       "    </tr>\n",
       "  </thead>\n",
       "  <tbody>\n",
       "    <tr>\n",
       "      <th>0</th>\n",
       "      <td>afglms_Q1_0</td>\n",
       "      <td>25.0</td>\n",
       "      <td>0.0</td>\n",
       "      <td>0.05</td>\n",
       "      <td>248.7303</td>\n",
       "      <td>248.7303</td>\n",
       "      <td>248.7303</td>\n",
       "      <td>248.7303</td>\n",
       "      <td>248.7303</td>\n",
       "      <td>248.7303</td>\n",
       "      <td>...</td>\n",
       "      <td>215.0723</td>\n",
       "      <td>220.1957</td>\n",
       "      <td>225.84</td>\n",
       "      <td>232.0706</td>\n",
       "      <td>237.8445</td>\n",
       "      <td>243.4155</td>\n",
       "      <td>248.4294</td>\n",
       "      <td>252.3007</td>\n",
       "      <td>253.4411</td>\n",
       "      <td>249.7135</td>\n",
       "    </tr>\n",
       "    <tr>\n",
       "      <th>1</th>\n",
       "      <td>afglms_Q1_0</td>\n",
       "      <td>25.0</td>\n",
       "      <td>0.0</td>\n",
       "      <td>0.15</td>\n",
       "      <td>248.7303</td>\n",
       "      <td>248.7303</td>\n",
       "      <td>248.7303</td>\n",
       "      <td>248.7303</td>\n",
       "      <td>248.7303</td>\n",
       "      <td>248.7303</td>\n",
       "      <td>...</td>\n",
       "      <td>215.0723</td>\n",
       "      <td>220.1957</td>\n",
       "      <td>225.84</td>\n",
       "      <td>232.0706</td>\n",
       "      <td>237.8445</td>\n",
       "      <td>243.4155</td>\n",
       "      <td>248.4294</td>\n",
       "      <td>252.3007</td>\n",
       "      <td>253.4411</td>\n",
       "      <td>249.7135</td>\n",
       "    </tr>\n",
       "    <tr>\n",
       "      <th>2</th>\n",
       "      <td>afglms_Q1_0</td>\n",
       "      <td>25.0</td>\n",
       "      <td>0.0</td>\n",
       "      <td>0.30</td>\n",
       "      <td>248.7303</td>\n",
       "      <td>248.7303</td>\n",
       "      <td>248.7303</td>\n",
       "      <td>248.7303</td>\n",
       "      <td>248.7303</td>\n",
       "      <td>248.7303</td>\n",
       "      <td>...</td>\n",
       "      <td>215.0723</td>\n",
       "      <td>220.1957</td>\n",
       "      <td>225.84</td>\n",
       "      <td>232.0706</td>\n",
       "      <td>237.8445</td>\n",
       "      <td>243.4155</td>\n",
       "      <td>248.4294</td>\n",
       "      <td>252.3007</td>\n",
       "      <td>253.4411</td>\n",
       "      <td>249.7135</td>\n",
       "    </tr>\n",
       "    <tr>\n",
       "      <th>3</th>\n",
       "      <td>afglms_Q1_0</td>\n",
       "      <td>25.0</td>\n",
       "      <td>1.5</td>\n",
       "      <td>0.05</td>\n",
       "      <td>248.7303</td>\n",
       "      <td>248.7303</td>\n",
       "      <td>248.7303</td>\n",
       "      <td>248.7303</td>\n",
       "      <td>248.7303</td>\n",
       "      <td>248.7303</td>\n",
       "      <td>...</td>\n",
       "      <td>215.0723</td>\n",
       "      <td>220.1957</td>\n",
       "      <td>225.84</td>\n",
       "      <td>232.0706</td>\n",
       "      <td>237.8445</td>\n",
       "      <td>243.4155</td>\n",
       "      <td>248.4294</td>\n",
       "      <td>252.3007</td>\n",
       "      <td>253.4411</td>\n",
       "      <td>249.7135</td>\n",
       "    </tr>\n",
       "    <tr>\n",
       "      <th>4</th>\n",
       "      <td>afglms_Q1_0</td>\n",
       "      <td>25.0</td>\n",
       "      <td>1.5</td>\n",
       "      <td>0.15</td>\n",
       "      <td>248.7303</td>\n",
       "      <td>248.7303</td>\n",
       "      <td>248.7303</td>\n",
       "      <td>248.7303</td>\n",
       "      <td>248.7303</td>\n",
       "      <td>248.7303</td>\n",
       "      <td>...</td>\n",
       "      <td>215.0723</td>\n",
       "      <td>220.1957</td>\n",
       "      <td>225.84</td>\n",
       "      <td>232.0706</td>\n",
       "      <td>237.8445</td>\n",
       "      <td>243.4155</td>\n",
       "      <td>248.4294</td>\n",
       "      <td>252.3007</td>\n",
       "      <td>253.4411</td>\n",
       "      <td>249.7135</td>\n",
       "    </tr>\n",
       "  </tbody>\n",
       "</table>\n",
       "<p>5 rows × 54 columns</p>\n",
       "</div>"
      ],
      "text/plain": [
       "  atmosphere_file   sza  altitude   tau     2e-05     4e-05     6e-05  \\\n",
       "0     afglms_Q1_0  25.0       0.0  0.05  248.7303  248.7303  248.7303   \n",
       "1     afglms_Q1_0  25.0       0.0  0.15  248.7303  248.7303  248.7303   \n",
       "2     afglms_Q1_0  25.0       0.0  0.30  248.7303  248.7303  248.7303   \n",
       "3     afglms_Q1_0  25.0       1.5  0.05  248.7303  248.7303  248.7303   \n",
       "4     afglms_Q1_0  25.0       1.5  0.15  248.7303  248.7303  248.7303   \n",
       "\n",
       "    0.00012   0.00026   0.00062  ...     324.0     372.0   426.0     487.0  \\\n",
       "0  248.7303  248.7303  248.7303  ...  215.0723  220.1957  225.84  232.0706   \n",
       "1  248.7303  248.7303  248.7303  ...  215.0723  220.1957  225.84  232.0706   \n",
       "2  248.7303  248.7303  248.7303  ...  215.0723  220.1957  225.84  232.0706   \n",
       "3  248.7303  248.7303  248.7303  ...  215.0723  220.1957  225.84  232.0706   \n",
       "4  248.7303  248.7303  248.7303  ...  215.0723  220.1957  225.84  232.0706   \n",
       "\n",
       "      554.0     628.0     710.0     802.0     902.0    1013.0  \n",
       "0  237.8445  243.4155  248.4294  252.3007  253.4411  249.7135  \n",
       "1  237.8445  243.4155  248.4294  252.3007  253.4411  249.7135  \n",
       "2  237.8445  243.4155  248.4294  252.3007  253.4411  249.7135  \n",
       "3  237.8445  243.4155  248.4294  252.3007  253.4411  249.7135  \n",
       "4  237.8445  243.4155  248.4294  252.3007  253.4411  249.7135  \n",
       "\n",
       "[5 rows x 54 columns]"
      ]
     },
     "execution_count": 9,
     "metadata": {},
     "output_type": "execute_result"
    }
   ],
   "source": [
    "X.head()"
   ]
  },
  {
   "cell_type": "markdown",
   "id": "f6e4b448",
   "metadata": {},
   "source": [
    "- We don't need (or rather cannot use) the first column, which acts as an identifier for the inputs, in the NN."
   ]
  },
  {
   "cell_type": "code",
   "execution_count": 10,
   "id": "41a974bf",
   "metadata": {},
   "outputs": [],
   "source": [
    "X = X.drop(\"atmosphere_file\", axis=1)"
   ]
  },
  {
   "cell_type": "code",
   "execution_count": 11,
   "id": "756ee40d",
   "metadata": {},
   "outputs": [
    {
     "data": {
      "text/html": [
       "<div>\n",
       "<style scoped>\n",
       "    .dataframe tbody tr th:only-of-type {\n",
       "        vertical-align: middle;\n",
       "    }\n",
       "\n",
       "    .dataframe tbody tr th {\n",
       "        vertical-align: top;\n",
       "    }\n",
       "\n",
       "    .dataframe thead th {\n",
       "        text-align: right;\n",
       "    }\n",
       "</style>\n",
       "<table border=\"1\" class=\"dataframe\">\n",
       "  <thead>\n",
       "    <tr style=\"text-align: right;\">\n",
       "      <th></th>\n",
       "      <th>sza</th>\n",
       "      <th>altitude</th>\n",
       "      <th>tau</th>\n",
       "      <th>2e-05</th>\n",
       "      <th>4e-05</th>\n",
       "      <th>6e-05</th>\n",
       "      <th>0.00012</th>\n",
       "      <th>0.00026</th>\n",
       "      <th>0.00062</th>\n",
       "      <th>0.00164</th>\n",
       "      <th>...</th>\n",
       "      <th>324.0</th>\n",
       "      <th>372.0</th>\n",
       "      <th>426.0</th>\n",
       "      <th>487.0</th>\n",
       "      <th>554.0</th>\n",
       "      <th>628.0</th>\n",
       "      <th>710.0</th>\n",
       "      <th>802.0</th>\n",
       "      <th>902.0</th>\n",
       "      <th>1013.0</th>\n",
       "    </tr>\n",
       "  </thead>\n",
       "  <tbody>\n",
       "    <tr>\n",
       "      <th>0</th>\n",
       "      <td>25.0</td>\n",
       "      <td>0.0</td>\n",
       "      <td>0.05</td>\n",
       "      <td>248.7303</td>\n",
       "      <td>248.7303</td>\n",
       "      <td>248.7303</td>\n",
       "      <td>248.7303</td>\n",
       "      <td>248.7303</td>\n",
       "      <td>248.7303</td>\n",
       "      <td>248.7303</td>\n",
       "      <td>...</td>\n",
       "      <td>215.0723</td>\n",
       "      <td>220.1957</td>\n",
       "      <td>225.84</td>\n",
       "      <td>232.0706</td>\n",
       "      <td>237.8445</td>\n",
       "      <td>243.4155</td>\n",
       "      <td>248.4294</td>\n",
       "      <td>252.3007</td>\n",
       "      <td>253.4411</td>\n",
       "      <td>249.7135</td>\n",
       "    </tr>\n",
       "    <tr>\n",
       "      <th>1</th>\n",
       "      <td>25.0</td>\n",
       "      <td>0.0</td>\n",
       "      <td>0.15</td>\n",
       "      <td>248.7303</td>\n",
       "      <td>248.7303</td>\n",
       "      <td>248.7303</td>\n",
       "      <td>248.7303</td>\n",
       "      <td>248.7303</td>\n",
       "      <td>248.7303</td>\n",
       "      <td>248.7303</td>\n",
       "      <td>...</td>\n",
       "      <td>215.0723</td>\n",
       "      <td>220.1957</td>\n",
       "      <td>225.84</td>\n",
       "      <td>232.0706</td>\n",
       "      <td>237.8445</td>\n",
       "      <td>243.4155</td>\n",
       "      <td>248.4294</td>\n",
       "      <td>252.3007</td>\n",
       "      <td>253.4411</td>\n",
       "      <td>249.7135</td>\n",
       "    </tr>\n",
       "    <tr>\n",
       "      <th>2</th>\n",
       "      <td>25.0</td>\n",
       "      <td>0.0</td>\n",
       "      <td>0.30</td>\n",
       "      <td>248.7303</td>\n",
       "      <td>248.7303</td>\n",
       "      <td>248.7303</td>\n",
       "      <td>248.7303</td>\n",
       "      <td>248.7303</td>\n",
       "      <td>248.7303</td>\n",
       "      <td>248.7303</td>\n",
       "      <td>...</td>\n",
       "      <td>215.0723</td>\n",
       "      <td>220.1957</td>\n",
       "      <td>225.84</td>\n",
       "      <td>232.0706</td>\n",
       "      <td>237.8445</td>\n",
       "      <td>243.4155</td>\n",
       "      <td>248.4294</td>\n",
       "      <td>252.3007</td>\n",
       "      <td>253.4411</td>\n",
       "      <td>249.7135</td>\n",
       "    </tr>\n",
       "    <tr>\n",
       "      <th>3</th>\n",
       "      <td>25.0</td>\n",
       "      <td>1.5</td>\n",
       "      <td>0.05</td>\n",
       "      <td>248.7303</td>\n",
       "      <td>248.7303</td>\n",
       "      <td>248.7303</td>\n",
       "      <td>248.7303</td>\n",
       "      <td>248.7303</td>\n",
       "      <td>248.7303</td>\n",
       "      <td>248.7303</td>\n",
       "      <td>...</td>\n",
       "      <td>215.0723</td>\n",
       "      <td>220.1957</td>\n",
       "      <td>225.84</td>\n",
       "      <td>232.0706</td>\n",
       "      <td>237.8445</td>\n",
       "      <td>243.4155</td>\n",
       "      <td>248.4294</td>\n",
       "      <td>252.3007</td>\n",
       "      <td>253.4411</td>\n",
       "      <td>249.7135</td>\n",
       "    </tr>\n",
       "    <tr>\n",
       "      <th>4</th>\n",
       "      <td>25.0</td>\n",
       "      <td>1.5</td>\n",
       "      <td>0.15</td>\n",
       "      <td>248.7303</td>\n",
       "      <td>248.7303</td>\n",
       "      <td>248.7303</td>\n",
       "      <td>248.7303</td>\n",
       "      <td>248.7303</td>\n",
       "      <td>248.7303</td>\n",
       "      <td>248.7303</td>\n",
       "      <td>...</td>\n",
       "      <td>215.0723</td>\n",
       "      <td>220.1957</td>\n",
       "      <td>225.84</td>\n",
       "      <td>232.0706</td>\n",
       "      <td>237.8445</td>\n",
       "      <td>243.4155</td>\n",
       "      <td>248.4294</td>\n",
       "      <td>252.3007</td>\n",
       "      <td>253.4411</td>\n",
       "      <td>249.7135</td>\n",
       "    </tr>\n",
       "  </tbody>\n",
       "</table>\n",
       "<p>5 rows × 53 columns</p>\n",
       "</div>"
      ],
      "text/plain": [
       "    sza  altitude   tau     2e-05     4e-05     6e-05   0.00012   0.00026  \\\n",
       "0  25.0       0.0  0.05  248.7303  248.7303  248.7303  248.7303  248.7303   \n",
       "1  25.0       0.0  0.15  248.7303  248.7303  248.7303  248.7303  248.7303   \n",
       "2  25.0       0.0  0.30  248.7303  248.7303  248.7303  248.7303  248.7303   \n",
       "3  25.0       1.5  0.05  248.7303  248.7303  248.7303  248.7303  248.7303   \n",
       "4  25.0       1.5  0.15  248.7303  248.7303  248.7303  248.7303  248.7303   \n",
       "\n",
       "    0.00062   0.00164  ...     324.0     372.0   426.0     487.0     554.0  \\\n",
       "0  248.7303  248.7303  ...  215.0723  220.1957  225.84  232.0706  237.8445   \n",
       "1  248.7303  248.7303  ...  215.0723  220.1957  225.84  232.0706  237.8445   \n",
       "2  248.7303  248.7303  ...  215.0723  220.1957  225.84  232.0706  237.8445   \n",
       "3  248.7303  248.7303  ...  215.0723  220.1957  225.84  232.0706  237.8445   \n",
       "4  248.7303  248.7303  ...  215.0723  220.1957  225.84  232.0706  237.8445   \n",
       "\n",
       "      628.0     710.0     802.0     902.0    1013.0  \n",
       "0  243.4155  248.4294  252.3007  253.4411  249.7135  \n",
       "1  243.4155  248.4294  252.3007  253.4411  249.7135  \n",
       "2  243.4155  248.4294  252.3007  253.4411  249.7135  \n",
       "3  243.4155  248.4294  252.3007  253.4411  249.7135  \n",
       "4  243.4155  248.4294  252.3007  253.4411  249.7135  \n",
       "\n",
       "[5 rows x 53 columns]"
      ]
     },
     "execution_count": 11,
     "metadata": {},
     "output_type": "execute_result"
    }
   ],
   "source": [
    "X.head()"
   ]
  },
  {
   "cell_type": "code",
   "execution_count": 12,
   "id": "74f5f4ff",
   "metadata": {},
   "outputs": [
    {
     "data": {
      "text/plain": [
       "True"
      ]
     },
     "execution_count": 12,
     "metadata": {},
     "output_type": "execute_result"
    }
   ],
   "source": [
    "(X.dtypes.values == \"float64\").all()"
   ]
  },
  {
   "cell_type": "code",
   "execution_count": 13,
   "id": "06327078",
   "metadata": {},
   "outputs": [
    {
     "data": {
      "text/plain": [
       "pandas.core.frame.DataFrame"
      ]
     },
     "execution_count": 13,
     "metadata": {},
     "output_type": "execute_result"
    }
   ],
   "source": [
    "type(X)"
   ]
  },
  {
   "cell_type": "markdown",
   "id": "5c3072ed",
   "metadata": {},
   "source": [
    "- Notice that the inputs are still in the form of a Pandas DataFrame.\n",
    "- We want to change the inputs into NumPy arrays for train / validation splits, and tf.tensors for the NN."
   ]
  },
  {
   "cell_type": "code",
   "execution_count": 14,
   "id": "788495e0",
   "metadata": {},
   "outputs": [],
   "source": [
    "X = X.values"
   ]
  },
  {
   "cell_type": "code",
   "execution_count": 15,
   "id": "0ce718db",
   "metadata": {},
   "outputs": [
    {
     "data": {
      "text/plain": [
       "numpy.ndarray"
      ]
     },
     "execution_count": 15,
     "metadata": {},
     "output_type": "execute_result"
    }
   ],
   "source": [
    "type(X)"
   ]
  },
  {
   "cell_type": "markdown",
   "id": "544aec65",
   "metadata": {},
   "source": [
    "Next, we'll split the data into a (train | validation | test) split. To achieve this, we'll call sklearn's *train_test_split* function twice. The first call splits the data into a (train | temp) split. The second call splits the temp data into a  (validation | test) split."
   ]
  },
  {
   "cell_type": "code",
   "execution_count": 16,
   "id": "d53e448e",
   "metadata": {},
   "outputs": [],
   "source": [
    "# (X, Y) ==> (train | temp)\n",
    "X_train, X_temp, Y_train, Y_temp = train_test_split(X, Y, test_size=0.2, random_state=42)"
   ]
  },
  {
   "cell_type": "code",
   "execution_count": 17,
   "id": "8df15f50",
   "metadata": {},
   "outputs": [],
   "source": [
    "# temp ==> (validation | test)\n",
    "X_val, X_test, Y_val, Y_test = train_test_split(X_temp, Y_temp, test_size=0.5, random_state=42)"
   ]
  },
  {
   "cell_type": "code",
   "execution_count": 18,
   "id": "aecac3c0",
   "metadata": {},
   "outputs": [
    {
     "name": "stdout",
     "output_type": "stream",
     "text": [
      "########## Test data ##########\n",
      "X_train shape: (1382, 53)\n",
      "Y_train shape: (1382, 235002, 8)\n",
      "\n",
      "########## Validation data ##########\n",
      "X_val shape: (173, 53)\n",
      "Y_val shape: (173, 235002, 8)\n",
      "\n",
      "########## test data ##########\n",
      "X_test shape: (173, 53)\n",
      "Y_test shape: (173, 235002, 8)\n"
     ]
    }
   ],
   "source": [
    "print(\"########## Test data ##########\")\n",
    "print(f\"X_train shape: {X_train.shape}\")\n",
    "print(f\"Y_train shape: {Y_train.shape}\")\n",
    "print()\n",
    "print(\"########## Validation data ##########\")\n",
    "print(f\"X_val shape: {X_val.shape}\")\n",
    "print(f\"Y_val shape: {Y_val.shape}\")\n",
    "print()\n",
    "print(\"########## test data ##########\")\n",
    "print(f\"X_test shape: {X_test.shape}\")\n",
    "print(f\"Y_test shape: {Y_test.shape}\")"
   ]
  },
  {
   "cell_type": "markdown",
   "id": "43ae0bce",
   "metadata": {},
   "source": [
    "- $\\, 80\\% \\,$ of the data is used in the training set\n",
    "- $\\, 10\\% \\,$ of the data is used in the validation set\n",
    "- $\\, 10\\% \\,$ of the data is used in the test set"
   ]
  },
  {
   "cell_type": "code",
   "execution_count": 19,
   "id": "5fbd75ad",
   "metadata": {},
   "outputs": [],
   "source": [
    "# Scale the features for numerical stability\n",
    "\n",
    "scaler = MinMaxScaler(feature_range=(0, 1))\n",
    "scaler.fit(X_train)\n",
    "\n",
    "scaled_X_train = scaler.transform(X_train)\n",
    "scaled_X_val = scaler.transform(X_val)\n",
    "scaled_X_test = scaler.transform(X_test)"
   ]
  },
  {
   "cell_type": "markdown",
   "id": "f7f3fe95",
   "metadata": {},
   "source": [
    "- *MinMaxScaler* converts all feature values to the closed range [0, 1] while preserving the original distribution.\n",
    "- Note that the scaler is fit only on *X_train* to prevent data leakage."
   ]
  },
  {
   "cell_type": "code",
   "execution_count": 20,
   "id": "07ee2d03",
   "metadata": {},
   "outputs": [
    {
     "name": "stderr",
     "output_type": "stream",
     "text": [
      "2024-07-23 16:12:57.608180: E external/local_xla/xla/stream_executor/cuda/cuda_driver.cc:274] failed call to cuInit: CUDA_ERROR_NO_DEVICE: no CUDA-capable device is detected\n"
     ]
    }
   ],
   "source": [
    "# Convert the data to tf.tensors\n",
    "\n",
    "scaled_X_train = tf.cast(scaled_X_train, dtype=tf.float32)\n",
    "scaled_X_val = tf.cast(scaled_X_val, dtype=tf.float32)\n",
    "scaled_X_test = tf.cast(scaled_X_test, dtype=tf.float32)\n",
    "\n",
    "Y_train = tf.cast(Y_train, dtype=tf.float32)\n",
    "Y_val = tf.cast(Y_val, dtype=tf.float32)\n",
    "Y_test = tf.cast(Y_test, dtype=tf.float32)"
   ]
  },
  {
   "cell_type": "markdown",
   "id": "480c1b29",
   "metadata": {},
   "source": [
    "We still need to add an extra dimension for the input data in order to be able to use convolutional layers. Currently, the input data is of shape $ (\\text{num_samples}, \\, \\text{num_features}). $\n",
    "We'll modify the shape of the input data such that\n",
    "\n",
    "$$ (\\text{num_samples}, \\, \\text{num_features}) \\quad \\boldsymbol{\\rightarrow} \\quad (\\text{num_samples}, \\, \\text{num_steps}, \\, \\text{features}), $$\n",
    "\n",
    "where\n",
    "\n",
    "- **num_samples:** the number of samples in the dataset\n",
    "- **steps:** the length of the sequence (the number of discrete data points in our sequence, i.e., the number of features per sample) (this is analogous to the number of features in our original data when each feature is treated as a separate time step)\n",
    "- **features:** the number of features to consider at each time step (we'll set this to 1)\n",
    "\n",
    "This way, the reshaped input data will have each original feature treated as a time step in the sequence, with a single feature per time step."
   ]
  },
  {
   "cell_type": "code",
   "execution_count": 21,
   "id": "ef6c03dd",
   "metadata": {},
   "outputs": [],
   "source": [
    "# Adding an extra dimension to the input data\n",
    "scaled_X_train = tf.expand_dims(scaled_X_train, axis=-1)\n",
    "scaled_X_val = tf.expand_dims(scaled_X_val, axis=-1)\n",
    "scaled_X_test = tf.expand_dims(scaled_X_test, axis=-1)"
   ]
  },
  {
   "cell_type": "code",
   "execution_count": 22,
   "id": "964f9e12",
   "metadata": {},
   "outputs": [
    {
     "name": "stdout",
     "output_type": "stream",
     "text": [
      "scaled_X_train min: 0.0\n",
      "scaled_X_train max: 1.0\n",
      "scaled_X_train shape: (1382, 53, 1)\n",
      "\n",
      "scaled_X_val min: 0.0\n",
      "scaled_X_val max: 1.0\n",
      "scaled_X_val shape: (173, 53, 1)\n",
      "\n",
      "scaled_X_test min: 0.0\n",
      "scaled_X_test max: 1.0\n",
      "scaled_X_test min: (173, 53, 1)\n"
     ]
    }
   ],
   "source": [
    "print(f\"scaled_X_train min: {tf.reduce_min(scaled_X_train, axis=None).numpy()}\")\n",
    "print(f\"scaled_X_train max: {tf.reduce_max(scaled_X_train, axis=None).numpy()}\")\n",
    "print(f\"scaled_X_train shape: {scaled_X_train.shape}\")\n",
    "print()\n",
    "print(f\"scaled_X_val min: {tf.reduce_min(scaled_X_val, axis=None).numpy()}\")\n",
    "print(f\"scaled_X_val max: {tf.reduce_max(scaled_X_val, axis=None).numpy()}\")\n",
    "print(f\"scaled_X_val shape: {scaled_X_val.shape}\")\n",
    "print()\n",
    "print(f\"scaled_X_test min: {tf.reduce_min(scaled_X_test, axis=None).numpy()}\")\n",
    "print(f\"scaled_X_test max: {tf.reduce_max(scaled_X_test, axis=None).numpy()}\")\n",
    "print(f\"scaled_X_test min: {scaled_X_test.shape}\")"
   ]
  },
  {
   "cell_type": "markdown",
   "id": "6e6ca817",
   "metadata": {},
   "source": [
    "Next, I'll be creating the **8** different outputs."
   ]
  },
  {
   "cell_type": "code",
   "execution_count": 23,
   "id": "091a0657",
   "metadata": {},
   "outputs": [],
   "source": [
    "output_cols_in_order = [\"tdir_down\",\"tdif_down\",\"tdir_up\",\"tdif_up\",\"spherical_albedo\",\"edir\",\"edif\",\"path_rad\"]\n",
    "output_col_indices = {col_name: idx for idx, col_name in enumerate(output_cols_in_order)}"
   ]
  },
  {
   "cell_type": "code",
   "execution_count": 24,
   "id": "020a99ef",
   "metadata": {},
   "outputs": [
    {
     "data": {
      "text/plain": [
       "{'tdir_down': 0,\n",
       " 'tdif_down': 1,\n",
       " 'tdir_up': 2,\n",
       " 'tdif_up': 3,\n",
       " 'spherical_albedo': 4,\n",
       " 'edir': 5,\n",
       " 'edif': 6,\n",
       " 'path_rad': 7}"
      ]
     },
     "execution_count": 24,
     "metadata": {},
     "output_type": "execute_result"
    }
   ],
   "source": [
    "output_col_indices"
   ]
  },
  {
   "cell_type": "code",
   "execution_count": 25,
   "id": "3b5625f6",
   "metadata": {},
   "outputs": [
    {
     "name": "stdout",
     "output_type": "stream",
     "text": [
      "Shape of Y_train_tdir_down: (1382, 235002)\n",
      "Shape of Y_val_tdir_down: (173, 235002)\n",
      "Shape of Y_test_tdir_down: (173, 235002)\n"
     ]
    }
   ],
   "source": [
    "########## tdir_down ##########\n",
    "\n",
    "Y_train_tdir_down = Y_train[:, :, output_col_indices[\"tdir_down\"]]\n",
    "Y_val_tdir_down = Y_val[:, :, output_col_indices[\"tdir_down\"]]\n",
    "Y_test_tdir_down = Y_test[:, :, output_col_indices[\"tdir_down\"]]\n",
    "\n",
    "print(f\"Shape of Y_train_tdir_down: {Y_train_tdir_down.shape}\")\n",
    "print(f\"Shape of Y_val_tdir_down: {Y_val_tdir_down.shape}\")\n",
    "print(f\"Shape of Y_test_tdir_down: {Y_test_tdir_down.shape}\")"
   ]
  },
  {
   "cell_type": "code",
   "execution_count": 26,
   "id": "281bb1fc",
   "metadata": {},
   "outputs": [
    {
     "name": "stdout",
     "output_type": "stream",
     "text": [
      "Shape of Y_train_tdif_down: (1382, 235002)\n",
      "Shape of Y_val_tdif_down: (173, 235002)\n",
      "Shape of Y_test_tdif_down: (173, 235002)\n"
     ]
    }
   ],
   "source": [
    "########## tdif_down ##########\n",
    "\n",
    "Y_train_tdif_down = Y_train[:, :, output_col_indices[\"tdif_down\"]]\n",
    "Y_val_tdif_down = Y_val[:, :, output_col_indices[\"tdif_down\"]]\n",
    "Y_test_tdif_down = Y_test[:, :, output_col_indices[\"tdif_down\"]]\n",
    "\n",
    "print(f\"Shape of Y_train_tdif_down: {Y_train_tdif_down.shape}\")\n",
    "print(f\"Shape of Y_val_tdif_down: {Y_val_tdif_down.shape}\")\n",
    "print(f\"Shape of Y_test_tdif_down: {Y_test_tdif_down.shape}\")"
   ]
  },
  {
   "cell_type": "code",
   "execution_count": 27,
   "id": "741a50e7",
   "metadata": {},
   "outputs": [
    {
     "name": "stdout",
     "output_type": "stream",
     "text": [
      "Shape of Y_train_tdir_up: (1382, 235002)\n",
      "Shape of Y_val_tdir_up: (173, 235002)\n",
      "Shape of Y_test_tdir_up: (173, 235002)\n"
     ]
    }
   ],
   "source": [
    "########## tdir_up ##########\n",
    "\n",
    "Y_train_tdir_up = Y_train[:, :, output_col_indices[\"tdir_up\"]]\n",
    "Y_val_tdir_up = Y_val[:, :, output_col_indices[\"tdir_up\"]]\n",
    "Y_test_tdir_up = Y_test[:, :, output_col_indices[\"tdir_up\"]]\n",
    "\n",
    "print(f\"Shape of Y_train_tdir_up: {Y_train_tdir_up.shape}\")\n",
    "print(f\"Shape of Y_val_tdir_up: {Y_val_tdir_up.shape}\")\n",
    "print(f\"Shape of Y_test_tdir_up: {Y_test_tdir_up.shape}\")"
   ]
  },
  {
   "cell_type": "code",
   "execution_count": 28,
   "id": "3f544c9f",
   "metadata": {},
   "outputs": [
    {
     "name": "stdout",
     "output_type": "stream",
     "text": [
      "Shape of Y_train_tdif_up: (1382, 235002)\n",
      "Shape of Y_val_tdif_up: (173, 235002)\n",
      "Shape of Y_test_tdif_up: (173, 235002)\n"
     ]
    }
   ],
   "source": [
    "########## tdif_up ##########\n",
    "\n",
    "Y_train_tdif_up = Y_train[:, :, output_col_indices[\"tdif_up\"]]\n",
    "Y_val_tdif_up = Y_val[:, :, output_col_indices[\"tdif_up\"]]\n",
    "Y_test_tdif_up = Y_test[:, :, output_col_indices[\"tdif_up\"]]\n",
    "\n",
    "print(f\"Shape of Y_train_tdif_up: {Y_train_tdif_up.shape}\")\n",
    "print(f\"Shape of Y_val_tdif_up: {Y_val_tdif_up.shape}\")\n",
    "print(f\"Shape of Y_test_tdif_up: {Y_test_tdif_up.shape}\")"
   ]
  },
  {
   "cell_type": "code",
   "execution_count": 29,
   "id": "6d87b9c7",
   "metadata": {},
   "outputs": [
    {
     "name": "stdout",
     "output_type": "stream",
     "text": [
      "Shape of Y_train_spherical_albedo: (1382, 235002)\n",
      "Shape of Y_val_spherical_albedo: (173, 235002)\n",
      "Shape of Y_test_spherical_albedo: (173, 235002)\n"
     ]
    }
   ],
   "source": [
    "########## spherical_albedo ##########\n",
    "\n",
    "Y_train_spherical_albedo = Y_train[:, :, output_col_indices[\"spherical_albedo\"]]\n",
    "Y_val_spherical_albedo = Y_val[:, :, output_col_indices[\"spherical_albedo\"]]\n",
    "Y_test_spherical_albedo = Y_test[:, :, output_col_indices[\"spherical_albedo\"]]\n",
    "\n",
    "print(f\"Shape of Y_train_spherical_albedo: {Y_train_spherical_albedo.shape}\")\n",
    "print(f\"Shape of Y_val_spherical_albedo: {Y_val_spherical_albedo.shape}\")\n",
    "print(f\"Shape of Y_test_spherical_albedo: {Y_test_spherical_albedo.shape}\")"
   ]
  },
  {
   "cell_type": "code",
   "execution_count": 30,
   "id": "a79a7461",
   "metadata": {},
   "outputs": [
    {
     "name": "stdout",
     "output_type": "stream",
     "text": [
      "Shape of Y_train_edir: (1382, 235002)\n",
      "Shape of Y_val_edir: (173, 235002)\n",
      "Shape of Y_test_edir: (173, 235002)\n"
     ]
    }
   ],
   "source": [
    "########## edir ##########\n",
    "\n",
    "Y_train_edir = Y_train[:, :, output_col_indices[\"edir\"]]\n",
    "Y_val_edir = Y_val[:, :, output_col_indices[\"edir\"]]\n",
    "Y_test_edir = Y_test[:, :, output_col_indices[\"edir\"]]\n",
    "\n",
    "print(f\"Shape of Y_train_edir: {Y_train_edir.shape}\")\n",
    "print(f\"Shape of Y_val_edir: {Y_val_edir.shape}\")\n",
    "print(f\"Shape of Y_test_edir: {Y_test_edir.shape}\")"
   ]
  },
  {
   "cell_type": "code",
   "execution_count": 31,
   "id": "4fe0bd97",
   "metadata": {},
   "outputs": [
    {
     "name": "stdout",
     "output_type": "stream",
     "text": [
      "Shape of Y_train_edif: (1382, 235002)\n",
      "Shape of Y_val_edif: (173, 235002)\n",
      "Shape of Y_test_edif: (173, 235002)\n"
     ]
    }
   ],
   "source": [
    "########## edif ##########\n",
    "\n",
    "Y_train_edif = Y_train[:, :, output_col_indices[\"edif\"]]\n",
    "Y_val_edif = Y_val[:, :, output_col_indices[\"edif\"]]\n",
    "Y_test_edif = Y_test[:, :, output_col_indices[\"edif\"]]\n",
    "\n",
    "print(f\"Shape of Y_train_edif: {Y_train_edif.shape}\")\n",
    "print(f\"Shape of Y_val_edif: {Y_val_edif.shape}\")\n",
    "print(f\"Shape of Y_test_edif: {Y_test_edif.shape}\")"
   ]
  },
  {
   "cell_type": "code",
   "execution_count": 32,
   "id": "f4904ec3",
   "metadata": {},
   "outputs": [
    {
     "name": "stdout",
     "output_type": "stream",
     "text": [
      "Shape of Y_train_path_rad: (1382, 235002)\n",
      "Shape of Y_val_path_rad: (173, 235002)\n",
      "Shape of Y_test_path_rad: (173, 235002)\n"
     ]
    }
   ],
   "source": [
    "########## path_rad ##########\n",
    "\n",
    "Y_train_path_rad = Y_train[:, :, output_col_indices[\"path_rad\"]]\n",
    "Y_val_path_rad = Y_val[:, :, output_col_indices[\"path_rad\"]]\n",
    "Y_test_path_rad = Y_test[:, :, output_col_indices[\"path_rad\"]]\n",
    "\n",
    "print(f\"Shape of Y_train_path_rad: {Y_train_path_rad.shape}\")\n",
    "print(f\"Shape of Y_val_path_rad: {Y_val_path_rad.shape}\")\n",
    "print(f\"Shape of Y_test_path_rad: {Y_test_path_rad.shape}\")"
   ]
  },
  {
   "cell_type": "markdown",
   "id": "4799292f",
   "metadata": {},
   "source": [
    "<h3>Creating the baseline NN model</h3>"
   ]
  },
  {
   "cell_type": "markdown",
   "id": "1da42846",
   "metadata": {},
   "source": [
    "A *baseline* model is a simple model or an existing result that one sets up when beginning a machine learning experiment. The goal is to beat this baseline model with experimenting. In deep learning, there is almost infinite amount of architectures one could create. For this reason, one of the best ways to get started is to start with something simple and see if it works with your data, and just then introduce complexity to the model as required."
   ]
  },
  {
   "cell_type": "markdown",
   "id": "10646843",
   "metadata": {},
   "source": [
    "<h3>tdir_down</h3>"
   ]
  },
  {
   "cell_type": "code",
   "execution_count": 39,
   "id": "5c4eddb5",
   "metadata": {
    "scrolled": true
   },
   "outputs": [
    {
     "name": "stdout",
     "output_type": "stream",
     "text": [
      "Epoch 1/100\n",
      "44/44 [==============================] - 2s 24ms/step - loss: 0.4495 - mse: 0.4495 - val_loss: 0.1427 - val_mse: 0.1427\n",
      "Epoch 2/100\n",
      "44/44 [==============================] - 1s 21ms/step - loss: 0.0423 - mse: 0.0423 - val_loss: 0.0198 - val_mse: 0.0198\n",
      "Epoch 3/100\n",
      "44/44 [==============================] - 1s 22ms/step - loss: 0.0180 - mse: 0.0180 - val_loss: 0.0120 - val_mse: 0.0120\n",
      "Epoch 4/100\n",
      "44/44 [==============================] - 1s 21ms/step - loss: 0.0098 - mse: 0.0098 - val_loss: 0.0089 - val_mse: 0.0089\n",
      "Epoch 5/100\n",
      "44/44 [==============================] - 1s 22ms/step - loss: 0.0078 - mse: 0.0078 - val_loss: 0.0077 - val_mse: 0.0077\n",
      "Epoch 6/100\n",
      "44/44 [==============================] - 1s 22ms/step - loss: 0.0069 - mse: 0.0069 - val_loss: 0.0067 - val_mse: 0.0067\n",
      "Epoch 7/100\n",
      "44/44 [==============================] - 1s 22ms/step - loss: 0.0061 - mse: 0.0061 - val_loss: 0.0061 - val_mse: 0.0061\n",
      "Epoch 8/100\n",
      "44/44 [==============================] - 1s 22ms/step - loss: 0.0054 - mse: 0.0054 - val_loss: 0.0052 - val_mse: 0.0052\n",
      "Epoch 9/100\n",
      "44/44 [==============================] - 1s 22ms/step - loss: 0.0044 - mse: 0.0044 - val_loss: 0.0042 - val_mse: 0.0042\n",
      "Epoch 10/100\n",
      "44/44 [==============================] - 1s 22ms/step - loss: 0.0036 - mse: 0.0036 - val_loss: 0.0033 - val_mse: 0.0033\n",
      "Epoch 11/100\n",
      "44/44 [==============================] - 1s 21ms/step - loss: 0.0027 - mse: 0.0027 - val_loss: 0.0024 - val_mse: 0.0024\n",
      "Epoch 12/100\n",
      "44/44 [==============================] - 1s 20ms/step - loss: 0.0021 - mse: 0.0021 - val_loss: 0.0020 - val_mse: 0.0020\n",
      "Epoch 13/100\n",
      "44/44 [==============================] - 1s 20ms/step - loss: 0.0017 - mse: 0.0017 - val_loss: 0.0017 - val_mse: 0.0017\n",
      "Epoch 14/100\n",
      "44/44 [==============================] - 1s 20ms/step - loss: 0.0015 - mse: 0.0015 - val_loss: 0.0014 - val_mse: 0.0014\n",
      "Epoch 15/100\n",
      "44/44 [==============================] - 1s 22ms/step - loss: 0.0013 - mse: 0.0013 - val_loss: 0.0012 - val_mse: 0.0012\n",
      "Epoch 16/100\n",
      "44/44 [==============================] - 1s 21ms/step - loss: 0.0012 - mse: 0.0012 - val_loss: 0.0012 - val_mse: 0.0012\n",
      "Epoch 17/100\n",
      "44/44 [==============================] - 1s 21ms/step - loss: 0.0011 - mse: 0.0011 - val_loss: 0.0011 - val_mse: 0.0011\n",
      "Epoch 18/100\n",
      "44/44 [==============================] - 1s 22ms/step - loss: 0.0010 - mse: 0.0010 - val_loss: 9.8602e-04 - val_mse: 9.8602e-04\n",
      "Epoch 19/100\n",
      "44/44 [==============================] - 1s 24ms/step - loss: 9.6233e-04 - mse: 9.6233e-04 - val_loss: 9.2387e-04 - val_mse: 9.2387e-04\n",
      "Epoch 20/100\n",
      "44/44 [==============================] - 1s 22ms/step - loss: 8.8456e-04 - mse: 8.8456e-04 - val_loss: 8.6134e-04 - val_mse: 8.6134e-04\n",
      "Epoch 21/100\n",
      "44/44 [==============================] - 1s 22ms/step - loss: 8.4498e-04 - mse: 8.4498e-04 - val_loss: 8.8989e-04 - val_mse: 8.8989e-04\n",
      "Epoch 22/100\n",
      "44/44 [==============================] - 1s 22ms/step - loss: 7.8841e-04 - mse: 7.8841e-04 - val_loss: 7.4287e-04 - val_mse: 7.4287e-04\n",
      "Epoch 23/100\n",
      "44/44 [==============================] - 1s 22ms/step - loss: 7.1417e-04 - mse: 7.1417e-04 - val_loss: 6.9642e-04 - val_mse: 6.9642e-04\n",
      "Epoch 24/100\n",
      "44/44 [==============================] - 1s 22ms/step - loss: 6.7703e-04 - mse: 6.7703e-04 - val_loss: 6.5661e-04 - val_mse: 6.5661e-04\n",
      "Epoch 25/100\n",
      "44/44 [==============================] - 1s 21ms/step - loss: 6.3245e-04 - mse: 6.3245e-04 - val_loss: 6.4323e-04 - val_mse: 6.4323e-04\n",
      "Epoch 26/100\n",
      "44/44 [==============================] - 1s 21ms/step - loss: 5.6867e-04 - mse: 5.6867e-04 - val_loss: 6.0041e-04 - val_mse: 6.0041e-04\n",
      "Epoch 27/100\n",
      "44/44 [==============================] - 1s 23ms/step - loss: 5.4824e-04 - mse: 5.4824e-04 - val_loss: 5.3205e-04 - val_mse: 5.3205e-04\n",
      "Epoch 28/100\n",
      "44/44 [==============================] - 1s 23ms/step - loss: 4.8785e-04 - mse: 4.8785e-04 - val_loss: 4.8732e-04 - val_mse: 4.8732e-04\n",
      "Epoch 29/100\n",
      "44/44 [==============================] - 1s 21ms/step - loss: 4.5547e-04 - mse: 4.5547e-04 - val_loss: 4.6960e-04 - val_mse: 4.6960e-04\n",
      "Epoch 30/100\n",
      "44/44 [==============================] - 1s 22ms/step - loss: 4.2695e-04 - mse: 4.2695e-04 - val_loss: 4.1398e-04 - val_mse: 4.1398e-04\n",
      "Epoch 31/100\n",
      "44/44 [==============================] - 1s 20ms/step - loss: 3.8674e-04 - mse: 3.8674e-04 - val_loss: 3.9476e-04 - val_mse: 3.9476e-04\n",
      "Epoch 32/100\n",
      "44/44 [==============================] - 1s 21ms/step - loss: 3.6892e-04 - mse: 3.6892e-04 - val_loss: 3.7104e-04 - val_mse: 3.7104e-04\n",
      "Epoch 33/100\n",
      "44/44 [==============================] - 1s 20ms/step - loss: 3.3495e-04 - mse: 3.3495e-04 - val_loss: 3.4021e-04 - val_mse: 3.4021e-04\n",
      "Epoch 34/100\n",
      "44/44 [==============================] - 1s 21ms/step - loss: 3.2696e-04 - mse: 3.2696e-04 - val_loss: 3.1260e-04 - val_mse: 3.1260e-04\n",
      "Epoch 35/100\n",
      "44/44 [==============================] - 1s 21ms/step - loss: 2.9529e-04 - mse: 2.9529e-04 - val_loss: 2.9648e-04 - val_mse: 2.9648e-04\n",
      "Epoch 36/100\n",
      "44/44 [==============================] - 1s 20ms/step - loss: 2.6954e-04 - mse: 2.6954e-04 - val_loss: 2.8137e-04 - val_mse: 2.8137e-04\n",
      "Epoch 37/100\n",
      "44/44 [==============================] - 1s 21ms/step - loss: 2.4651e-04 - mse: 2.4651e-04 - val_loss: 2.7788e-04 - val_mse: 2.7788e-04\n",
      "Epoch 38/100\n",
      "44/44 [==============================] - 1s 22ms/step - loss: 2.3901e-04 - mse: 2.3901e-04 - val_loss: 2.5387e-04 - val_mse: 2.5387e-04\n",
      "Epoch 39/100\n",
      "44/44 [==============================] - 1s 21ms/step - loss: 2.1526e-04 - mse: 2.1526e-04 - val_loss: 2.2352e-04 - val_mse: 2.2352e-04\n",
      "Epoch 40/100\n",
      "44/44 [==============================] - 1s 21ms/step - loss: 1.9960e-04 - mse: 1.9960e-04 - val_loss: 2.1623e-04 - val_mse: 2.1623e-04\n",
      "Epoch 41/100\n",
      "44/44 [==============================] - 1s 20ms/step - loss: 1.8628e-04 - mse: 1.8628e-04 - val_loss: 2.0373e-04 - val_mse: 2.0373e-04\n",
      "Epoch 42/100\n",
      "44/44 [==============================] - 1s 20ms/step - loss: 1.8245e-04 - mse: 1.8245e-04 - val_loss: 2.2248e-04 - val_mse: 2.2248e-04\n",
      "Epoch 43/100\n",
      "44/44 [==============================] - 1s 20ms/step - loss: 1.7331e-04 - mse: 1.7331e-04 - val_loss: 1.9045e-04 - val_mse: 1.9045e-04\n",
      "Epoch 44/100\n",
      "44/44 [==============================] - 1s 22ms/step - loss: 1.6659e-04 - mse: 1.6659e-04 - val_loss: 1.7558e-04 - val_mse: 1.7558e-04\n",
      "Epoch 45/100\n",
      "44/44 [==============================] - 1s 22ms/step - loss: 1.5210e-04 - mse: 1.5210e-04 - val_loss: 1.6595e-04 - val_mse: 1.6595e-04\n",
      "Epoch 46/100\n",
      "44/44 [==============================] - 1s 22ms/step - loss: 1.4526e-04 - mse: 1.4526e-04 - val_loss: 1.6637e-04 - val_mse: 1.6637e-04\n",
      "Epoch 47/100\n",
      "44/44 [==============================] - 1s 22ms/step - loss: 1.3818e-04 - mse: 1.3818e-04 - val_loss: 1.7176e-04 - val_mse: 1.7176e-04\n",
      "Epoch 48/100\n",
      "44/44 [==============================] - 1s 22ms/step - loss: 1.3355e-04 - mse: 1.3355e-04 - val_loss: 1.5613e-04 - val_mse: 1.5613e-04\n",
      "Epoch 49/100\n",
      "44/44 [==============================] - 1s 21ms/step - loss: 1.2961e-04 - mse: 1.2961e-04 - val_loss: 1.6898e-04 - val_mse: 1.6898e-04\n",
      "Epoch 50/100\n",
      "44/44 [==============================] - 1s 20ms/step - loss: 1.3209e-04 - mse: 1.3209e-04 - val_loss: 1.5037e-04 - val_mse: 1.5037e-04\n",
      "Epoch 51/100\n",
      "44/44 [==============================] - 1s 22ms/step - loss: 1.2167e-04 - mse: 1.2167e-04 - val_loss: 1.3613e-04 - val_mse: 1.3613e-04\n",
      "Epoch 52/100\n",
      "44/44 [==============================] - 1s 22ms/step - loss: 1.1992e-04 - mse: 1.1992e-04 - val_loss: 1.3168e-04 - val_mse: 1.3168e-04\n",
      "Epoch 53/100\n",
      "44/44 [==============================] - 1s 22ms/step - loss: 1.1421e-04 - mse: 1.1421e-04 - val_loss: 1.4057e-04 - val_mse: 1.4057e-04\n",
      "Epoch 54/100\n",
      "44/44 [==============================] - 1s 22ms/step - loss: 1.0915e-04 - mse: 1.0915e-04 - val_loss: 1.2800e-04 - val_mse: 1.2800e-04\n",
      "Epoch 55/100\n",
      "44/44 [==============================] - 1s 22ms/step - loss: 1.0533e-04 - mse: 1.0533e-04 - val_loss: 1.4041e-04 - val_mse: 1.4041e-04\n",
      "Epoch 56/100\n",
      "44/44 [==============================] - 1s 21ms/step - loss: 1.0181e-04 - mse: 1.0181e-04 - val_loss: 1.1429e-04 - val_mse: 1.1429e-04\n",
      "Epoch 57/100\n",
      "44/44 [==============================] - 1s 21ms/step - loss: 9.8242e-05 - mse: 9.8242e-05 - val_loss: 1.1007e-04 - val_mse: 1.1007e-04\n"
     ]
    },
    {
     "name": "stdout",
     "output_type": "stream",
     "text": [
      "Epoch 58/100\n",
      "44/44 [==============================] - 1s 22ms/step - loss: 9.2625e-05 - mse: 9.2625e-05 - val_loss: 1.0830e-04 - val_mse: 1.0830e-04\n",
      "Epoch 59/100\n",
      "44/44 [==============================] - 1s 22ms/step - loss: 9.4052e-05 - mse: 9.4052e-05 - val_loss: 1.0864e-04 - val_mse: 1.0864e-04\n",
      "Epoch 60/100\n",
      "44/44 [==============================] - 1s 22ms/step - loss: 9.2856e-05 - mse: 9.2856e-05 - val_loss: 1.1050e-04 - val_mse: 1.1050e-04\n",
      "Epoch 61/100\n",
      "44/44 [==============================] - 1s 22ms/step - loss: 8.9493e-05 - mse: 8.9493e-05 - val_loss: 9.5627e-05 - val_mse: 9.5627e-05\n",
      "Epoch 62/100\n",
      "44/44 [==============================] - 1s 22ms/step - loss: 8.2334e-05 - mse: 8.2334e-05 - val_loss: 9.1633e-05 - val_mse: 9.1633e-05\n",
      "Epoch 63/100\n",
      "44/44 [==============================] - 1s 22ms/step - loss: 7.7555e-05 - mse: 7.7555e-05 - val_loss: 1.2438e-04 - val_mse: 1.2438e-04\n",
      "Epoch 64/100\n",
      "44/44 [==============================] - 1s 22ms/step - loss: 8.1112e-05 - mse: 8.1112e-05 - val_loss: 9.0258e-05 - val_mse: 9.0258e-05\n",
      "Epoch 65/100\n",
      "44/44 [==============================] - 1s 21ms/step - loss: 7.6056e-05 - mse: 7.6056e-05 - val_loss: 8.2011e-05 - val_mse: 8.2011e-05\n",
      "Epoch 66/100\n",
      "44/44 [==============================] - 1s 22ms/step - loss: 6.9550e-05 - mse: 6.9550e-05 - val_loss: 8.6404e-05 - val_mse: 8.6404e-05\n",
      "Epoch 67/100\n",
      "44/44 [==============================] - 1s 20ms/step - loss: 6.8921e-05 - mse: 6.8921e-05 - val_loss: 7.6328e-05 - val_mse: 7.6328e-05\n",
      "Epoch 68/100\n",
      "44/44 [==============================] - 1s 20ms/step - loss: 6.5866e-05 - mse: 6.5866e-05 - val_loss: 7.8383e-05 - val_mse: 7.8383e-05\n",
      "Epoch 69/100\n",
      "44/44 [==============================] - 1s 20ms/step - loss: 6.8982e-05 - mse: 6.8982e-05 - val_loss: 7.7445e-05 - val_mse: 7.7445e-05\n",
      "Epoch 70/100\n",
      "44/44 [==============================] - 1s 21ms/step - loss: 6.0563e-05 - mse: 6.0563e-05 - val_loss: 7.0734e-05 - val_mse: 7.0734e-05\n",
      "Epoch 71/100\n",
      "44/44 [==============================] - 1s 21ms/step - loss: 5.7906e-05 - mse: 5.7906e-05 - val_loss: 6.8637e-05 - val_mse: 6.8637e-05\n",
      "Epoch 72/100\n",
      "44/44 [==============================] - 1s 20ms/step - loss: 5.6623e-05 - mse: 5.6623e-05 - val_loss: 6.1904e-05 - val_mse: 6.1904e-05\n",
      "Epoch 73/100\n",
      "44/44 [==============================] - 1s 21ms/step - loss: 5.6440e-05 - mse: 5.6440e-05 - val_loss: 5.8224e-05 - val_mse: 5.8224e-05\n",
      "Epoch 74/100\n",
      "44/44 [==============================] - 1s 20ms/step - loss: 5.2269e-05 - mse: 5.2269e-05 - val_loss: 5.6603e-05 - val_mse: 5.6603e-05\n",
      "Epoch 75/100\n",
      "44/44 [==============================] - 1s 21ms/step - loss: 5.0016e-05 - mse: 5.0016e-05 - val_loss: 5.7300e-05 - val_mse: 5.7300e-05\n",
      "Epoch 76/100\n",
      "44/44 [==============================] - 1s 21ms/step - loss: 4.9048e-05 - mse: 4.9048e-05 - val_loss: 5.3729e-05 - val_mse: 5.3729e-05\n",
      "Epoch 77/100\n",
      "44/44 [==============================] - 1s 22ms/step - loss: 5.2197e-05 - mse: 5.2197e-05 - val_loss: 7.6796e-05 - val_mse: 7.6796e-05\n",
      "Epoch 78/100\n",
      "44/44 [==============================] - 1s 22ms/step - loss: 4.9384e-05 - mse: 4.9384e-05 - val_loss: 5.5289e-05 - val_mse: 5.5289e-05\n",
      "Epoch 79/100\n",
      "44/44 [==============================] - 1s 21ms/step - loss: 4.6517e-05 - mse: 4.6517e-05 - val_loss: 4.6838e-05 - val_mse: 4.6838e-05\n",
      "Epoch 80/100\n",
      "44/44 [==============================] - 1s 22ms/step - loss: 4.4146e-05 - mse: 4.4146e-05 - val_loss: 6.0158e-05 - val_mse: 6.0158e-05\n",
      "Epoch 81/100\n",
      "44/44 [==============================] - 1s 21ms/step - loss: 4.5428e-05 - mse: 4.5428e-05 - val_loss: 4.4582e-05 - val_mse: 4.4582e-05\n",
      "Epoch 82/100\n",
      "44/44 [==============================] - 1s 22ms/step - loss: 3.9985e-05 - mse: 3.9985e-05 - val_loss: 4.2564e-05 - val_mse: 4.2564e-05\n",
      "Epoch 83/100\n",
      "44/44 [==============================] - 1s 22ms/step - loss: 3.7975e-05 - mse: 3.7975e-05 - val_loss: 4.0517e-05 - val_mse: 4.0517e-05\n",
      "Epoch 84/100\n",
      "44/44 [==============================] - 1s 21ms/step - loss: 3.7988e-05 - mse: 3.7988e-05 - val_loss: 5.2821e-05 - val_mse: 5.2821e-05\n",
      "Epoch 85/100\n",
      "44/44 [==============================] - 1s 22ms/step - loss: 4.0429e-05 - mse: 4.0429e-05 - val_loss: 3.6828e-05 - val_mse: 3.6828e-05\n",
      "Epoch 86/100\n",
      "44/44 [==============================] - 1s 22ms/step - loss: 3.6128e-05 - mse: 3.6128e-05 - val_loss: 4.3958e-05 - val_mse: 4.3958e-05\n",
      "Epoch 87/100\n",
      "44/44 [==============================] - 1s 22ms/step - loss: 3.5813e-05 - mse: 3.5813e-05 - val_loss: 3.7321e-05 - val_mse: 3.7321e-05\n",
      "Epoch 88/100\n",
      "44/44 [==============================] - 1s 21ms/step - loss: 3.4410e-05 - mse: 3.4410e-05 - val_loss: 3.7085e-05 - val_mse: 3.7085e-05\n",
      "Epoch 89/100\n",
      "44/44 [==============================] - 1s 22ms/step - loss: 3.2544e-05 - mse: 3.2544e-05 - val_loss: 3.2247e-05 - val_mse: 3.2247e-05\n",
      "Epoch 90/100\n",
      "44/44 [==============================] - 1s 22ms/step - loss: 3.1496e-05 - mse: 3.1496e-05 - val_loss: 3.0708e-05 - val_mse: 3.0708e-05\n",
      "Epoch 91/100\n",
      "44/44 [==============================] - 1s 21ms/step - loss: 2.9706e-05 - mse: 2.9706e-05 - val_loss: 3.1381e-05 - val_mse: 3.1381e-05\n",
      "Epoch 92/100\n",
      "44/44 [==============================] - 1s 21ms/step - loss: 2.9878e-05 - mse: 2.9878e-05 - val_loss: 2.9263e-05 - val_mse: 2.9263e-05\n",
      "Epoch 93/100\n",
      "44/44 [==============================] - 1s 20ms/step - loss: 2.7264e-05 - mse: 2.7264e-05 - val_loss: 3.0075e-05 - val_mse: 3.0075e-05\n",
      "Epoch 94/100\n",
      "44/44 [==============================] - 1s 20ms/step - loss: 2.8251e-05 - mse: 2.8251e-05 - val_loss: 3.1076e-05 - val_mse: 3.1076e-05\n",
      "Epoch 95/100\n",
      "44/44 [==============================] - 1s 20ms/step - loss: 2.8244e-05 - mse: 2.8244e-05 - val_loss: 2.6924e-05 - val_mse: 2.6924e-05\n",
      "Epoch 96/100\n",
      "44/44 [==============================] - 1s 20ms/step - loss: 2.7906e-05 - mse: 2.7906e-05 - val_loss: 3.1618e-05 - val_mse: 3.1618e-05\n",
      "Epoch 97/100\n",
      "44/44 [==============================] - 1s 20ms/step - loss: 2.6030e-05 - mse: 2.6030e-05 - val_loss: 2.6394e-05 - val_mse: 2.6394e-05\n",
      "Epoch 98/100\n",
      "44/44 [==============================] - 1s 20ms/step - loss: 2.6234e-05 - mse: 2.6234e-05 - val_loss: 3.7875e-05 - val_mse: 3.7875e-05\n",
      "Epoch 99/100\n",
      "44/44 [==============================] - 1s 19ms/step - loss: 2.5267e-05 - mse: 2.5267e-05 - val_loss: 4.0517e-05 - val_mse: 4.0517e-05\n",
      "Epoch 100/100\n",
      "44/44 [==============================] - 1s 18ms/step - loss: 2.4554e-05 - mse: 2.4554e-05 - val_loss: 2.3643e-05 - val_mse: 2.3643e-05\n"
     ]
    }
   ],
   "source": [
    "tf.random.set_seed(42)\n",
    "\n",
    "# Architecture of the NN model that predicts tdir_down\n",
    "model_1_tdir_down = Sequential([\n",
    "    \n",
    "    # Input layer\n",
    "    Input(shape=(53, 1)),\n",
    "    \n",
    "    # Hidden layer 1\n",
    "    Conv1D(filters=10, kernel_size=3, activation=\"relu\"),\n",
    "    \n",
    "    # Hidden layer 2\n",
    "    MaxPool1D(pool_size=2, strides=None),\n",
    "    \n",
    "    # Flatten the 3D tensor into a 1D vector\n",
    "    Flatten(),\n",
    "    \n",
    "    # Hidden layer 3\n",
    "    Dense(units=10, activation=\"relu\"),\n",
    "    \n",
    "    # Hidden layer 4\n",
    "    Dense(units=10, activation=\"relu\"),\n",
    "    \n",
    "    # Output layer\n",
    "    Dense(units=235002, activation=\"linear\"),\n",
    "])\n",
    "\n",
    "# Compile the model\n",
    "model_1_tdir_down.compile(loss=MSE,\n",
    "                          optimizer=Adam(learning_rate=0.001),\n",
    "                          metrics=[\"mse\"])\n",
    "\n",
    "# Fit the model\n",
    "loss_history_tdir_down_model_1 = model_1_tdir_down.fit(scaled_X_train, \n",
    "                                                       Y_train_tdir_down, \n",
    "                                                       epochs=100, \n",
    "                                                       batch_size=32,\n",
    "                                                       validation_data=(scaled_X_val, Y_val_tdir_down))"
   ]
  },
  {
   "cell_type": "markdown",
   "id": "15bcb586",
   "metadata": {},
   "source": [
    "- Note that we don't need to specify the number of rows in the **input** or **output layer**. We only need to specify the number of units (i.e., the number of columns / dimensions). The number of rows (samples) is determined by the number of input samples we pass to the model.\n",
    "- Note that **Dense** layers (fully connected layers) in neural networks are designed to process 1D vectors. When using convolutional layer in the NN, the output will be a 3D tensor. This 3D tensors needs to be flattened into a 1D vector before passing it to a Dense layer.\n",
    "- Note that this goes the other way around as well; convolutional layers expect 3D inputs.\n",
    "- So if you are using first convolutional layers, then dense layers, and again convolutional layers, you'll have to reshape the data accordingly.\n",
    "- Note that when defining the input_shape in the input layer in a 'Sequential' model, you only need to pass the dimensions that correspond to the number of *time steps* and the number of *features*.\n",
    "\n",
    "Regarding the *batch_size* argument of the *fit* function. A **batch** is a subset of the training data that is used to train the model in one iteration of the training process. In our case, we have 1382 samples. These samples are divided into so-called **mini-batches** according to the size defined by the *batch_size* argument. In the *model_1* above, a batch_size of 32 was used. This means that there will be $\\, 1382 \\, // \\, 32 = 43 \\,$ full-sized mini-batches of size 32, and since $\\, 1382 \\, / \\, 32 = 43.1875, \\,$ the last mini-batch will be smaller. During the training process within each **epoch**, the model sees the entire dataset once. This means that there will be **44** iterations during one epoch. After each iteration (i.e., after processing one mini-batch of size 32), forward propagation and backward propagation is performed, leading to an update of the model weights."
   ]
  },
  {
   "cell_type": "code",
   "execution_count": 46,
   "id": "ffa36fcc",
   "metadata": {},
   "outputs": [],
   "source": [
    "def plot_learning_curve(loss_history):\n",
    "    \"\"\"\n",
    "    Plots the learning curve (both training and validation) of the given model.\n",
    "    \n",
    "    Args:\n",
    "    loss_history -- loss history of the given model\n",
    "    \n",
    "    Returns:\n",
    "    None.\n",
    "    \"\"\"\n",
    "    num_epochs = len(loss_history.epoch)\n",
    "    fig, ax = plt.subplots(figsize=(8,6), dpi=100)\n",
    "    ax.plot(np.arange(1, num_epochs+1), loss_history.history[\"loss\"], color=\"blue\", label=\"train loss\", linestyle=\"dashed\")\n",
    "    ax.plot(np.arange(1, num_epochs+1), loss_history.history[\"val_loss\"], color=\"black\", label=\"validation loss\")\n",
    "    ax.set_title(\"Learning curve\", size=12)\n",
    "    ax.set_xlabel(\"Number of epochs\", size=12)\n",
    "    ax.set_ylabel(\"Cost function value\", size=12)\n",
    "    plt.legend();"
   ]
  },
  {
   "cell_type": "code",
   "execution_count": 47,
   "id": "3051e36e",
   "metadata": {},
   "outputs": [
    {
     "data": {
      "image/png": "[encoded data removed]",
      "text/plain": [
       "<Figure size 800x600 with 1 Axes>"
      ]
     },
     "metadata": {},
     "output_type": "display_data"
    }
   ],
   "source": [
    "plot_learning_curve(loss_history_tdir_down_model_1)"
   ]
  },
  {
   "cell_type": "code",
   "execution_count": 63,
   "id": "83f5f86d",
   "metadata": {},
   "outputs": [
    {
     "name": "stdout",
     "output_type": "stream",
     "text": [
      "44/44 [==============================] - 0s 6ms/step - loss: 2.2587e-05 - mse: 2.2587e-05\n",
      "6/6 [==============================] - 0s 6ms/step - loss: 2.3643e-05 - mse: 2.3643e-05\n",
      "Train MSE: 2.258678068756126e-05\n",
      "Validation MSE: 2.3642980522708967e-05\n"
     ]
    }
   ],
   "source": [
    "# model_1_tdir_down performance\n",
    "train_loss, train_mse = model_1_tdir_down.evaluate(scaled_X_train, Y_train_tdir_down)\n",
    "val_los, val_mse = model_1_tdir_down.evaluate(scaled_X_val, Y_val_tdir_down)\n",
    "\n",
    "print(f\"Train MSE: {train_mse}\")\n",
    "print(f\"Validation MSE: {val_mse}\")"
   ]
  }
 ],
 "metadata": {
  "kernelspec": {
   "display_name": "Python 3 (ipykernel)",
   "language": "python",
   "name": "python3"
  },
  "language_info": {
   "codemirror_mode": {
    "name": "ipython",
    "version": 3
   },
   "file_extension": ".py",
   "mimetype": "text/x-python",
   "name": "python",
   "nbconvert_exporter": "python",
   "pygments_lexer": "ipython3",
   "version": "3.9.18"
  }
 },
 "nbformat": 4,
 "nbformat_minor": 5
}
