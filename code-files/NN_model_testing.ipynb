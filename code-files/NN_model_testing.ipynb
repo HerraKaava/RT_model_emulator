{
 "cells": [
  {
   "cell_type": "markdown",
   "id": "edc2c1a0",
   "metadata": {},
   "source": [
    "<h3>Notes</h3>"
   ]
  },
  {
   "cell_type": "markdown",
   "id": "c43a6a5d",
   "metadata": {},
   "source": [
    "- Note that we don't need to specify the number of rows in the **input** or **output layer**. We only need to specify the number of units (i.e., the number of columns / dimensions). The number of rows (samples) is determined by the number of input samples we pass to the model.\n",
    "- Note that **Dense** layers (fully connected layers) in neural networks are designed to process 1D vectors. When using convolutional layer in the NN, the output will be a 3D tensor. This 3D tensors needs to be flattened into a 1D vector before passing it to a Dense layer.\n",
    "- Note that this goes the other way around as well; convolutional layers expect 3D inputs.\n",
    "- So if you are using first convolutional layers, then dense layers, and again convolutional layers, you'll have to reshape the data accordingly.\n",
    "- Note that when defining the input_shape in the input layer in a 'Sequential' model, you only need to pass the dimensions that correspond to the number of *time steps* and the number of *features*.\n",
    "- The 'rate' argument of the **Dropout** function is the probability of shutting a neuron off during **training**. Note that 'rate' is not deterministic. If $\\, \\text{rate}=0.5, \\,$ it does not mean that $\\, 50\\% \\,$ of the neurons necessarily get shut down, but rather that each individual neuron within a layer is going to be shut down with a probability of $\\, 0.5. \\,$\n",
    "- Note that **Dropout** is not applied during inference (prediction).\n",
    "- Note that **Dropout** is applied to the layer preceding the Dropout() function call. For example, if your architecture is as follows: $\\, \\text{Dense1} \\, \\boldsymbol{\\rightarrow} \\, \\text{Dropout} \\, \\boldsymbol{\\rightarrow} \\, \\text{Conv1}, \\,$ then Dropout will be applied to the outputs of the $\\, \\text{Dense1} \\,$ layer.\n",
    "\n",
    "Regarding the *batch_size* argument of the *fit* function. A **batch** is a subset of the training data that is used to train the model in one iteration of the training process. In our case, we have 1382 samples. These samples are divided into so-called **mini-batches** according to the size defined by the *batch_size* argument. In the *model_1* above, a batch_size of 32 was used. This means that there will be $\\, 1382 \\, // \\, 32 = 43 \\,$ full-sized mini-batches of size 32, and since $\\, 1382 \\, / \\, 32 = 43.1875, \\,$ the last mini-batch will be smaller. During the training process within each **epoch**, the model sees the entire dataset once. This means that there will be **44** iterations during one epoch. After each iteration (i.e., after processing one mini-batch of size 32), forward propagation and backward propagation is performed, leading to an update of the model weights."
   ]
  },
  {
   "cell_type": "markdown",
   "id": "4d79d625",
   "metadata": {},
   "source": [
    "<br>"
   ]
  },
  {
   "cell_type": "code",
   "execution_count": 47,
   "id": "9f7503f1",
   "metadata": {},
   "outputs": [],
   "source": [
    "import tensorflow as tf\n",
    "from tensorflow.keras.optimizers import Adam\n",
    "from tensorflow.keras.layers import Conv1D, MaxPool1D, Input, Dense, Flatten, Dropout\n",
    "from tensorflow.keras.models import Sequential\n",
    "from tensorflow.keras.losses import MSE\n",
    "from tensorflow.keras.regularizers import L2\n",
    "from tensorflow.keras.initializers import he_normal, glorot_uniform\n",
    "from sklearn.preprocessing import MinMaxScaler\n",
    "from sklearn.model_selection import train_test_split\n",
    "import numpy as np\n",
    "import pandas as pd\n",
    "import matplotlib.pyplot as plt\n",
    "from visualization_utility import plot_data\n",
    "import h5py\n",
    "import os\n",
    "import sys"
   ]
  },
  {
   "cell_type": "code",
   "execution_count": 2,
   "id": "2e848e69",
   "metadata": {},
   "outputs": [
    {
     "name": "stdout",
     "output_type": "stream",
     "text": [
      "2.15.0\n"
     ]
    }
   ],
   "source": [
    "print(tf.__version__)"
   ]
  },
  {
   "cell_type": "code",
   "execution_count": 3,
   "id": "c4b82c76",
   "metadata": {},
   "outputs": [],
   "source": [
    "# Folder where the input and output data are located\n",
    "NN_data_path = \"/fmi/projappl/project_2004400/jamin/data/libradtran_data/NN_data/\""
   ]
  },
  {
   "cell_type": "code",
   "execution_count": 4,
   "id": "8bacb25a",
   "metadata": {},
   "outputs": [],
   "source": [
    "X = pd.read_csv(NN_data_path + \"inputs.csv\", index_col=0)"
   ]
  },
  {
   "cell_type": "code",
   "execution_count": 5,
   "id": "ca4ff040",
   "metadata": {},
   "outputs": [],
   "source": [
    "def load_HDF5(folder_path: str, file_name: str):\n",
    "    \"\"\"\n",
    "    Reads in the output data for the NN model.\n",
    "    \n",
    "    Args:\n",
    "        folder_path: path to the folder containing the output data\n",
    "        file_name: name of the output data file\n",
    "        \n",
    "    Returns:\n",
    "        output_data: a NumPy array (tensor) containing the output data.\n",
    "    \"\"\"\n",
    "    with h5py.File(name=folder_path+file_name, mode=\"r\") as hf:\n",
    "        data = hf[\"output_data\"][:]\n",
    "    return data"
   ]
  },
  {
   "cell_type": "code",
   "execution_count": 6,
   "id": "87ba2363",
   "metadata": {},
   "outputs": [],
   "source": [
    "Y = load_HDF5(NN_data_path, \"outputs_subset.h5\")"
   ]
  },
  {
   "cell_type": "code",
   "execution_count": 7,
   "id": "46a83787",
   "metadata": {},
   "outputs": [
    {
     "name": "stdout",
     "output_type": "stream",
     "text": [
      "Input (X) shape: (1728, 54)\n",
      "Output (Y) shape: (1728, 235002, 8)\n"
     ]
    }
   ],
   "source": [
    "print(f\"Input (X) shape: {X.shape}\")\n",
    "print(f\"Output (Y) shape: {Y.shape}\")"
   ]
  },
  {
   "cell_type": "markdown",
   "id": "df3db8ff",
   "metadata": {},
   "source": [
    "- Note that the 8 columns of **Y** correspond to these variable (in this order): tdir_down, tdif_down, tdir_up, tdif_up, spherical_albedo, edir, edif, path_rad.\n",
    "- The order can be seen from the *create_subset* function in [THIS](https://github.com/monsieurformule/SummerProject/blob/main/code-files/Generate_NN_outputs.ipynb) notebook."
   ]
  },
  {
   "cell_type": "markdown",
   "id": "106c1797",
   "metadata": {},
   "source": [
    "Note that there are **1728** *matrices*, where each matrix of shape $\\, (235002, 8) \\,$ corresponds to one row in the inputs matrix. This leaves us with two choices:\n",
    "\n",
    "**1)** Build a NN where each input row predicts a matrix of shape $\\, (235002, 8). \\,$ \\\n",
    "**2)** Build **8** separate NNs, where each NN is taught to predict one vector of shape $\\, (235002, 1). \\,$\n",
    "\n",
    "In this notebook, we'll build **8** separate neural networks that each predicts a different feature of shape $\\, (235002, 1). \\,$"
   ]
  },
  {
   "cell_type": "markdown",
   "id": "c61bec03",
   "metadata": {},
   "source": [
    "<h3>Preparing the data for the neural network(s)</h3>"
   ]
  },
  {
   "cell_type": "code",
   "execution_count": 8,
   "id": "64cf513b",
   "metadata": {},
   "outputs": [
    {
     "data": {
      "text/html": [
       "<div>\n",
       "<style scoped>\n",
       "    .dataframe tbody tr th:only-of-type {\n",
       "        vertical-align: middle;\n",
       "    }\n",
       "\n",
       "    .dataframe tbody tr th {\n",
       "        vertical-align: top;\n",
       "    }\n",
       "\n",
       "    .dataframe thead th {\n",
       "        text-align: right;\n",
       "    }\n",
       "</style>\n",
       "<table border=\"1\" class=\"dataframe\">\n",
       "  <thead>\n",
       "    <tr style=\"text-align: right;\">\n",
       "      <th></th>\n",
       "      <th>atmosphere_file</th>\n",
       "      <th>sza</th>\n",
       "      <th>altitude</th>\n",
       "      <th>tau</th>\n",
       "      <th>2e-05</th>\n",
       "      <th>4e-05</th>\n",
       "      <th>6e-05</th>\n",
       "      <th>0.00012</th>\n",
       "      <th>0.00026</th>\n",
       "      <th>0.00062</th>\n",
       "      <th>...</th>\n",
       "      <th>324.0</th>\n",
       "      <th>372.0</th>\n",
       "      <th>426.0</th>\n",
       "      <th>487.0</th>\n",
       "      <th>554.0</th>\n",
       "      <th>628.0</th>\n",
       "      <th>710.0</th>\n",
       "      <th>802.0</th>\n",
       "      <th>902.0</th>\n",
       "      <th>1013.0</th>\n",
       "    </tr>\n",
       "  </thead>\n",
       "  <tbody>\n",
       "    <tr>\n",
       "      <th>0</th>\n",
       "      <td>afglms_Q1_0</td>\n",
       "      <td>25.0</td>\n",
       "      <td>0.0</td>\n",
       "      <td>0.05</td>\n",
       "      <td>248.7303</td>\n",
       "      <td>248.7303</td>\n",
       "      <td>248.7303</td>\n",
       "      <td>248.7303</td>\n",
       "      <td>248.7303</td>\n",
       "      <td>248.7303</td>\n",
       "      <td>...</td>\n",
       "      <td>215.0723</td>\n",
       "      <td>220.1957</td>\n",
       "      <td>225.84</td>\n",
       "      <td>232.0706</td>\n",
       "      <td>237.8445</td>\n",
       "      <td>243.4155</td>\n",
       "      <td>248.4294</td>\n",
       "      <td>252.3007</td>\n",
       "      <td>253.4411</td>\n",
       "      <td>249.7135</td>\n",
       "    </tr>\n",
       "    <tr>\n",
       "      <th>1</th>\n",
       "      <td>afglms_Q1_0</td>\n",
       "      <td>25.0</td>\n",
       "      <td>0.0</td>\n",
       "      <td>0.15</td>\n",
       "      <td>248.7303</td>\n",
       "      <td>248.7303</td>\n",
       "      <td>248.7303</td>\n",
       "      <td>248.7303</td>\n",
       "      <td>248.7303</td>\n",
       "      <td>248.7303</td>\n",
       "      <td>...</td>\n",
       "      <td>215.0723</td>\n",
       "      <td>220.1957</td>\n",
       "      <td>225.84</td>\n",
       "      <td>232.0706</td>\n",
       "      <td>237.8445</td>\n",
       "      <td>243.4155</td>\n",
       "      <td>248.4294</td>\n",
       "      <td>252.3007</td>\n",
       "      <td>253.4411</td>\n",
       "      <td>249.7135</td>\n",
       "    </tr>\n",
       "    <tr>\n",
       "      <th>2</th>\n",
       "      <td>afglms_Q1_0</td>\n",
       "      <td>25.0</td>\n",
       "      <td>0.0</td>\n",
       "      <td>0.30</td>\n",
       "      <td>248.7303</td>\n",
       "      <td>248.7303</td>\n",
       "      <td>248.7303</td>\n",
       "      <td>248.7303</td>\n",
       "      <td>248.7303</td>\n",
       "      <td>248.7303</td>\n",
       "      <td>...</td>\n",
       "      <td>215.0723</td>\n",
       "      <td>220.1957</td>\n",
       "      <td>225.84</td>\n",
       "      <td>232.0706</td>\n",
       "      <td>237.8445</td>\n",
       "      <td>243.4155</td>\n",
       "      <td>248.4294</td>\n",
       "      <td>252.3007</td>\n",
       "      <td>253.4411</td>\n",
       "      <td>249.7135</td>\n",
       "    </tr>\n",
       "    <tr>\n",
       "      <th>3</th>\n",
       "      <td>afglms_Q1_0</td>\n",
       "      <td>25.0</td>\n",
       "      <td>1.5</td>\n",
       "      <td>0.05</td>\n",
       "      <td>248.7303</td>\n",
       "      <td>248.7303</td>\n",
       "      <td>248.7303</td>\n",
       "      <td>248.7303</td>\n",
       "      <td>248.7303</td>\n",
       "      <td>248.7303</td>\n",
       "      <td>...</td>\n",
       "      <td>215.0723</td>\n",
       "      <td>220.1957</td>\n",
       "      <td>225.84</td>\n",
       "      <td>232.0706</td>\n",
       "      <td>237.8445</td>\n",
       "      <td>243.4155</td>\n",
       "      <td>248.4294</td>\n",
       "      <td>252.3007</td>\n",
       "      <td>253.4411</td>\n",
       "      <td>249.7135</td>\n",
       "    </tr>\n",
       "    <tr>\n",
       "      <th>4</th>\n",
       "      <td>afglms_Q1_0</td>\n",
       "      <td>25.0</td>\n",
       "      <td>1.5</td>\n",
       "      <td>0.15</td>\n",
       "      <td>248.7303</td>\n",
       "      <td>248.7303</td>\n",
       "      <td>248.7303</td>\n",
       "      <td>248.7303</td>\n",
       "      <td>248.7303</td>\n",
       "      <td>248.7303</td>\n",
       "      <td>...</td>\n",
       "      <td>215.0723</td>\n",
       "      <td>220.1957</td>\n",
       "      <td>225.84</td>\n",
       "      <td>232.0706</td>\n",
       "      <td>237.8445</td>\n",
       "      <td>243.4155</td>\n",
       "      <td>248.4294</td>\n",
       "      <td>252.3007</td>\n",
       "      <td>253.4411</td>\n",
       "      <td>249.7135</td>\n",
       "    </tr>\n",
       "  </tbody>\n",
       "</table>\n",
       "<p>5 rows × 54 columns</p>\n",
       "</div>"
      ],
      "text/plain": [
       "  atmosphere_file   sza  altitude   tau     2e-05     4e-05     6e-05  \\\n",
       "0     afglms_Q1_0  25.0       0.0  0.05  248.7303  248.7303  248.7303   \n",
       "1     afglms_Q1_0  25.0       0.0  0.15  248.7303  248.7303  248.7303   \n",
       "2     afglms_Q1_0  25.0       0.0  0.30  248.7303  248.7303  248.7303   \n",
       "3     afglms_Q1_0  25.0       1.5  0.05  248.7303  248.7303  248.7303   \n",
       "4     afglms_Q1_0  25.0       1.5  0.15  248.7303  248.7303  248.7303   \n",
       "\n",
       "    0.00012   0.00026   0.00062  ...     324.0     372.0   426.0     487.0  \\\n",
       "0  248.7303  248.7303  248.7303  ...  215.0723  220.1957  225.84  232.0706   \n",
       "1  248.7303  248.7303  248.7303  ...  215.0723  220.1957  225.84  232.0706   \n",
       "2  248.7303  248.7303  248.7303  ...  215.0723  220.1957  225.84  232.0706   \n",
       "3  248.7303  248.7303  248.7303  ...  215.0723  220.1957  225.84  232.0706   \n",
       "4  248.7303  248.7303  248.7303  ...  215.0723  220.1957  225.84  232.0706   \n",
       "\n",
       "      554.0     628.0     710.0     802.0     902.0    1013.0  \n",
       "0  237.8445  243.4155  248.4294  252.3007  253.4411  249.7135  \n",
       "1  237.8445  243.4155  248.4294  252.3007  253.4411  249.7135  \n",
       "2  237.8445  243.4155  248.4294  252.3007  253.4411  249.7135  \n",
       "3  237.8445  243.4155  248.4294  252.3007  253.4411  249.7135  \n",
       "4  237.8445  243.4155  248.4294  252.3007  253.4411  249.7135  \n",
       "\n",
       "[5 rows x 54 columns]"
      ]
     },
     "execution_count": 8,
     "metadata": {},
     "output_type": "execute_result"
    }
   ],
   "source": [
    "X.head()"
   ]
  },
  {
   "cell_type": "markdown",
   "id": "f6e4b448",
   "metadata": {},
   "source": [
    "- We don't need (or rather cannot use) the first column, which acts as an identifier for the inputs, in the NN."
   ]
  },
  {
   "cell_type": "code",
   "execution_count": 9,
   "id": "41a974bf",
   "metadata": {},
   "outputs": [],
   "source": [
    "X = X.drop(\"atmosphere_file\", axis=1)"
   ]
  },
  {
   "cell_type": "code",
   "execution_count": 10,
   "id": "756ee40d",
   "metadata": {},
   "outputs": [
    {
     "data": {
      "text/html": [
       "<div>\n",
       "<style scoped>\n",
       "    .dataframe tbody tr th:only-of-type {\n",
       "        vertical-align: middle;\n",
       "    }\n",
       "\n",
       "    .dataframe tbody tr th {\n",
       "        vertical-align: top;\n",
       "    }\n",
       "\n",
       "    .dataframe thead th {\n",
       "        text-align: right;\n",
       "    }\n",
       "</style>\n",
       "<table border=\"1\" class=\"dataframe\">\n",
       "  <thead>\n",
       "    <tr style=\"text-align: right;\">\n",
       "      <th></th>\n",
       "      <th>sza</th>\n",
       "      <th>altitude</th>\n",
       "      <th>tau</th>\n",
       "      <th>2e-05</th>\n",
       "      <th>4e-05</th>\n",
       "      <th>6e-05</th>\n",
       "      <th>0.00012</th>\n",
       "      <th>0.00026</th>\n",
       "      <th>0.00062</th>\n",
       "      <th>0.00164</th>\n",
       "      <th>...</th>\n",
       "      <th>324.0</th>\n",
       "      <th>372.0</th>\n",
       "      <th>426.0</th>\n",
       "      <th>487.0</th>\n",
       "      <th>554.0</th>\n",
       "      <th>628.0</th>\n",
       "      <th>710.0</th>\n",
       "      <th>802.0</th>\n",
       "      <th>902.0</th>\n",
       "      <th>1013.0</th>\n",
       "    </tr>\n",
       "  </thead>\n",
       "  <tbody>\n",
       "    <tr>\n",
       "      <th>0</th>\n",
       "      <td>25.0</td>\n",
       "      <td>0.0</td>\n",
       "      <td>0.05</td>\n",
       "      <td>248.7303</td>\n",
       "      <td>248.7303</td>\n",
       "      <td>248.7303</td>\n",
       "      <td>248.7303</td>\n",
       "      <td>248.7303</td>\n",
       "      <td>248.7303</td>\n",
       "      <td>248.7303</td>\n",
       "      <td>...</td>\n",
       "      <td>215.0723</td>\n",
       "      <td>220.1957</td>\n",
       "      <td>225.84</td>\n",
       "      <td>232.0706</td>\n",
       "      <td>237.8445</td>\n",
       "      <td>243.4155</td>\n",
       "      <td>248.4294</td>\n",
       "      <td>252.3007</td>\n",
       "      <td>253.4411</td>\n",
       "      <td>249.7135</td>\n",
       "    </tr>\n",
       "    <tr>\n",
       "      <th>1</th>\n",
       "      <td>25.0</td>\n",
       "      <td>0.0</td>\n",
       "      <td>0.15</td>\n",
       "      <td>248.7303</td>\n",
       "      <td>248.7303</td>\n",
       "      <td>248.7303</td>\n",
       "      <td>248.7303</td>\n",
       "      <td>248.7303</td>\n",
       "      <td>248.7303</td>\n",
       "      <td>248.7303</td>\n",
       "      <td>...</td>\n",
       "      <td>215.0723</td>\n",
       "      <td>220.1957</td>\n",
       "      <td>225.84</td>\n",
       "      <td>232.0706</td>\n",
       "      <td>237.8445</td>\n",
       "      <td>243.4155</td>\n",
       "      <td>248.4294</td>\n",
       "      <td>252.3007</td>\n",
       "      <td>253.4411</td>\n",
       "      <td>249.7135</td>\n",
       "    </tr>\n",
       "    <tr>\n",
       "      <th>2</th>\n",
       "      <td>25.0</td>\n",
       "      <td>0.0</td>\n",
       "      <td>0.30</td>\n",
       "      <td>248.7303</td>\n",
       "      <td>248.7303</td>\n",
       "      <td>248.7303</td>\n",
       "      <td>248.7303</td>\n",
       "      <td>248.7303</td>\n",
       "      <td>248.7303</td>\n",
       "      <td>248.7303</td>\n",
       "      <td>...</td>\n",
       "      <td>215.0723</td>\n",
       "      <td>220.1957</td>\n",
       "      <td>225.84</td>\n",
       "      <td>232.0706</td>\n",
       "      <td>237.8445</td>\n",
       "      <td>243.4155</td>\n",
       "      <td>248.4294</td>\n",
       "      <td>252.3007</td>\n",
       "      <td>253.4411</td>\n",
       "      <td>249.7135</td>\n",
       "    </tr>\n",
       "    <tr>\n",
       "      <th>3</th>\n",
       "      <td>25.0</td>\n",
       "      <td>1.5</td>\n",
       "      <td>0.05</td>\n",
       "      <td>248.7303</td>\n",
       "      <td>248.7303</td>\n",
       "      <td>248.7303</td>\n",
       "      <td>248.7303</td>\n",
       "      <td>248.7303</td>\n",
       "      <td>248.7303</td>\n",
       "      <td>248.7303</td>\n",
       "      <td>...</td>\n",
       "      <td>215.0723</td>\n",
       "      <td>220.1957</td>\n",
       "      <td>225.84</td>\n",
       "      <td>232.0706</td>\n",
       "      <td>237.8445</td>\n",
       "      <td>243.4155</td>\n",
       "      <td>248.4294</td>\n",
       "      <td>252.3007</td>\n",
       "      <td>253.4411</td>\n",
       "      <td>249.7135</td>\n",
       "    </tr>\n",
       "    <tr>\n",
       "      <th>4</th>\n",
       "      <td>25.0</td>\n",
       "      <td>1.5</td>\n",
       "      <td>0.15</td>\n",
       "      <td>248.7303</td>\n",
       "      <td>248.7303</td>\n",
       "      <td>248.7303</td>\n",
       "      <td>248.7303</td>\n",
       "      <td>248.7303</td>\n",
       "      <td>248.7303</td>\n",
       "      <td>248.7303</td>\n",
       "      <td>...</td>\n",
       "      <td>215.0723</td>\n",
       "      <td>220.1957</td>\n",
       "      <td>225.84</td>\n",
       "      <td>232.0706</td>\n",
       "      <td>237.8445</td>\n",
       "      <td>243.4155</td>\n",
       "      <td>248.4294</td>\n",
       "      <td>252.3007</td>\n",
       "      <td>253.4411</td>\n",
       "      <td>249.7135</td>\n",
       "    </tr>\n",
       "  </tbody>\n",
       "</table>\n",
       "<p>5 rows × 53 columns</p>\n",
       "</div>"
      ],
      "text/plain": [
       "    sza  altitude   tau     2e-05     4e-05     6e-05   0.00012   0.00026  \\\n",
       "0  25.0       0.0  0.05  248.7303  248.7303  248.7303  248.7303  248.7303   \n",
       "1  25.0       0.0  0.15  248.7303  248.7303  248.7303  248.7303  248.7303   \n",
       "2  25.0       0.0  0.30  248.7303  248.7303  248.7303  248.7303  248.7303   \n",
       "3  25.0       1.5  0.05  248.7303  248.7303  248.7303  248.7303  248.7303   \n",
       "4  25.0       1.5  0.15  248.7303  248.7303  248.7303  248.7303  248.7303   \n",
       "\n",
       "    0.00062   0.00164  ...     324.0     372.0   426.0     487.0     554.0  \\\n",
       "0  248.7303  248.7303  ...  215.0723  220.1957  225.84  232.0706  237.8445   \n",
       "1  248.7303  248.7303  ...  215.0723  220.1957  225.84  232.0706  237.8445   \n",
       "2  248.7303  248.7303  ...  215.0723  220.1957  225.84  232.0706  237.8445   \n",
       "3  248.7303  248.7303  ...  215.0723  220.1957  225.84  232.0706  237.8445   \n",
       "4  248.7303  248.7303  ...  215.0723  220.1957  225.84  232.0706  237.8445   \n",
       "\n",
       "      628.0     710.0     802.0     902.0    1013.0  \n",
       "0  243.4155  248.4294  252.3007  253.4411  249.7135  \n",
       "1  243.4155  248.4294  252.3007  253.4411  249.7135  \n",
       "2  243.4155  248.4294  252.3007  253.4411  249.7135  \n",
       "3  243.4155  248.4294  252.3007  253.4411  249.7135  \n",
       "4  243.4155  248.4294  252.3007  253.4411  249.7135  \n",
       "\n",
       "[5 rows x 53 columns]"
      ]
     },
     "execution_count": 10,
     "metadata": {},
     "output_type": "execute_result"
    }
   ],
   "source": [
    "X.head()"
   ]
  },
  {
   "cell_type": "code",
   "execution_count": 11,
   "id": "74f5f4ff",
   "metadata": {},
   "outputs": [
    {
     "data": {
      "text/plain": [
       "True"
      ]
     },
     "execution_count": 11,
     "metadata": {},
     "output_type": "execute_result"
    }
   ],
   "source": [
    "(X.dtypes.values == \"float64\").all()"
   ]
  },
  {
   "cell_type": "code",
   "execution_count": 12,
   "id": "06327078",
   "metadata": {},
   "outputs": [
    {
     "data": {
      "text/plain": [
       "pandas.core.frame.DataFrame"
      ]
     },
     "execution_count": 12,
     "metadata": {},
     "output_type": "execute_result"
    }
   ],
   "source": [
    "type(X)"
   ]
  },
  {
   "cell_type": "markdown",
   "id": "5c3072ed",
   "metadata": {},
   "source": [
    "- Notice that the inputs are still in the form of a Pandas DataFrame.\n",
    "- We want to change the inputs into NumPy arrays for train / validation splits, and tf.tensors for the NN."
   ]
  },
  {
   "cell_type": "code",
   "execution_count": 13,
   "id": "788495e0",
   "metadata": {},
   "outputs": [],
   "source": [
    "X = X.values"
   ]
  },
  {
   "cell_type": "code",
   "execution_count": 14,
   "id": "0ce718db",
   "metadata": {},
   "outputs": [
    {
     "data": {
      "text/plain": [
       "numpy.ndarray"
      ]
     },
     "execution_count": 14,
     "metadata": {},
     "output_type": "execute_result"
    }
   ],
   "source": [
    "type(X)"
   ]
  },
  {
   "cell_type": "markdown",
   "id": "544aec65",
   "metadata": {},
   "source": [
    "Next, we'll split the data into a (train | validation | test) split. To achieve this, we'll call sklearn's *train_test_split* function twice. The first call splits the data into a (train | temp) split. The second call splits the temp data into a  (validation | test) split."
   ]
  },
  {
   "cell_type": "code",
   "execution_count": 15,
   "id": "d53e448e",
   "metadata": {},
   "outputs": [],
   "source": [
    "# (X, Y) ==> (train | temp)\n",
    "X_train, X_temp, Y_train, Y_temp = train_test_split(X, Y, test_size=0.2, random_state=42)"
   ]
  },
  {
   "cell_type": "code",
   "execution_count": 16,
   "id": "8df15f50",
   "metadata": {},
   "outputs": [],
   "source": [
    "# temp ==> (validation | test)\n",
    "X_val, X_test, Y_val, Y_test = train_test_split(X_temp, Y_temp, test_size=0.5, random_state=42)"
   ]
  },
  {
   "cell_type": "code",
   "execution_count": 17,
   "id": "aecac3c0",
   "metadata": {},
   "outputs": [
    {
     "name": "stdout",
     "output_type": "stream",
     "text": [
      "########## Test data ##########\n",
      "X_train shape: (1382, 53)\n",
      "Y_train shape: (1382, 235002, 8)\n",
      "\n",
      "########## Validation data ##########\n",
      "X_val shape: (173, 53)\n",
      "Y_val shape: (173, 235002, 8)\n",
      "\n",
      "########## test data ##########\n",
      "X_test shape: (173, 53)\n",
      "Y_test shape: (173, 235002, 8)\n"
     ]
    }
   ],
   "source": [
    "print(\"########## Test data ##########\")\n",
    "print(f\"X_train shape: {X_train.shape}\")\n",
    "print(f\"Y_train shape: {Y_train.shape}\")\n",
    "print()\n",
    "print(\"########## Validation data ##########\")\n",
    "print(f\"X_val shape: {X_val.shape}\")\n",
    "print(f\"Y_val shape: {Y_val.shape}\")\n",
    "print()\n",
    "print(\"########## test data ##########\")\n",
    "print(f\"X_test shape: {X_test.shape}\")\n",
    "print(f\"Y_test shape: {Y_test.shape}\")"
   ]
  },
  {
   "cell_type": "markdown",
   "id": "43ae0bce",
   "metadata": {},
   "source": [
    "- $\\, 80\\% \\,$ of the data is used in the training set\n",
    "- $\\, 10\\% \\,$ of the data is used in the validation set\n",
    "- $\\, 10\\% \\,$ of the data is used in the test set"
   ]
  },
  {
   "cell_type": "code",
   "execution_count": 18,
   "id": "5fbd75ad",
   "metadata": {},
   "outputs": [],
   "source": [
    "# Scale the features for numerical stability\n",
    "\n",
    "scaler = MinMaxScaler(feature_range=(0, 1))\n",
    "scaler.fit(X_train)\n",
    "\n",
    "scaled_X_train = scaler.transform(X_train)\n",
    "scaled_X_val = scaler.transform(X_val)\n",
    "scaled_X_test = scaler.transform(X_test)"
   ]
  },
  {
   "cell_type": "markdown",
   "id": "f7f3fe95",
   "metadata": {},
   "source": [
    "- *MinMaxScaler* converts all feature values to the closed range [0, 1] while preserving the original distribution.\n",
    "- Note that the scaler is fit only on *X_train* to prevent data leakage."
   ]
  },
  {
   "cell_type": "code",
   "execution_count": 19,
   "id": "07ee2d03",
   "metadata": {},
   "outputs": [
    {
     "name": "stderr",
     "output_type": "stream",
     "text": [
      "2024-07-24 15:22:01.121773: E external/local_xla/xla/stream_executor/cuda/cuda_driver.cc:274] failed call to cuInit: CUDA_ERROR_NO_DEVICE: no CUDA-capable device is detected\n"
     ]
    }
   ],
   "source": [
    "# Convert the data to tf.tensors\n",
    "\n",
    "scaled_X_train = tf.cast(scaled_X_train, dtype=tf.float32)\n",
    "scaled_X_val = tf.cast(scaled_X_val, dtype=tf.float32)\n",
    "scaled_X_test = tf.cast(scaled_X_test, dtype=tf.float32)\n",
    "\n",
    "Y_train = tf.cast(Y_train, dtype=tf.float32)\n",
    "Y_val = tf.cast(Y_val, dtype=tf.float32)\n",
    "Y_test = tf.cast(Y_test, dtype=tf.float32)"
   ]
  },
  {
   "cell_type": "markdown",
   "id": "480c1b29",
   "metadata": {},
   "source": [
    "We still need to add an extra dimension for the input data in order to be able to use convolutional layers. Currently, the input data is of shape $ (\\text{num_samples}, \\, \\text{num_features}). $\n",
    "We'll modify the shape of the input data such that\n",
    "\n",
    "$$ (\\text{num_samples}, \\, \\text{num_features}) \\quad \\boldsymbol{\\rightarrow} \\quad (\\text{num_samples}, \\, \\text{num_steps}, \\, \\text{features}), $$\n",
    "\n",
    "where\n",
    "\n",
    "- **num_samples:** the number of samples in the dataset\n",
    "- **steps:** the length of the sequence (the number of discrete data points in our sequence, i.e., the number of features per sample) (this is analogous to the number of features in our original data when each feature is treated as a separate time step)\n",
    "- **features:** the number of features to consider at each time step (we'll set this to 1)\n",
    "\n",
    "This way, the reshaped input data will have each original feature treated as a time step in the sequence, with a single feature per time step."
   ]
  },
  {
   "cell_type": "code",
   "execution_count": 20,
   "id": "ef6c03dd",
   "metadata": {},
   "outputs": [],
   "source": [
    "# Adding an extra dimension to the input data\n",
    "scaled_X_train = tf.expand_dims(scaled_X_train, axis=-1)\n",
    "scaled_X_val = tf.expand_dims(scaled_X_val, axis=-1)\n",
    "scaled_X_test = tf.expand_dims(scaled_X_test, axis=-1)"
   ]
  },
  {
   "cell_type": "code",
   "execution_count": 21,
   "id": "964f9e12",
   "metadata": {},
   "outputs": [
    {
     "name": "stdout",
     "output_type": "stream",
     "text": [
      "scaled_X_train min: 0.0\n",
      "scaled_X_train max: 1.0\n",
      "scaled_X_train shape: (1382, 53, 1)\n",
      "\n",
      "scaled_X_val min: 0.0\n",
      "scaled_X_val max: 1.0\n",
      "scaled_X_val shape: (173, 53, 1)\n",
      "\n",
      "scaled_X_test min: 0.0\n",
      "scaled_X_test max: 1.0\n",
      "scaled_X_test min: (173, 53, 1)\n"
     ]
    }
   ],
   "source": [
    "print(f\"scaled_X_train min: {tf.reduce_min(scaled_X_train, axis=None).numpy()}\")\n",
    "print(f\"scaled_X_train max: {tf.reduce_max(scaled_X_train, axis=None).numpy()}\")\n",
    "print(f\"scaled_X_train shape: {scaled_X_train.shape}\")\n",
    "print()\n",
    "print(f\"scaled_X_val min: {tf.reduce_min(scaled_X_val, axis=None).numpy()}\")\n",
    "print(f\"scaled_X_val max: {tf.reduce_max(scaled_X_val, axis=None).numpy()}\")\n",
    "print(f\"scaled_X_val shape: {scaled_X_val.shape}\")\n",
    "print()\n",
    "print(f\"scaled_X_test min: {tf.reduce_min(scaled_X_test, axis=None).numpy()}\")\n",
    "print(f\"scaled_X_test max: {tf.reduce_max(scaled_X_test, axis=None).numpy()}\")\n",
    "print(f\"scaled_X_test min: {scaled_X_test.shape}\")"
   ]
  },
  {
   "cell_type": "markdown",
   "id": "6e6ca817",
   "metadata": {},
   "source": [
    "Next, I'll be creating the **8** different outputs."
   ]
  },
  {
   "cell_type": "code",
   "execution_count": 22,
   "id": "091a0657",
   "metadata": {},
   "outputs": [],
   "source": [
    "output_cols_in_order = [\"tdir_down\",\"tdif_down\",\"tdir_up\",\"tdif_up\",\"spherical_albedo\",\"edir\",\"edif\",\"path_rad\"]\n",
    "output_col_indices = {col_name: idx for idx, col_name in enumerate(output_cols_in_order)}"
   ]
  },
  {
   "cell_type": "code",
   "execution_count": 23,
   "id": "020a99ef",
   "metadata": {},
   "outputs": [
    {
     "data": {
      "text/plain": [
       "{'tdir_down': 0,\n",
       " 'tdif_down': 1,\n",
       " 'tdir_up': 2,\n",
       " 'tdif_up': 3,\n",
       " 'spherical_albedo': 4,\n",
       " 'edir': 5,\n",
       " 'edif': 6,\n",
       " 'path_rad': 7}"
      ]
     },
     "execution_count": 23,
     "metadata": {},
     "output_type": "execute_result"
    }
   ],
   "source": [
    "output_col_indices"
   ]
  },
  {
   "cell_type": "code",
   "execution_count": 24,
   "id": "3b5625f6",
   "metadata": {},
   "outputs": [
    {
     "name": "stdout",
     "output_type": "stream",
     "text": [
      "Shape of Y_train_tdir_down: (1382, 235002)\n",
      "Shape of Y_val_tdir_down: (173, 235002)\n",
      "Shape of Y_test_tdir_down: (173, 235002)\n"
     ]
    }
   ],
   "source": [
    "########## tdir_down ##########\n",
    "\n",
    "Y_train_tdir_down = Y_train[:, :, output_col_indices[\"tdir_down\"]]\n",
    "Y_val_tdir_down = Y_val[:, :, output_col_indices[\"tdir_down\"]]\n",
    "Y_test_tdir_down = Y_test[:, :, output_col_indices[\"tdir_down\"]]\n",
    "\n",
    "print(f\"Shape of Y_train_tdir_down: {Y_train_tdir_down.shape}\")\n",
    "print(f\"Shape of Y_val_tdir_down: {Y_val_tdir_down.shape}\")\n",
    "print(f\"Shape of Y_test_tdir_down: {Y_test_tdir_down.shape}\")"
   ]
  },
  {
   "cell_type": "code",
   "execution_count": 25,
   "id": "281bb1fc",
   "metadata": {},
   "outputs": [
    {
     "name": "stdout",
     "output_type": "stream",
     "text": [
      "Shape of Y_train_tdif_down: (1382, 235002)\n",
      "Shape of Y_val_tdif_down: (173, 235002)\n",
      "Shape of Y_test_tdif_down: (173, 235002)\n"
     ]
    }
   ],
   "source": [
    "########## tdif_down ##########\n",
    "\n",
    "Y_train_tdif_down = Y_train[:, :, output_col_indices[\"tdif_down\"]]\n",
    "Y_val_tdif_down = Y_val[:, :, output_col_indices[\"tdif_down\"]]\n",
    "Y_test_tdif_down = Y_test[:, :, output_col_indices[\"tdif_down\"]]\n",
    "\n",
    "print(f\"Shape of Y_train_tdif_down: {Y_train_tdif_down.shape}\")\n",
    "print(f\"Shape of Y_val_tdif_down: {Y_val_tdif_down.shape}\")\n",
    "print(f\"Shape of Y_test_tdif_down: {Y_test_tdif_down.shape}\")"
   ]
  },
  {
   "cell_type": "code",
   "execution_count": 26,
   "id": "741a50e7",
   "metadata": {},
   "outputs": [
    {
     "name": "stdout",
     "output_type": "stream",
     "text": [
      "Shape of Y_train_tdir_up: (1382, 235002)\n",
      "Shape of Y_val_tdir_up: (173, 235002)\n",
      "Shape of Y_test_tdir_up: (173, 235002)\n"
     ]
    }
   ],
   "source": [
    "########## tdir_up ##########\n",
    "\n",
    "Y_train_tdir_up = Y_train[:, :, output_col_indices[\"tdir_up\"]]\n",
    "Y_val_tdir_up = Y_val[:, :, output_col_indices[\"tdir_up\"]]\n",
    "Y_test_tdir_up = Y_test[:, :, output_col_indices[\"tdir_up\"]]\n",
    "\n",
    "print(f\"Shape of Y_train_tdir_up: {Y_train_tdir_up.shape}\")\n",
    "print(f\"Shape of Y_val_tdir_up: {Y_val_tdir_up.shape}\")\n",
    "print(f\"Shape of Y_test_tdir_up: {Y_test_tdir_up.shape}\")"
   ]
  },
  {
   "cell_type": "code",
   "execution_count": 27,
   "id": "3f544c9f",
   "metadata": {},
   "outputs": [
    {
     "name": "stdout",
     "output_type": "stream",
     "text": [
      "Shape of Y_train_tdif_up: (1382, 235002)\n",
      "Shape of Y_val_tdif_up: (173, 235002)\n",
      "Shape of Y_test_tdif_up: (173, 235002)\n"
     ]
    }
   ],
   "source": [
    "########## tdif_up ##########\n",
    "\n",
    "Y_train_tdif_up = Y_train[:, :, output_col_indices[\"tdif_up\"]]\n",
    "Y_val_tdif_up = Y_val[:, :, output_col_indices[\"tdif_up\"]]\n",
    "Y_test_tdif_up = Y_test[:, :, output_col_indices[\"tdif_up\"]]\n",
    "\n",
    "print(f\"Shape of Y_train_tdif_up: {Y_train_tdif_up.shape}\")\n",
    "print(f\"Shape of Y_val_tdif_up: {Y_val_tdif_up.shape}\")\n",
    "print(f\"Shape of Y_test_tdif_up: {Y_test_tdif_up.shape}\")"
   ]
  },
  {
   "cell_type": "code",
   "execution_count": 28,
   "id": "6d87b9c7",
   "metadata": {},
   "outputs": [
    {
     "name": "stdout",
     "output_type": "stream",
     "text": [
      "Shape of Y_train_spherical_albedo: (1382, 235002)\n",
      "Shape of Y_val_spherical_albedo: (173, 235002)\n",
      "Shape of Y_test_spherical_albedo: (173, 235002)\n"
     ]
    }
   ],
   "source": [
    "########## spherical_albedo ##########\n",
    "\n",
    "Y_train_spherical_albedo = Y_train[:, :, output_col_indices[\"spherical_albedo\"]]\n",
    "Y_val_spherical_albedo = Y_val[:, :, output_col_indices[\"spherical_albedo\"]]\n",
    "Y_test_spherical_albedo = Y_test[:, :, output_col_indices[\"spherical_albedo\"]]\n",
    "\n",
    "print(f\"Shape of Y_train_spherical_albedo: {Y_train_spherical_albedo.shape}\")\n",
    "print(f\"Shape of Y_val_spherical_albedo: {Y_val_spherical_albedo.shape}\")\n",
    "print(f\"Shape of Y_test_spherical_albedo: {Y_test_spherical_albedo.shape}\")"
   ]
  },
  {
   "cell_type": "code",
   "execution_count": 29,
   "id": "a79a7461",
   "metadata": {},
   "outputs": [
    {
     "name": "stdout",
     "output_type": "stream",
     "text": [
      "Shape of Y_train_edir: (1382, 235002)\n",
      "Shape of Y_val_edir: (173, 235002)\n",
      "Shape of Y_test_edir: (173, 235002)\n"
     ]
    }
   ],
   "source": [
    "########## edir ##########\n",
    "\n",
    "Y_train_edir = Y_train[:, :, output_col_indices[\"edir\"]]\n",
    "Y_val_edir = Y_val[:, :, output_col_indices[\"edir\"]]\n",
    "Y_test_edir = Y_test[:, :, output_col_indices[\"edir\"]]\n",
    "\n",
    "print(f\"Shape of Y_train_edir: {Y_train_edir.shape}\")\n",
    "print(f\"Shape of Y_val_edir: {Y_val_edir.shape}\")\n",
    "print(f\"Shape of Y_test_edir: {Y_test_edir.shape}\")"
   ]
  },
  {
   "cell_type": "code",
   "execution_count": 30,
   "id": "4fe0bd97",
   "metadata": {},
   "outputs": [
    {
     "name": "stdout",
     "output_type": "stream",
     "text": [
      "Shape of Y_train_edif: (1382, 235002)\n",
      "Shape of Y_val_edif: (173, 235002)\n",
      "Shape of Y_test_edif: (173, 235002)\n"
     ]
    }
   ],
   "source": [
    "########## edif ##########\n",
    "\n",
    "Y_train_edif = Y_train[:, :, output_col_indices[\"edif\"]]\n",
    "Y_val_edif = Y_val[:, :, output_col_indices[\"edif\"]]\n",
    "Y_test_edif = Y_test[:, :, output_col_indices[\"edif\"]]\n",
    "\n",
    "print(f\"Shape of Y_train_edif: {Y_train_edif.shape}\")\n",
    "print(f\"Shape of Y_val_edif: {Y_val_edif.shape}\")\n",
    "print(f\"Shape of Y_test_edif: {Y_test_edif.shape}\")"
   ]
  },
  {
   "cell_type": "code",
   "execution_count": 31,
   "id": "f4904ec3",
   "metadata": {},
   "outputs": [
    {
     "name": "stdout",
     "output_type": "stream",
     "text": [
      "Shape of Y_train_path_rad: (1382, 235002)\n",
      "Shape of Y_val_path_rad: (173, 235002)\n",
      "Shape of Y_test_path_rad: (173, 235002)\n"
     ]
    }
   ],
   "source": [
    "########## path_rad ##########\n",
    "\n",
    "Y_train_path_rad = Y_train[:, :, output_col_indices[\"path_rad\"]]\n",
    "Y_val_path_rad = Y_val[:, :, output_col_indices[\"path_rad\"]]\n",
    "Y_test_path_rad = Y_test[:, :, output_col_indices[\"path_rad\"]]\n",
    "\n",
    "print(f\"Shape of Y_train_path_rad: {Y_train_path_rad.shape}\")\n",
    "print(f\"Shape of Y_val_path_rad: {Y_val_path_rad.shape}\")\n",
    "print(f\"Shape of Y_test_path_rad: {Y_test_path_rad.shape}\")"
   ]
  },
  {
   "cell_type": "markdown",
   "id": "4799292f",
   "metadata": {},
   "source": [
    "<h3>Creating the baseline NN model</h3>"
   ]
  },
  {
   "cell_type": "markdown",
   "id": "1da42846",
   "metadata": {},
   "source": [
    "A *baseline* model is a simple model or an existing result that one sets up when beginning a machine learning experiment. The goal is to beat this baseline model with experimenting. In deep learning, there is almost infinite amount of architectures one could create. For this reason, one of the best ways to get started is to start with something simple and see if it works with your data, and just then introduce complexity to the model as required."
   ]
  },
  {
   "cell_type": "markdown",
   "id": "10646843",
   "metadata": {},
   "source": [
    "<h3>tdir_up</h3>"
   ]
  },
  {
   "cell_type": "code",
   "execution_count": 32,
   "id": "c1462435",
   "metadata": {},
   "outputs": [
    {
     "name": "stdout",
     "output_type": "stream",
     "text": [
      "Range of tdir_down: [0.0, 0.92564]\n"
     ]
    }
   ],
   "source": [
    "tdir_down_min = np.round(np.min(Y[:, :, output_col_indices[\"tdir_down\"]].ravel()), 5)\n",
    "tdir_down_max = np.round(np.max(Y[:, :, output_col_indices[\"tdir_down\"]].ravel()), 5)\n",
    "print(f\"Range of tdir_down: [{tdir_down_min}, {tdir_down_max}]\")"
   ]
  },
  {
   "cell_type": "code",
   "execution_count": 98,
   "id": "2c43f452",
   "metadata": {},
   "outputs": [],
   "source": [
    "def model_1(X_train, Y_train, X_val, Y_val, num_epochs: int, batch_size: int, output_var_name):\n",
    "    \"\"\"\n",
    "    Builds, compiles, fits, and plots the learning curve of a NN.\n",
    "    \n",
    "    Args:\n",
    "    X -- the input dataset\n",
    "    Y -- the output dataset\n",
    "    num_epochs -- the number of epochs\n",
    "    batch_size -- the batch size\n",
    "    val_data -- validation data to be used in the training process of the NN\n",
    "    output_var_name -- name of the output variable that the NN model predicts\n",
    "    \n",
    "    Prints:\n",
    "    - train MSE\n",
    "    - validation MSE\n",
    "    \n",
    "    Returns:\n",
    "    model -- the fitted neural network model.\n",
    "    \"\"\"\n",
    "    #tf.random.set_seed(42)\n",
    "    \n",
    "    # Architecture of the NN model\n",
    "    model = Sequential([\n",
    "        \n",
    "        Input(shape=(53, 1)),\n",
    "        \n",
    "        # Hidden layer 1\n",
    "        Conv1D(filters=10, kernel_size=3, kernel_initializer=he_normal(), activation=\"relu\"),\n",
    "        \n",
    "        # Hidden layer 2\n",
    "        MaxPool1D(pool_size=2, strides=None),\n",
    "        \n",
    "        # Flatten the 3D tensor into a 1D vector\n",
    "        Flatten(),\n",
    "        \n",
    "        # Hidden layer 3\n",
    "        Dense(units=60, kernel_initializer=he_normal(), activation=\"relu\"),\n",
    "        \n",
    "        # Hidden layer 4\n",
    "        Dense(units=60, kernel_initializer=he_normal(), activation=\"relu\"),\n",
    "\n",
    "        # Output layer\n",
    "        Dense(units=235002, kernel_initializer=glorot_uniform(), activation=\"linear\"),\n",
    "    ])\n",
    "    \n",
    "    # Compile the model\n",
    "    model.compile(loss=MSE,\n",
    "                  optimizer=Adam(),\n",
    "                  metrics=[\"mse\"])\n",
    "    \n",
    "    # Fit the model\n",
    "    loss_history = model.fit(X_train, \n",
    "                             Y_train, \n",
    "                             epochs=num_epochs, \n",
    "                             batch_size=batch_size, \n",
    "                             validation_data=(X_val, Y_val))\n",
    "    \n",
    "    # Train error\n",
    "    train_loss, train_mse = model.evaluate(X_train, Y_train)\n",
    "    \n",
    "    # Validation error\n",
    "    val_loss, val_mse = model.evaluate(X_val, Y_val)\n",
    "    \n",
    "    print(\"########################################\")\n",
    "    print(f\"Train MSE: {train_mse}\")\n",
    "    print(f\"Validation MSE: {val_mse}\")\n",
    "    print(\"########################################\")\n",
    "    \n",
    "    def plot_learning_curve(loss_history):\n",
    "        num_epochs = len(loss_history.epoch)\n",
    "        fig, ax = plt.subplots(figsize=(8,6), dpi=100)\n",
    "        ax.plot(np.arange(1, num_epochs+1), loss_history.history[\"loss\"], color=\"blue\", label=\"train loss\", linestyle=\"dashed\")\n",
    "        ax.plot(np.arange(1, num_epochs+1), loss_history.history[\"val_loss\"], color=\"black\", label=\"validation loss\")\n",
    "        ax.set_title(f\"Learning curve for {output_var_name}\", size=12)\n",
    "        ax.set_xlabel(\"Number of epochs\", size=12)\n",
    "        ax.set_ylabel(\"Cost function value\", size=12)\n",
    "        plt.legend();\n",
    "        \n",
    "    # Plot the learning curve\n",
    "    plot_learning_curve(loss_history)\n",
    "    \n",
    "    # Arttu's plot\n",
    "    plot_data(y_true=Y_val,\n",
    "              y_pred=model.predict(X_val),\n",
    "              title=\"Emulator result\",\n",
    "              x_label=f\"{output_var_name} true\",\n",
    "              y_label=f\"{output_var_name} emulated\",\n",
    "              error_bar_on=True)\n",
    "    \n",
    "    return model"
   ]
  },
  {
   "cell_type": "code",
   "execution_count": 99,
   "id": "ad37b98d",
   "metadata": {
    "scrolled": false
   },
   "outputs": [
    {
     "name": "stdout",
     "output_type": "stream",
     "text": [
      "Epoch 1/10\n",
      "44/44 [==============================] - 3s 44ms/step - loss: 0.1871 - mse: 0.1871 - val_loss: 0.0274 - val_mse: 0.0274\n",
      "Epoch 2/10\n",
      "44/44 [==============================] - 2s 41ms/step - loss: 0.0240 - mse: 0.0240 - val_loss: 0.0115 - val_mse: 0.0115\n",
      "Epoch 3/10\n",
      "44/44 [==============================] - 2s 43ms/step - loss: 0.0085 - mse: 0.0085 - val_loss: 0.0044 - val_mse: 0.0044\n",
      "Epoch 4/10\n",
      "44/44 [==============================] - 2s 41ms/step - loss: 0.0032 - mse: 0.0032 - val_loss: 0.0020 - val_mse: 0.0020\n",
      "Epoch 5/10\n",
      "44/44 [==============================] - 2s 41ms/step - loss: 0.0019 - mse: 0.0019 - val_loss: 0.0014 - val_mse: 0.0014\n",
      "Epoch 6/10\n",
      "44/44 [==============================] - 2s 41ms/step - loss: 0.0012 - mse: 0.0012 - val_loss: 8.9988e-04 - val_mse: 8.9988e-04\n",
      "Epoch 7/10\n",
      "44/44 [==============================] - 2s 43ms/step - loss: 7.8016e-04 - mse: 7.8016e-04 - val_loss: 5.0338e-04 - val_mse: 5.0338e-04\n",
      "Epoch 8/10\n",
      "44/44 [==============================] - 2s 41ms/step - loss: 4.8517e-04 - mse: 4.8517e-04 - val_loss: 3.3997e-04 - val_mse: 3.3997e-04\n",
      "Epoch 9/10\n",
      "44/44 [==============================] - 2s 40ms/step - loss: 3.3989e-04 - mse: 3.3989e-04 - val_loss: 2.7619e-04 - val_mse: 2.7619e-04\n",
      "Epoch 10/10\n",
      "44/44 [==============================] - 2s 43ms/step - loss: 2.3451e-04 - mse: 2.3451e-04 - val_loss: 1.9663e-04 - val_mse: 1.9663e-04\n",
      "44/44 [==============================] - 0s 7ms/step - loss: 1.9344e-04 - mse: 1.9344e-04\n",
      "6/6 [==============================] - 0s 7ms/step - loss: 1.9663e-04 - mse: 1.9663e-04\n",
      "########################################\n",
      "Train MSE: 0.00019344480824656785\n",
      "Validation MSE: 0.0001966276904568076\n",
      "########################################\n",
      "6/6 [==============================] - 0s 4ms/step\n"
     ]
    },
    {
     "data": {
      "image/png": "[encoded data removed]",
      "text/plain": [
       "<Figure size 800x600 with 1 Axes>"
      ]
     },
     "metadata": {},
     "output_type": "display_data"
    },
    {
     "data": {
      "image/png": "[encoded data removed]",
      "text/plain": [
       "<Figure size 800x600 with 2 Axes>"
      ]
     },
     "metadata": {},
     "output_type": "display_data"
    }
   ],
   "source": [
    "model_1_tdir_down = model_1(X_train=scaled_X_train, \n",
    "                            Y_train=Y_train_tdir_up,\n",
    "                            X_val=scaled_X_val,\n",
    "                            Y_val=Y_val_tdir_up,\n",
    "                            num_epochs=10,\n",
    "                            batch_size=32,\n",
    "                            output_var_name=\"tdir_up\")"
   ]
  }
 ],
 "metadata": {
  "kernelspec": {
   "display_name": "Python 3 (ipykernel)",
   "language": "python",
   "name": "python3"
  },
  "language_info": {
   "codemirror_mode": {
    "name": "ipython",
    "version": 3
   },
   "file_extension": ".py",
   "mimetype": "text/x-python",
   "name": "python",
   "nbconvert_exporter": "python",
   "pygments_lexer": "ipython3",
   "version": "3.9.18"
  }
 },
 "nbformat": 4,
 "nbformat_minor": 5
}
