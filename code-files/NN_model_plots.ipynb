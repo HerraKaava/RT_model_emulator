{
 "cells": [
  {
   "cell_type": "code",
   "execution_count": 1,
   "id": "6ee2e791",
   "metadata": {},
   "outputs": [],
   "source": [
    "import numpy as np\n",
    "import matplotlib.pyplot as plt\n",
    "import random"
   ]
  },
  {
   "cell_type": "code",
   "execution_count": 2,
   "id": "67232533",
   "metadata": {},
   "outputs": [],
   "source": [
    "def plot_learning_curve(loss_history, output_name, save_fig=False, fig_name=None):\n",
    "    \"\"\"\n",
    "    Plots the learning curve of the fitted NN model.\n",
    "    \n",
    "    Args:\n",
    "    loss_history -- loss_history of the fitted NN model\n",
    "    output_name -- name of the output variable\n",
    "    save_fig -- if True, saves the figure to the current working directory\n",
    "    fig_name -- name of the figure to be saved\n",
    "    \n",
    "    Returns:\n",
    "    None.\n",
    "    \"\"\"\n",
    "    num_epochs = len(loss_history.epoch)\n",
    "    fig, ax = plt.subplots(figsize=(8,6), dpi=100)\n",
    "    ax.plot(np.arange(1, num_epochs+1), loss_history.history[\"loss\"], color=\"blue\", label=\"train loss\", linestyle=\"dashed\")\n",
    "    ax.plot(np.arange(1, num_epochs+1), loss_history.history[\"val_loss\"], color=\"black\", label=\"validation loss\")\n",
    "    ax.set_title(f\"Learning curve for {output_name}\", size=12)\n",
    "    ax.set_xlabel(\"Number of epochs\", size=12)\n",
    "    ax.set_ylabel(\"Cost function value\", size=12)\n",
    "    plt.legend();"
   ]
  },
  {
   "cell_type": "code",
   "execution_count": 3,
   "id": "cdbdff74",
   "metadata": {},
   "outputs": [],
   "source": [
    "def plot_random(Y_preds, X_val, Y_val, output_name, save_fig=False, fig_name=None):\n",
    "    \"\"\"\n",
    "    Plots a randomly chosen emulated edif and true edif.\n",
    "    Note that the index is randomly chosen, and the same index is used for both plots.\n",
    "    \n",
    "    Args:\n",
    "    Y_preds -- predictions for edir made by the NN model\n",
    "    X_val -- the input validation data\n",
    "    Y_val -- the output validation data\n",
    "    output_name -- name of the output variable\n",
    "    save_fig -- if True, saves the figure to the current working directory\n",
    "    fig_name -- name of the figure to be saved\n",
    "    \"\"\"\n",
    "    if not isinstance(Y_val, np.ndarray):\n",
    "        Y_val = Y_val.numpy()\n",
    "    random_idx = random.randint(0, Y_val.shape[0])\n",
    "    fig, ax = plt.subplots(figsize=(8,6), dpi=100)\n",
    "    ax.plot(np.arange(Y_val.shape[1]), Y_val[random_idx, :], color=\"orange\", label=f\"{output_name} true\")\n",
    "    ax.plot(np.arange(Y_preds.shape[1]), Y_preds[random_idx, :], color=\"blue\", label=f\"{output_name} emulated\")\n",
    "    plt.legend();\n",
    "    if save_fig:\n",
    "        fig.savefig(fig_name + \".png\")"
   ]
  },
  {
   "cell_type": "code",
   "execution_count": 4,
   "id": "54dcc16b",
   "metadata": {},
   "outputs": [],
   "source": [
    "def plot_relative_errors(Y_preds, X_val, Y_val, mode: str, epsilon=1e-07, save_fig=False, fig_name=None):\n",
    "    \"\"\"\n",
    "    Plots the relative residuals of the whole validation data.\n",
    "    \n",
    "    Args:\n",
    "    Y_preds -- predictions for edir made by the NN model\n",
    "    X_val -- the input validation data\n",
    "    Y_val -- the output validation data\n",
    "    mode -- whether to use filtering or numerical stabilizing when calculating the relative errors\n",
    "    epsilon -- a small constant for numerical stability (to deal with division by zero error)\n",
    "    save_fig -- if True, saves the figure to the current working directory\n",
    "    fig_name -- name of the figure to be saved\n",
    "    \n",
    "    Returns:\n",
    "    None.\n",
    "    \n",
    "    Notes:\n",
    "    - To get the relative errors (residuals), divide the residuals with the true output values (Y_val).\n",
    "    - If mode is \"eps\", a small constant is added to Y_val in the denominator when scaling the errors for numerical stability.\n",
    "    - If mode is \"filter\", Y_val is filtered such that zero-valued outputs are excluded.\n",
    "    - Note that when Y_val is filtered to exclude zeros, the corresponding predictions from Y_preds are also removed.\n",
    "    \"\"\"\n",
    "    mode = mode.lower()\n",
    "    assert mode in [\"filter\", \"eps\"], \"The specified mode not found\"\n",
    "    \n",
    "    if not isinstance(Y_val, np.ndarray):\n",
    "        Y_val = Y_val.numpy()    \n",
    "        \n",
    "    if mode == \"filter\":\n",
    "        # A boolean mask to identify non-zero elements from Y_val\n",
    "        mask = Y_val != 0\n",
    "        # Apply the boolean mask to both Y_val and Y_preds\n",
    "        Y_val_filtered = Y_val[mask]\n",
    "        Y_preds_filtered = Y_preds[mask]\n",
    "        # Calculate errors\n",
    "        relative_residuals = (Y_preds_filtered.ravel() - Y_val_filtered.ravel()) / Y_val_filtered.ravel()\n",
    "        \n",
    "    elif mode == \"eps\":\n",
    "        # Calculate errors\n",
    "        relative_residuals = (Y_preds.ravel() - Y_val.ravel()) / (Y_val.ravel() + epsilon)\n",
    "        \n",
    "    fig, ax = plt.subplots(figsize=(8,6), dpi=100)\n",
    "    ax.plot(relative_residuals, color=\"black\")\n",
    "    ax.set_title(\"Relative errors\", size=12);\n",
    "    if save_fig:\n",
    "        fig.savefig(fig_name + \".png\")"
   ]
  },
  {
   "cell_type": "code",
   "execution_count": 5,
   "id": "1b800701",
   "metadata": {},
   "outputs": [],
   "source": [
    "def plot_errors_hist(Y_preds, X_val, Y_val, save_fig=False, fig_name=None):\n",
    "    \"\"\"\n",
    "    Plots the raw residuals (i.e., not scaled/normalized) of the whole validation data.\n",
    "    \n",
    "    Args:\n",
    "    Y_preds -- predictions for edir made by the NN model\n",
    "    X_val -- the input validation data\n",
    "    Y_val -- the output validation data\n",
    "    save_fig -- if True, saves the figure to the current working directory\n",
    "    fig_name -- name of the figure to be saved\n",
    "    \n",
    "    Returns:\n",
    "    None.\n",
    "    \"\"\"\n",
    "    if not isinstance(Y_val, np.ndarray):\n",
    "        Y_val = Y_val.numpy()\n",
    "    residuals = Y_preds.ravel() - Y_val.ravel()\n",
    "    fig, ax = plt.subplots(figsize=(8,6), dpi=100)\n",
    "    ax.hist(residuals, bins=100, edgecolor=\"black\")\n",
    "    ax.set_title(\"Raw errors\", size=12);\n",
    "    if save_fig:\n",
    "        fig.savefig(fig_name + \".png\")"
   ]
  },
  {
   "cell_type": "markdown",
   "id": "84a46b3a",
   "metadata": {},
   "source": [
    "<h3>Convert the notebook to .py script</h3>"
   ]
  },
  {
   "cell_type": "code",
   "execution_count": 6,
   "id": "96b03480",
   "metadata": {},
   "outputs": [
    {
     "name": "stdout",
     "output_type": "stream",
     "text": [
      "[NbConvertApp] Converting notebook NN_model_plots.ipynb to script\n",
      "[NbConvertApp] Writing 5394 bytes to NN_model_plots.py\n"
     ]
    }
   ],
   "source": [
    "!jupyter nbconvert --to script NN_model_plots.ipynb"
   ]
  },
  {
   "cell_type": "markdown",
   "id": "9961b1be",
   "metadata": {},
   "source": [
    "- Jupyter notebooks need to be converted to python scripts ('.py' files) to be imported directly into another notebook / script.\n",
    "- Note that this notebook itself is not converted into a '.py' file, but rather a copy is made of this notebook as a '.py' file.\n",
    "\n"
   ]
  }
 ],
 "metadata": {
  "kernelspec": {
   "display_name": "Python 3 (ipykernel)",
   "language": "python",
   "name": "python3"
  },
  "language_info": {
   "codemirror_mode": {
    "name": "ipython",
    "version": 3
   },
   "file_extension": ".py",
   "mimetype": "text/x-python",
   "name": "python",
   "nbconvert_exporter": "python",
   "pygments_lexer": "ipython3",
   "version": "3.9.18"
  }
 },
 "nbformat": 4,
 "nbformat_minor": 5
}
