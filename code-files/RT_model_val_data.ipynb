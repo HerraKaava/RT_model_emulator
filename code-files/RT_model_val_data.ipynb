{
 "cells": [
  {
   "cell_type": "code",
   "execution_count": 5,
   "id": "2dc50c57",
   "metadata": {},
   "outputs": [],
   "source": [
    "import numpy\n",
    "import h5py\n",
    "import os"
   ]
  },
  {
   "cell_type": "code",
   "execution_count": 6,
   "id": "20ca2ae6",
   "metadata": {},
   "outputs": [],
   "source": [
    "def load_HDF5(file_path):\n",
    "    with h5py.File(name=file_path, mode=\"r\") as hf:\n",
    "        data = hf[\"output_data\"][:]\n",
    "    return data"
   ]
  },
  {
   "cell_type": "code",
   "execution_count": 7,
   "id": "3daec4f5",
   "metadata": {},
   "outputs": [],
   "source": [
    "def load_RT_model_outputs(path: str):\n",
    "    \"\"\"\n",
    "    Loads the emulators for the following transfer functions:\n",
    "    edif, edir, path_rad, spherical_albedo, tdif_up, tdir_up.\n",
    "    \"\"\"\n",
    "    output_dict = {}\n",
    "    output_dict[\"edif_val_RT\"] = load_HDF5(path + \"edif_val_RT.h5\")\n",
    "    output_dict[\"edir_val_RT\"] = load_HDF5(path + \"edir_val_RT.h5\")\n",
    "    output_dict[\"path_rad_val_RT\"] = load_HDF5(path + \"path_rad_val_RT.h5\")\n",
    "    output_dict[\"spherical_albedo_val_RT\"] = load_HDF5(path + \"spherical_albedo_val_RT.h5\")\n",
    "    output_dict[\"tdif_up_val_RT\"] = load_HDF5(path + \"tdif_up_val_RT.h5\")\n",
    "    output_dict[\"tdir_up_val_RT\"] = load_HDF5(path + \"tdir_up_val_RT.h5\")\n",
    "    return output_dict"
   ]
  },
  {
   "cell_type": "markdown",
   "id": "3ee6d594",
   "metadata": {},
   "source": [
    "<h3>Convert into .py file</h3>"
   ]
  },
  {
   "cell_type": "code",
   "execution_count": 8,
   "id": "5b9a8ab8",
   "metadata": {},
   "outputs": [
    {
     "name": "stdout",
     "output_type": "stream",
     "text": [
      "[NbConvertApp] Converting notebook RT_model_val_data.ipynb to script\n",
      "[NbConvertApp] Writing 1295 bytes to RT_model_val_data.py\n"
     ]
    }
   ],
   "source": [
    "!jupyter nbconvert --to script RT_model_val_data.ipynb"
   ]
  },
  {
   "cell_type": "markdown",
   "id": "b6493880",
   "metadata": {},
   "source": [
    "- Jupyter notebooks need to be converted to python scripts ('.py' files) to be imported directly into another notebook / script.\n",
    "- Note that this notebook is not converted into a .py file, but rather a copy of this notebook is made as a .py script."
   ]
  }
 ],
 "metadata": {
  "kernelspec": {
   "display_name": "Python 3 (ipykernel)",
   "language": "python",
   "name": "python3"
  },
  "language_info": {
   "codemirror_mode": {
    "name": "ipython",
    "version": 3
   },
   "file_extension": ".py",
   "mimetype": "text/x-python",
   "name": "python",
   "nbconvert_exporter": "python",
   "pygments_lexer": "ipython3",
   "version": "3.9.18"
  }
 },
 "nbformat": 4,
 "nbformat_minor": 5
}
