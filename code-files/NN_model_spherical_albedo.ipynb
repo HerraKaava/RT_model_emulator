{
 "cells": [
  {
   "cell_type": "code",
   "execution_count": 1,
   "id": "f7ce0b86",
   "metadata": {},
   "outputs": [
    {
     "name": "stderr",
     "output_type": "stream",
     "text": [
      "2024-08-18 12:54:59.494705: I tensorflow/core/util/port.cc:113] oneDNN custom operations are on. You may see slightly different numerical results due to floating-point round-off errors from different computation orders. To turn them off, set the environment variable `TF_ENABLE_ONEDNN_OPTS=0`.\n",
      "2024-08-18 12:55:00.498119: E external/local_xla/xla/stream_executor/cuda/cuda_dnn.cc:9261] Unable to register cuDNN factory: Attempting to register factory for plugin cuDNN when one has already been registered\n",
      "2024-08-18 12:55:00.498139: E external/local_xla/xla/stream_executor/cuda/cuda_fft.cc:607] Unable to register cuFFT factory: Attempting to register factory for plugin cuFFT when one has already been registered\n",
      "2024-08-18 12:55:00.635820: E external/local_xla/xla/stream_executor/cuda/cuda_blas.cc:1515] Unable to register cuBLAS factory: Attempting to register factory for plugin cuBLAS when one has already been registered\n",
      "2024-08-18 12:55:00.887679: I tensorflow/core/platform/cpu_feature_guard.cc:182] This TensorFlow binary is optimized to use available CPU instructions in performance-critical operations.\n",
      "To enable the following instructions: AVX2 AVX512F AVX512_VNNI FMA, in other operations, rebuild TensorFlow with the appropriate compiler flags.\n"
     ]
    },
    {
     "name": "stdout",
     "output_type": "stream",
     "text": [
      "[NbConvertApp] Converting notebook visualization_utility.ipynb to script\n",
      "[NbConvertApp] Writing 7407 bytes to visualization_utility.py\n",
      "[NbConvertApp] Converting notebook NN_model_plots.ipynb to script\n",
      "[NbConvertApp] Writing 5394 bytes to NN_model_plots.py\n"
     ]
    }
   ],
   "source": [
    "import tensorflow as tf\n",
    "from tensorflow.keras.optimizers import Adam, SGD, RMSprop\n",
    "from tensorflow.keras.layers import Conv1D, MaxPool1D, Input, Dense, Flatten, Dropout\n",
    "from tensorflow.keras.models import Sequential\n",
    "from tensorflow.keras.losses import MSE\n",
    "from tensorflow.keras.regularizers import L2\n",
    "from tensorflow.keras.initializers import he_normal, glorot_uniform\n",
    "from tensorflow.keras.optimizers.schedules import ExponentialDecay, PiecewiseConstantDecay\n",
    "from tensorflow.keras.callbacks import EarlyStopping, ReduceLROnPlateau\n",
    "from sklearn.preprocessing import MinMaxScaler\n",
    "from sklearn.model_selection import train_test_split\n",
    "import numpy as np\n",
    "import pandas as pd\n",
    "import random\n",
    "import matplotlib.pyplot as plt\n",
    "from visualization_utility import plot_data\n",
    "from NN_model_plots import plot_learning_curve, plot_random, plot_relative_errors, plot_errors_hist\n",
    "import h5py\n",
    "import os\n",
    "import sys"
   ]
  },
  {
   "cell_type": "code",
   "execution_count": 2,
   "id": "0d1b8eca",
   "metadata": {},
   "outputs": [
    {
     "name": "stdout",
     "output_type": "stream",
     "text": [
      "2.15.0\n"
     ]
    }
   ],
   "source": [
    "print(tf.__version__)"
   ]
  },
  {
   "cell_type": "markdown",
   "id": "83d5d14e",
   "metadata": {},
   "source": [
    "<br>"
   ]
  },
  {
   "cell_type": "markdown",
   "id": "224a69ca",
   "metadata": {},
   "source": [
    "**NOTE**\n",
    "\n",
    "- Due to some numerical errors in spherical albedo, it has to be handled properly. We will **interpolate** all the **NaN** values. For this reason as well, we will not use the [prepare_NN_data](https://github.com/monsieurformule/SummerProject/blob/main/code-files/prepare_NN_data.ipynb) script to preprocess the data like with all the other emulators. Instead, the preprocessing will be performed here in this script."
   ]
  },
  {
   "cell_type": "markdown",
   "id": "10959f34",
   "metadata": {},
   "source": [
    "<br>"
   ]
  },
  {
   "cell_type": "markdown",
   "id": "be810b55",
   "metadata": {},
   "source": [
    "<h3>Load the data</h3>"
   ]
  },
  {
   "cell_type": "code",
   "execution_count": 3,
   "id": "ccf5ca25",
   "metadata": {},
   "outputs": [],
   "source": [
    "# Path to the input data\n",
    "input_data_path = \"/fmi/projappl/project_2004400/jamin/data/libradtran_data/NN_data/inputs.csv\""
   ]
  },
  {
   "cell_type": "code",
   "execution_count": 4,
   "id": "91d086e2",
   "metadata": {},
   "outputs": [],
   "source": [
    "X = pd.read_csv(input_data_path, index_col=0)"
   ]
  },
  {
   "cell_type": "code",
   "execution_count": 5,
   "id": "69840d44",
   "metadata": {},
   "outputs": [
    {
     "data": {
      "text/html": [
       "<div>\n",
       "<style scoped>\n",
       "    .dataframe tbody tr th:only-of-type {\n",
       "        vertical-align: middle;\n",
       "    }\n",
       "\n",
       "    .dataframe tbody tr th {\n",
       "        vertical-align: top;\n",
       "    }\n",
       "\n",
       "    .dataframe thead th {\n",
       "        text-align: right;\n",
       "    }\n",
       "</style>\n",
       "<table border=\"1\" class=\"dataframe\">\n",
       "  <thead>\n",
       "    <tr style=\"text-align: right;\">\n",
       "      <th></th>\n",
       "      <th>atmosphere_file</th>\n",
       "      <th>sza</th>\n",
       "      <th>altitude</th>\n",
       "      <th>tau</th>\n",
       "      <th>2e-05</th>\n",
       "      <th>4e-05</th>\n",
       "      <th>6e-05</th>\n",
       "      <th>0.00012</th>\n",
       "      <th>0.00026</th>\n",
       "      <th>0.00062</th>\n",
       "      <th>...</th>\n",
       "      <th>324.0</th>\n",
       "      <th>372.0</th>\n",
       "      <th>426.0</th>\n",
       "      <th>487.0</th>\n",
       "      <th>554.0</th>\n",
       "      <th>628.0</th>\n",
       "      <th>710.0</th>\n",
       "      <th>802.0</th>\n",
       "      <th>902.0</th>\n",
       "      <th>1013.0</th>\n",
       "    </tr>\n",
       "  </thead>\n",
       "  <tbody>\n",
       "    <tr>\n",
       "      <th>0</th>\n",
       "      <td>afglms_Q1_0</td>\n",
       "      <td>25.0</td>\n",
       "      <td>0.0</td>\n",
       "      <td>0.05</td>\n",
       "      <td>248.7303</td>\n",
       "      <td>248.7303</td>\n",
       "      <td>248.7303</td>\n",
       "      <td>248.7303</td>\n",
       "      <td>248.7303</td>\n",
       "      <td>248.7303</td>\n",
       "      <td>...</td>\n",
       "      <td>215.0723</td>\n",
       "      <td>220.1957</td>\n",
       "      <td>225.84</td>\n",
       "      <td>232.0706</td>\n",
       "      <td>237.8445</td>\n",
       "      <td>243.4155</td>\n",
       "      <td>248.4294</td>\n",
       "      <td>252.3007</td>\n",
       "      <td>253.4411</td>\n",
       "      <td>249.7135</td>\n",
       "    </tr>\n",
       "  </tbody>\n",
       "</table>\n",
       "<p>1 rows × 54 columns</p>\n",
       "</div>"
      ],
      "text/plain": [
       "  atmosphere_file   sza  altitude   tau     2e-05     4e-05     6e-05  \\\n",
       "0     afglms_Q1_0  25.0       0.0  0.05  248.7303  248.7303  248.7303   \n",
       "\n",
       "    0.00012   0.00026   0.00062  ...     324.0     372.0   426.0     487.0  \\\n",
       "0  248.7303  248.7303  248.7303  ...  215.0723  220.1957  225.84  232.0706   \n",
       "\n",
       "      554.0     628.0     710.0     802.0     902.0    1013.0  \n",
       "0  237.8445  243.4155  248.4294  252.3007  253.4411  249.7135  \n",
       "\n",
       "[1 rows x 54 columns]"
      ]
     },
     "execution_count": 5,
     "metadata": {},
     "output_type": "execute_result"
    }
   ],
   "source": [
    "X.head(1)"
   ]
  },
  {
   "cell_type": "code",
   "execution_count": 6,
   "id": "9b22bed0",
   "metadata": {},
   "outputs": [],
   "source": [
    "# Drop the identifier column\n",
    "X = X.drop(\"atmosphere_file\", axis=1).values"
   ]
  },
  {
   "cell_type": "code",
   "execution_count": 7,
   "id": "cf857137",
   "metadata": {},
   "outputs": [
    {
     "data": {
      "text/plain": [
       "(1728, 53)"
      ]
     },
     "execution_count": 7,
     "metadata": {},
     "output_type": "execute_result"
    }
   ],
   "source": [
    "X.shape"
   ]
  },
  {
   "cell_type": "code",
   "execution_count": 8,
   "id": "3e4b0a6e",
   "metadata": {},
   "outputs": [],
   "source": [
    "# One output matrix (to get the column names of the output data)\n",
    "output1 = pd.read_json(\"/fmi/projappl/project_2004400/jamin/data/libradtran_data/NN_data/output_params/afglms_Q1_0_sza25_vza1.0_phi0_phi00_alt0_tau0.05.json\")"
   ]
  },
  {
   "cell_type": "code",
   "execution_count": 9,
   "id": "9b9d4300",
   "metadata": {},
   "outputs": [
    {
     "data": {
      "text/html": [
       "<div>\n",
       "<style scoped>\n",
       "    .dataframe tbody tr th:only-of-type {\n",
       "        vertical-align: middle;\n",
       "    }\n",
       "\n",
       "    .dataframe tbody tr th {\n",
       "        vertical-align: top;\n",
       "    }\n",
       "\n",
       "    .dataframe thead th {\n",
       "        text-align: right;\n",
       "    }\n",
       "</style>\n",
       "<table border=\"1\" class=\"dataframe\">\n",
       "  <thead>\n",
       "    <tr style=\"text-align: right;\">\n",
       "      <th></th>\n",
       "      <th>wavelength</th>\n",
       "      <th>rho0</th>\n",
       "      <th>rho1</th>\n",
       "      <th>rho2</th>\n",
       "      <th>tdir_down</th>\n",
       "      <th>tdif_down</th>\n",
       "      <th>tdir_up</th>\n",
       "      <th>tdif_up</th>\n",
       "      <th>spherical_albedo</th>\n",
       "      <th>edir</th>\n",
       "      <th>edif</th>\n",
       "      <th>path_rad</th>\n",
       "      <th>albedo1</th>\n",
       "      <th>albedo2</th>\n",
       "    </tr>\n",
       "  </thead>\n",
       "  <tbody>\n",
       "    <tr>\n",
       "      <th>0</th>\n",
       "      <td>500.001</td>\n",
       "      <td>0.059788</td>\n",
       "      <td>0.185492</td>\n",
       "      <td>0.272199</td>\n",
       "      <td>0.782454</td>\n",
       "      <td>0.119322</td>\n",
       "      <td>0.800646</td>\n",
       "      <td>0.10874</td>\n",
       "      <td>0.133944</td>\n",
       "      <td>1560.855731</td>\n",
       "      <td>238.026869</td>\n",
       "      <td>37.963658</td>\n",
       "      <td>0.15</td>\n",
       "      <td>0.25</td>\n",
       "    </tr>\n",
       "  </tbody>\n",
       "</table>\n",
       "</div>"
      ],
      "text/plain": [
       "   wavelength      rho0      rho1      rho2  tdir_down  tdif_down   tdir_up  \\\n",
       "0     500.001  0.059788  0.185492  0.272199   0.782454   0.119322  0.800646   \n",
       "\n",
       "   tdif_up  spherical_albedo         edir        edif   path_rad  albedo1  \\\n",
       "0  0.10874          0.133944  1560.855731  238.026869  37.963658     0.15   \n",
       "\n",
       "   albedo2  \n",
       "0     0.25  "
      ]
     },
     "execution_count": 9,
     "metadata": {},
     "output_type": "execute_result"
    }
   ],
   "source": [
    "output1.head(1)"
   ]
  },
  {
   "cell_type": "code",
   "execution_count": 10,
   "id": "772d19d3",
   "metadata": {},
   "outputs": [
    {
     "data": {
      "text/plain": [
       "{'wavelength': 0,\n",
       " 'rho0': 1,\n",
       " 'rho1': 2,\n",
       " 'rho2': 3,\n",
       " 'tdir_down': 4,\n",
       " 'tdif_down': 5,\n",
       " 'tdir_up': 6,\n",
       " 'tdif_up': 7,\n",
       " 'spherical_albedo': 8,\n",
       " 'edir': 9,\n",
       " 'edif': 10,\n",
       " 'path_rad': 11,\n",
       " 'albedo1': 12,\n",
       " 'albedo2': 13}"
      ]
     },
     "execution_count": 10,
     "metadata": {},
     "output_type": "execute_result"
    }
   ],
   "source": [
    "output_vars_col_idx = {col_name: idx for idx, col_name in enumerate(output1.columns)}\n",
    "output_vars_col_idx"
   ]
  },
  {
   "cell_type": "code",
   "execution_count": 11,
   "id": "b0f9ac04",
   "metadata": {},
   "outputs": [],
   "source": [
    "# Path to the (full) output data\n",
    "full_output_data_path = \"/fmi/projappl/project_2004400/jamin/data/libradtran_data/NN_data/outputs_full.h5\""
   ]
  },
  {
   "cell_type": "code",
   "execution_count": 12,
   "id": "70a0769d",
   "metadata": {},
   "outputs": [],
   "source": [
    "def load_HDF5(path: str):\n",
    "    with h5py.File(name=path, mode=\"r\") as hf:\n",
    "        data = hf[\"output_data\"][:]\n",
    "    return data"
   ]
  },
  {
   "cell_type": "code",
   "execution_count": 13,
   "id": "10457f9c",
   "metadata": {},
   "outputs": [],
   "source": [
    "Y = load_HDF5(full_output_data_path)"
   ]
  },
  {
   "cell_type": "code",
   "execution_count": 14,
   "id": "177a3a4a",
   "metadata": {},
   "outputs": [
    {
     "data": {
      "text/plain": [
       "(1728, 235002, 14)"
      ]
     },
     "execution_count": 14,
     "metadata": {},
     "output_type": "execute_result"
    }
   ],
   "source": [
    "Y.shape"
   ]
  },
  {
   "cell_type": "code",
   "execution_count": 15,
   "id": "d519a004",
   "metadata": {},
   "outputs": [],
   "source": [
    "spherical_albedo = Y[:, :,  output_vars_col_idx[\"spherical_albedo\"]]"
   ]
  },
  {
   "cell_type": "code",
   "execution_count": 16,
   "id": "90f6caa1",
   "metadata": {},
   "outputs": [
    {
     "data": {
      "text/plain": [
       "(1728, 235002)"
      ]
     },
     "execution_count": 16,
     "metadata": {},
     "output_type": "execute_result"
    }
   ],
   "source": [
    "spherical_albedo.shape"
   ]
  },
  {
   "cell_type": "code",
   "execution_count": 17,
   "id": "9afc799c",
   "metadata": {},
   "outputs": [
    {
     "data": {
      "text/plain": [
       "numpy.ndarray"
      ]
     },
     "execution_count": 17,
     "metadata": {},
     "output_type": "execute_result"
    }
   ],
   "source": [
    "type(spherical_albedo)"
   ]
  },
  {
   "cell_type": "code",
   "execution_count": 18,
   "id": "348acdce",
   "metadata": {},
   "outputs": [
    {
     "data": {
      "text/plain": [
       "True"
      ]
     },
     "execution_count": 18,
     "metadata": {},
     "output_type": "execute_result"
    }
   ],
   "source": [
    "np.isnan(spherical_albedo).any()"
   ]
  },
  {
   "cell_type": "markdown",
   "id": "3b3cdd55",
   "metadata": {},
   "source": [
    "- As expected, spherical albedo contains missing values."
   ]
  },
  {
   "cell_type": "code",
   "execution_count": 19,
   "id": "ed0c59c2",
   "metadata": {},
   "outputs": [
    {
     "name": "stdout",
     "output_type": "stream",
     "text": [
      "Range: [-20.0919540276, 4.0]\n"
     ]
    }
   ],
   "source": [
    "print(f\"Range: [{np.min(spherical_albedo[~np.isnan(spherical_albedo)])}, {np.max(spherical_albedo[~np.isnan(spherical_albedo)])}]\")"
   ]
  },
  {
   "cell_type": "code",
   "execution_count": 20,
   "id": "d417b99c",
   "metadata": {},
   "outputs": [
    {
     "data": {
      "text/plain": [
       "843161"
      ]
     },
     "execution_count": 20,
     "metadata": {},
     "output_type": "execute_result"
    }
   ],
   "source": [
    "np.sum(np.isnan(spherical_albedo))"
   ]
  },
  {
   "cell_type": "code",
   "execution_count": 21,
   "id": "ee1d9200",
   "metadata": {},
   "outputs": [
    {
     "data": {
      "text/plain": [
       "0.2076324429232596"
      ]
     },
     "execution_count": 21,
     "metadata": {},
     "output_type": "execute_result"
    }
   ],
   "source": [
    "(np.sum(np.isnan(spherical_albedo)) / spherical_albedo.size) * 100"
   ]
  },
  {
   "cell_type": "markdown",
   "id": "a6a29158",
   "metadata": {},
   "source": [
    "- 0.2% of the values are NaN."
   ]
  },
  {
   "cell_type": "markdown",
   "id": "13c9d78d",
   "metadata": {},
   "source": [
    "<h3>Interpolation</h3>"
   ]
  },
  {
   "cell_type": "code",
   "execution_count": 22,
   "id": "38c99585",
   "metadata": {},
   "outputs": [],
   "source": [
    "# Set the values outside the range [0, 1] to NaN\n",
    "spherical_albedo[(spherical_albedo < 0) | (spherical_albedo > 1)] = np.nan\n",
    "\n",
    "# Interpolate NaNs for each row\n",
    "for i in range(spherical_albedo.shape[0]):\n",
    "    row = spherical_albedo[i, :]\n",
    "    nans = np.isnan(row)\n",
    "    if np.any(~nans):    # interpolate only if there are valid non-NaN values to interpolate on\n",
    "        row[nans] = np.interp(np.flatnonzero(nans), np.flatnonzero(~nans), row[~nans])"
   ]
  },
  {
   "cell_type": "markdown",
   "id": "26581c84",
   "metadata": {},
   "source": [
    "- 'nans' is a boolean array that is True where the values in 'row' are NaN, and False where the values in 'row' are not NaN. \n",
    "\n",
    "- np.flatnonzero(nans) returns the indices of the elements in 'row' that are NaN.\n",
    "\n",
    "- np.flatnonzero(~nans) returns the indices of the elements in 'row' that not NaN.\n",
    "\n",
    "- row[~nans] selects the elements in 'row' that are not NaN.\n",
    "\n",
    "- row[nans] selects the elements in 'row' that are NaN.\n",
    "\n",
    "$\\quad \\boldsymbol{\\rightarrow} \\quad \\text{row[nans] = np.interp(x, xp, fp) interpolates the NaN values.}$"
   ]
  },
  {
   "cell_type": "markdown",
   "id": "c24c138c",
   "metadata": {},
   "source": [
    "**np.interp(x, xp, fp)**\n",
    "\n",
    "- **x:** the x-coordinates (indices of the NaN values) where interpolation is to be performed (i.e., where NaNs are located)\n",
    "\n",
    "- **xp:** the x-coordinates of the data points (i.e., the indices of the valid non-NaN values)\n",
    "\n",
    "- **fp:** the y-coordinates of the data points (i.e., the actual values of these valid points)"
   ]
  },
  {
   "cell_type": "code",
   "execution_count": 23,
   "id": "59815181",
   "metadata": {},
   "outputs": [
    {
     "data": {
      "text/plain": [
       "False"
      ]
     },
     "execution_count": 23,
     "metadata": {},
     "output_type": "execute_result"
    }
   ],
   "source": [
    "np.isnan(spherical_albedo).any()"
   ]
  },
  {
   "cell_type": "markdown",
   "id": "ace8f226",
   "metadata": {},
   "source": [
    "- NaNs are gone."
   ]
  },
  {
   "cell_type": "code",
   "execution_count": 24,
   "id": "ce06a905",
   "metadata": {},
   "outputs": [
    {
     "name": "stdout",
     "output_type": "stream",
     "text": [
      "Range: [0.0, 0.9999999997000001]\n"
     ]
    }
   ],
   "source": [
    "print(f\"Range: [{np.min(spherical_albedo[~np.isnan(spherical_albedo)])}, {np.max(spherical_albedo[~np.isnan(spherical_albedo)])}]\")"
   ]
  },
  {
   "cell_type": "markdown",
   "id": "9ed12ccc",
   "metadata": {},
   "source": [
    "<h3>Preprocess the data</h3>"
   ]
  },
  {
   "cell_type": "code",
   "execution_count": 25,
   "id": "0da31f5a",
   "metadata": {},
   "outputs": [],
   "source": [
    "def process_data(x, y, train_prop: float, val_prop: float, test_prop: float):\n",
    "    \n",
    "    ###### Calculate the train, validation, and test sizes #####\n",
    "    n = x.shape[0]    # number of samples\n",
    "    num_train_samples = int(n * train_prop)\n",
    "    num_val_samples = int(n * val_prop)\n",
    "    num_test_samples = int(n - num_train_samples - num_val_samples)\n",
    "    \n",
    "    ###### Data splits ######\n",
    "    # (X, Y) ==> (train | temp)\n",
    "    # temp ==> (validation | test)\n",
    "    X_train, X_temp, Y_train, Y_temp = train_test_split(x, y, train_size=num_train_samples, random_state=42)\n",
    "    X_val, X_test, Y_val, Y_test = train_test_split(X_temp, Y_temp, test_size=num_test_samples, random_state=42)\n",
    "    \n",
    "    ##### Scale the features for numerical stability #####\n",
    "    scaler = MinMaxScaler(feature_range=(0, 1))\n",
    "    scaler.fit(X_train)\n",
    "    scaled_X_train = scaler.transform(X_train)\n",
    "    scaled_X_val = scaler.transform(X_val)\n",
    "    scaled_X_test = scaler.transform(X_test)\n",
    "    \n",
    "    ##### Convert the data to tf.tensors #####\n",
    "    scaled_X_train = tf.cast(scaled_X_train, dtype=tf.float32)\n",
    "    scaled_X_val = tf.cast(scaled_X_val, dtype=tf.float32)\n",
    "    scaled_X_test = tf.cast(scaled_X_test, dtype=tf.float32)\n",
    "    Y_train = tf.cast(Y_train, dtype=tf.float32)\n",
    "    Y_val = tf.cast(Y_val, dtype=tf.float32)\n",
    "    Y_test = tf.cast(Y_test, dtype=tf.float32)\n",
    "    \n",
    "    ##### Add an extra dimension to the input data for convolution #####\n",
    "    scaled_X_train = tf.expand_dims(scaled_X_train, axis=-1)\n",
    "    scaled_X_val = tf.expand_dims(scaled_X_val, axis=-1)\n",
    "    scaled_X_test = tf.expand_dims(scaled_X_test, axis=-1)\n",
    "    \n",
    "    data_dict = {\n",
    "        \"scaled_X_train\": scaled_X_train,\n",
    "        \"scaled_X_val\": scaled_X_val,\n",
    "        \"scaled_X_test\": scaled_X_test,\n",
    "        \"Y_train\": Y_train,\n",
    "        \"Y_val\": Y_val,\n",
    "        \"Y_test\": Y_test\n",
    "    }\n",
    "    return data_dict"
   ]
  },
  {
   "cell_type": "code",
   "execution_count": 26,
   "id": "61db481c",
   "metadata": {},
   "outputs": [
    {
     "name": "stderr",
     "output_type": "stream",
     "text": [
      "2024-08-18 12:57:33.747376: E external/local_xla/xla/stream_executor/cuda/cuda_driver.cc:274] failed call to cuInit: CUDA_ERROR_NO_DEVICE: no CUDA-capable device is detected\n"
     ]
    }
   ],
   "source": [
    "data_dict = process_data(X, spherical_albedo, train_prop=0.8, val_prop=0.1, test_prop=0.1)"
   ]
  },
  {
   "cell_type": "code",
   "execution_count": 27,
   "id": "305b41a3",
   "metadata": {},
   "outputs": [],
   "source": [
    "scaled_X_train = data_dict[\"scaled_X_train\"]\n",
    "scaled_X_val = data_dict[\"scaled_X_val\"]\n",
    "scaled_X_test = data_dict[\"scaled_X_test\"]\n",
    "Y_train = data_dict[\"Y_train\"]\n",
    "Y_val = data_dict[\"Y_val\"]\n",
    "Y_test = data_dict[\"Y_test\"]"
   ]
  },
  {
   "cell_type": "code",
   "execution_count": 28,
   "id": "3858f804",
   "metadata": {},
   "outputs": [
    {
     "name": "stdout",
     "output_type": "stream",
     "text": [
      "############### Training data ###############\n",
      "Shape of scaled_X_train: (1382, 53, 1)\n",
      "Shape of Y_train: (1382, 235002)\n",
      "\n",
      "############### Validation data ###############\n",
      "Shape of scaled_X_val: (172, 53, 1)\n",
      "Shape of Y_val: (172, 235002)\n",
      "\n",
      "############### Test data ###############\n",
      "Shape of scaled_X_test: (174, 53, 1)\n",
      "Shape of Y_test: (174, 235002)\n"
     ]
    }
   ],
   "source": [
    "print(\"############### Training data ###############\")\n",
    "print(f\"Shape of scaled_X_train: {scaled_X_train.shape}\")\n",
    "print(f\"Shape of Y_train: {Y_train.shape}\")\n",
    "print()\n",
    "print(\"############### Validation data ###############\")\n",
    "print(f\"Shape of scaled_X_val: {scaled_X_val.shape}\")\n",
    "print(f\"Shape of Y_val: {Y_val.shape}\")\n",
    "print()\n",
    "print(\"############### Test data ###############\")\n",
    "print(f\"Shape of scaled_X_test: {scaled_X_test.shape}\")\n",
    "print(f\"Shape of Y_test: {Y_test.shape}\")"
   ]
  },
  {
   "cell_type": "markdown",
   "id": "a24bc59f",
   "metadata": {},
   "source": [
    "<h3>Train the model</h3>"
   ]
  },
  {
   "cell_type": "code",
   "execution_count": 29,
   "id": "d54a8493",
   "metadata": {},
   "outputs": [],
   "source": [
    "def model(X_train, Y_train, X_val, Y_val, num_epochs: int, batch_size: int):\n",
    "    \"\"\"\n",
    "    Builds, compiles, fits the neural network model. \n",
    "    \n",
    "    Args:\n",
    "    X -- the input dataset\n",
    "    Y -- the output dataset\n",
    "    num_epochs -- the number of epochs\n",
    "    batch_size -- the batch size\n",
    "    val_data -- validation data to be used in the training process of the NN\n",
    "    output_var_name -- name of the output variable that the NN model predicts\n",
    "    \n",
    "    Prints:\n",
    "    - train MSE\n",
    "    - validation MSE\n",
    "    \n",
    "    Returns:\n",
    "    model -- the fitted neural network model.\n",
    "    loss_history -- the loss history of the fitted neural network model.\n",
    "    \"\"\"\n",
    "    #tf.random.set_seed(42)\n",
    "    \n",
    "    # Architecture of the NN model\n",
    "    model = Sequential([\n",
    "        Input(shape=(53, 1)),\n",
    "        Conv1D(filters=64, kernel_size=3, kernel_initializer=he_normal(), activation=\"relu\"),\n",
    "        MaxPool1D(pool_size=2, strides=None),\n",
    "        Conv1D(filters=64, kernel_size=3, kernel_initializer=he_normal(), activation=\"relu\"),\n",
    "        MaxPool1D(pool_size=2, strides=None),\n",
    "        Flatten(),\n",
    "        Dense(units=100, kernel_initializer=he_normal(), activation=\"relu\"),\n",
    "        Dense(units=100, kernel_initializer=he_normal(), activation=\"relu\"),\n",
    "        Dense(units=235002, kernel_initializer=glorot_uniform(), activation=\"linear\"),\n",
    "    ])\n",
    "    \n",
    "    reduce_lr = ReduceLROnPlateau(monitor=\"val_loss\", \n",
    "                                  factor=0.1, \n",
    "                                  patience=3, \n",
    "                                  min_lr=0.0009, \n",
    "                                  verbose=1)\n",
    "    \n",
    "    # This callback will stop the training when there is no improvement in\n",
    "    # the validation mse for 3 consecutive epochs, and restore the weights \n",
    "    # from the epoch with the best value of the monitored quantity (val_loss)\n",
    "    early_stopping = EarlyStopping(monitor=\"val_loss\",\n",
    "                                   patience=3,\n",
    "                                   restore_best_weights=True,\n",
    "                                   start_from_epoch=0)\n",
    "    \n",
    "    # Compile the model\n",
    "    model.compile(loss=MSE,\n",
    "                  optimizer=Adam(learning_rate=0.01,\n",
    "                                 beta_1=0.9,\n",
    "                                 beta_2=0.999),\n",
    "                  metrics=[\"mse\"])\n",
    "    \n",
    "    # Fit the model\n",
    "    loss_history = model.fit(X_train, \n",
    "                             Y_train, \n",
    "                             epochs=num_epochs, \n",
    "                             batch_size=batch_size, \n",
    "                             validation_data=(X_val, Y_val),\n",
    "                             callbacks=[reduce_lr, early_stopping])\n",
    "    \n",
    "    # Train error\n",
    "    train_loss, train_mse = model.evaluate(X_train, Y_train)\n",
    "    \n",
    "    # Validation error\n",
    "    val_loss, val_mse = model.evaluate(X_val, Y_val)\n",
    "    \n",
    "    print(\"########################################\")\n",
    "    print(f\"Train MSE: {train_mse}\")\n",
    "    print(f\"Validation MSE: {val_mse}\")\n",
    "    print(\"########################################\")\n",
    "    \n",
    "    return model, loss_history"
   ]
  },
  {
   "cell_type": "code",
   "execution_count": 30,
   "id": "839b6d24",
   "metadata": {},
   "outputs": [
    {
     "name": "stdout",
     "output_type": "stream",
     "text": [
      "Epoch 1/25\n",
      "44/44 [==============================] - 4s 60ms/step - loss: 0.0029 - mse: 0.0029 - val_loss: 1.1263e-04 - val_mse: 1.1263e-04 - lr: 0.0100\n",
      "Epoch 2/25\n",
      "44/44 [==============================] - 2s 52ms/step - loss: 9.1285e-05 - mse: 9.1285e-05 - val_loss: 7.4361e-05 - val_mse: 7.4361e-05 - lr: 0.0100\n",
      "Epoch 3/25\n",
      "44/44 [==============================] - 2s 53ms/step - loss: 7.0330e-05 - mse: 7.0330e-05 - val_loss: 6.3950e-05 - val_mse: 6.3950e-05 - lr: 0.0100\n",
      "Epoch 4/25\n",
      "44/44 [==============================] - ETA: 0s - loss: 6.2305e-05 - mse: 6.2305e-05\n",
      "Epoch 4: ReduceLROnPlateau reducing learning rate to 0.0009999999776482583.\n",
      "44/44 [==============================] - 2s 51ms/step - loss: 6.2305e-05 - mse: 6.2305e-05 - val_loss: 6.0410e-05 - val_mse: 6.0410e-05 - lr: 0.0100\n",
      "Epoch 5/25\n",
      "44/44 [==============================] - 2s 52ms/step - loss: 5.9532e-05 - mse: 5.9532e-05 - val_loss: 5.8257e-05 - val_mse: 5.8257e-05 - lr: 1.0000e-03\n",
      "Epoch 6/25\n",
      "44/44 [==============================] - 2s 54ms/step - loss: 5.8831e-05 - mse: 5.8831e-05 - val_loss: 5.7977e-05 - val_mse: 5.7977e-05 - lr: 1.0000e-03\n",
      "Epoch 7/25\n",
      "43/44 [============================>.] - ETA: 0s - loss: 5.8643e-05 - mse: 5.8643e-05\n",
      "Epoch 7: ReduceLROnPlateau reducing learning rate to 0.0009.\n",
      "44/44 [==============================] - 2s 53ms/step - loss: 5.8595e-05 - mse: 5.8595e-05 - val_loss: 5.7717e-05 - val_mse: 5.7717e-05 - lr: 1.0000e-03\n",
      "Epoch 8/25\n",
      "44/44 [==============================] - 2s 53ms/step - loss: 5.8306e-05 - mse: 5.8306e-05 - val_loss: 5.7543e-05 - val_mse: 5.7543e-05 - lr: 9.0000e-04\n",
      "Epoch 9/25\n",
      "44/44 [==============================] - 2s 53ms/step - loss: 5.8033e-05 - mse: 5.8033e-05 - val_loss: 5.7230e-05 - val_mse: 5.7230e-05 - lr: 9.0000e-04\n",
      "Epoch 10/25\n",
      "44/44 [==============================] - 2s 55ms/step - loss: 5.7833e-05 - mse: 5.7833e-05 - val_loss: 5.6910e-05 - val_mse: 5.6910e-05 - lr: 9.0000e-04\n",
      "Epoch 11/25\n",
      "44/44 [==============================] - 3s 58ms/step - loss: 5.7673e-05 - mse: 5.7673e-05 - val_loss: 5.6625e-05 - val_mse: 5.6625e-05 - lr: 9.0000e-04\n",
      "Epoch 12/25\n",
      "44/44 [==============================] - 2s 52ms/step - loss: 5.7396e-05 - mse: 5.7396e-05 - val_loss: 5.6402e-05 - val_mse: 5.6402e-05 - lr: 9.0000e-04\n",
      "Epoch 13/25\n",
      "44/44 [==============================] - 2s 55ms/step - loss: 5.7176e-05 - mse: 5.7176e-05 - val_loss: 5.6137e-05 - val_mse: 5.6137e-05 - lr: 9.0000e-04\n",
      "Epoch 14/25\n",
      "44/44 [==============================] - 2s 56ms/step - loss: 5.6954e-05 - mse: 5.6954e-05 - val_loss: 5.5963e-05 - val_mse: 5.5963e-05 - lr: 9.0000e-04\n",
      "Epoch 15/25\n",
      "44/44 [==============================] - 3s 58ms/step - loss: 5.6826e-05 - mse: 5.6826e-05 - val_loss: 5.5682e-05 - val_mse: 5.5682e-05 - lr: 9.0000e-04\n",
      "Epoch 16/25\n",
      "44/44 [==============================] - 2s 57ms/step - loss: 5.6636e-05 - mse: 5.6636e-05 - val_loss: 5.5547e-05 - val_mse: 5.5547e-05 - lr: 9.0000e-04\n",
      "Epoch 17/25\n",
      "44/44 [==============================] - 3s 60ms/step - loss: 5.6440e-05 - mse: 5.6440e-05 - val_loss: 5.5201e-05 - val_mse: 5.5201e-05 - lr: 9.0000e-04\n",
      "Epoch 18/25\n",
      "44/44 [==============================] - 3s 61ms/step - loss: 5.6305e-05 - mse: 5.6305e-05 - val_loss: 5.5284e-05 - val_mse: 5.5284e-05 - lr: 9.0000e-04\n",
      "Epoch 19/25\n",
      "44/44 [==============================] - 3s 61ms/step - loss: 5.6085e-05 - mse: 5.6085e-05 - val_loss: 5.5219e-05 - val_mse: 5.5219e-05 - lr: 9.0000e-04\n",
      "Epoch 20/25\n",
      "44/44 [==============================] - 3s 63ms/step - loss: 5.5996e-05 - mse: 5.5996e-05 - val_loss: 5.4764e-05 - val_mse: 5.4764e-05 - lr: 9.0000e-04\n",
      "Epoch 21/25\n",
      "44/44 [==============================] - 3s 63ms/step - loss: 5.5813e-05 - mse: 5.5813e-05 - val_loss: 5.4727e-05 - val_mse: 5.4727e-05 - lr: 9.0000e-04\n",
      "Epoch 22/25\n",
      "44/44 [==============================] - 3s 64ms/step - loss: 5.5660e-05 - mse: 5.5660e-05 - val_loss: 5.4424e-05 - val_mse: 5.4424e-05 - lr: 9.0000e-04\n",
      "Epoch 23/25\n",
      "44/44 [==============================] - 3s 66ms/step - loss: 5.5482e-05 - mse: 5.5482e-05 - val_loss: 5.4356e-05 - val_mse: 5.4356e-05 - lr: 9.0000e-04\n",
      "Epoch 24/25\n",
      "44/44 [==============================] - 3s 61ms/step - loss: 5.5382e-05 - mse: 5.5382e-05 - val_loss: 5.4049e-05 - val_mse: 5.4049e-05 - lr: 9.0000e-04\n",
      "Epoch 25/25\n",
      "44/44 [==============================] - 2s 54ms/step - loss: 5.5239e-05 - mse: 5.5239e-05 - val_loss: 5.4057e-05 - val_mse: 5.4057e-05 - lr: 9.0000e-04\n",
      "44/44 [==============================] - 0s 8ms/step - loss: 5.5204e-05 - mse: 5.5204e-05\n",
      "6/6 [==============================] - 0s 8ms/step - loss: 5.4057e-05 - mse: 5.4057e-05\n",
      "########################################\n",
      "Train MSE: 5.5203512602020055e-05\n",
      "Validation MSE: 5.405695628724061e-05\n",
      "########################################\n"
     ]
    }
   ],
   "source": [
    "NN_model, loss_history = model(X_train=scaled_X_train, \n",
    "                               Y_train=Y_train,\n",
    "                               X_val=scaled_X_val,\n",
    "                               Y_val=Y_val,\n",
    "                               num_epochs=25,\n",
    "                               batch_size=32)"
   ]
  },
  {
   "cell_type": "markdown",
   "id": "b49ea2fc",
   "metadata": {},
   "source": [
    "<h3>Plotting</h3>"
   ]
  },
  {
   "cell_type": "markdown",
   "id": "43e2074a",
   "metadata": {},
   "source": [
    "Note that:\n",
    "\n",
    "- The term 'true' in the plots refers to the output values obtained from libradtran RT model.\n",
    "- The term 'emulated' refers to the predicted values obtained from the fitted neural network model."
   ]
  },
  {
   "cell_type": "code",
   "execution_count": 31,
   "id": "a98214d4",
   "metadata": {},
   "outputs": [
    {
     "name": "stdout",
     "output_type": "stream",
     "text": [
      "6/6 [==============================] - 0s 6ms/step\n"
     ]
    }
   ],
   "source": [
    "spherical_albedo_preds = NN_model.predict(scaled_X_val)"
   ]
  },
  {
   "cell_type": "code",
   "execution_count": 32,
   "id": "1848896f",
   "metadata": {},
   "outputs": [
    {
     "data": {
      "image/png": "[encoded data removed]",
      "text/plain": [
       "<Figure size 800x600 with 1 Axes>"
      ]
     },
     "metadata": {},
     "output_type": "display_data"
    }
   ],
   "source": [
    "plot_learning_curve(loss_history, \"spherical_albedo\")"
   ]
  },
  {
   "cell_type": "code",
   "execution_count": 33,
   "id": "5d621e5f",
   "metadata": {},
   "outputs": [
    {
     "data": {
      "image/png": "[encoded data removed]",
      "text/plain": [
       "<Figure size 800x600 with 1 Axes>"
      ]
     },
     "metadata": {},
     "output_type": "display_data"
    }
   ],
   "source": [
    "plot_random(spherical_albedo_preds, scaled_X_val, Y_val, \"spherical_albedo\")"
   ]
  },
  {
   "cell_type": "code",
   "execution_count": 34,
   "id": "8d724d18",
   "metadata": {},
   "outputs": [
    {
     "data": {
      "image/png": "[encoded data removed]",
      "text/plain": [
       "<Figure size 800x600 with 1 Axes>"
      ]
     },
     "metadata": {},
     "output_type": "display_data"
    }
   ],
   "source": [
    "plot_errors_hist(spherical_albedo_preds, scaled_X_val, Y_val)"
   ]
  },
  {
   "cell_type": "code",
   "execution_count": 35,
   "id": "7e914a1a",
   "metadata": {},
   "outputs": [
    {
     "data": {
      "image/png": "[encoded data removed]",
      "text/plain": [
       "<Figure size 800x600 with 2 Axes>"
      ]
     },
     "metadata": {},
     "output_type": "display_data"
    }
   ],
   "source": [
    "# Plot emulator results vs. true (libradtran RT model) values\n",
    "plot_data(y_true=Y_val,\n",
    "          y_pred=spherical_albedo_preds,\n",
    "          title=\"Emulator result\",\n",
    "          x_label=\"spherical_albedo true\",\n",
    "          y_label=\"spherical_albedo emulated\",\n",
    "          error_bar_on=True,\n",
    "          save_fig=False,\n",
    "          fig_name=None)"
   ]
  },
  {
   "cell_type": "code",
   "execution_count": 36,
   "id": "dd55b39a",
   "metadata": {},
   "outputs": [
    {
     "ename": "AssertionError",
     "evalue": "STOP",
     "output_type": "error",
     "traceback": [
      "\u001b[0;31m---------------------------------------------------------------------------\u001b[0m",
      "\u001b[0;31mAssertionError\u001b[0m                            Traceback (most recent call last)",
      "Cell \u001b[0;32mIn[36], line 1\u001b[0m\n\u001b[0;32m----> 1\u001b[0m \u001b[38;5;28;01massert\u001b[39;00m \u001b[38;5;28;01mFalse\u001b[39;00m, \u001b[38;5;124m\"\u001b[39m\u001b[38;5;124mSTOP\u001b[39m\u001b[38;5;124m\"\u001b[39m\n",
      "\u001b[0;31mAssertionError\u001b[0m: STOP"
     ]
    }
   ],
   "source": [
    "assert False, \"STOP\""
   ]
  },
  {
   "cell_type": "markdown",
   "id": "68c336c3",
   "metadata": {},
   "source": [
    "<h3>Save the predictions</h3>"
   ]
  },
  {
   "cell_type": "code",
   "execution_count": null,
   "id": "9444a3ad",
   "metadata": {},
   "outputs": [],
   "source": [
    "def save_HDF5(Y, save_loc, file_name):\n",
    "    \"\"\"\n",
    "    Saves the given NumPy array into the desired location in HDF5 format.\n",
    "    \n",
    "    Args:\n",
    "        Y: NumPy array\n",
    "        save_loc: the path to the desired saving location\n",
    "        file_name: name of the saved file\n",
    "        \n",
    "    Returns:\n",
    "        None.\n",
    "    \"\"\"\n",
    "    full_path = save_loc + file_name\n",
    "    with h5py.File(full_path, \"w\") as hf:\n",
    "        hf.create_dataset(\"output_data\", data=Y)"
   ]
  },
  {
   "cell_type": "code",
   "execution_count": null,
   "id": "2aef8431",
   "metadata": {},
   "outputs": [],
   "source": [
    "save_loc = \"/fmi/projappl/project_2004400/jamin/data/libradtran_data/NN_data/\""
   ]
  },
  {
   "cell_type": "code",
   "execution_count": null,
   "id": "d1319bfc",
   "metadata": {},
   "outputs": [],
   "source": [
    "file_name = \"spherical_albedo_preds.h5\"\n",
    "save_HDF5(Y=spherical_albedo_preds, save_loc=save_loc, file_name=file_name)"
   ]
  },
  {
   "cell_type": "markdown",
   "id": "0b644fb9",
   "metadata": {},
   "source": [
    "<h3>Save the RT model validation data</h3>"
   ]
  },
  {
   "cell_type": "code",
   "execution_count": null,
   "id": "078bb3c4",
   "metadata": {},
   "outputs": [],
   "source": [
    "file_name = \"spherical_albedo_val_RT.h5\"\n",
    "save_HDF5(Y=Y_val, save_loc=save_loc, file_name=file_name)"
   ]
  }
 ],
 "metadata": {
  "kernelspec": {
   "display_name": "Python 3 (ipykernel)",
   "language": "python",
   "name": "python3"
  },
  "language_info": {
   "codemirror_mode": {
    "name": "ipython",
    "version": 3
   },
   "file_extension": ".py",
   "mimetype": "text/x-python",
   "name": "python",
   "nbconvert_exporter": "python",
   "pygments_lexer": "ipython3",
   "version": "3.9.18"
  }
 },
 "nbformat": 4,
 "nbformat_minor": 5
}
