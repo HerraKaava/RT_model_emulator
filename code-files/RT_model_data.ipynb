{
 "cells": [
  {
   "cell_type": "code",
   "execution_count": 1,
   "id": "2dc50c57",
   "metadata": {},
   "outputs": [],
   "source": [
    "import numpy\n",
    "import h5py\n",
    "import os"
   ]
  },
  {
   "cell_type": "code",
   "execution_count": 2,
   "id": "20ca2ae6",
   "metadata": {},
   "outputs": [],
   "source": [
    "def load_HDF5(file_path):\n",
    "    with h5py.File(name=file_path, mode=\"r\") as hf:\n",
    "        data = hf[\"output_data\"][:]\n",
    "    return data"
   ]
  },
  {
   "cell_type": "code",
   "execution_count": 3,
   "id": "3daec4f5",
   "metadata": {},
   "outputs": [],
   "source": [
    "def load_RT_model_outputs_val_data(path: str):\n",
    "    \"\"\"\n",
    "    Loads the the following transfer functions (RT model outputs):\n",
    "    edif, edir, path_rad, spherical_albedo, tdif_up, tdir_up.\n",
    "    \"\"\"\n",
    "    ##### A dictionary to store the validation data #####\n",
    "    val_data = {}\n",
    "    val_data[\"edif_val\"] = load_HDF5(path + \"val_data_edif.h5\")\n",
    "    val_data[\"edir_val\"] = load_HDF5(path + \"val_data_edir.h5\")\n",
    "    val_data[\"path_rad_val\"] = load_HDF5(path + \"val_data_path_rad.h5\")\n",
    "    val_data[\"SA_val\"] = load_HDF5(path + \"val_data_spherical_albedo.h5\")\n",
    "    val_data[\"tdif_up_val\"] = load_HDF5(path + \"val_data_tdif_up.h5\")\n",
    "    val_data[\"tdir_up_val\"] = load_HDF5(path + \"val_data_tdir_up.h5\")\n",
    "    return val_data"
   ]
  },
  {
   "cell_type": "code",
   "execution_count": 4,
   "id": "f20dd5fb",
   "metadata": {},
   "outputs": [],
   "source": [
    "def load_RT_model_outputs_test_data(path: str):\n",
    "    \"\"\"\n",
    "    Loads the the following transfer functions (RT model outputs):\n",
    "    edif, edir, path_rad, spherical_albedo, tdif_up, tdir_up.\n",
    "    \"\"\"    \n",
    "    ##### A dictionary to store the test data #####\n",
    "    test_data = {}\n",
    "    test_data[\"edif_test\"] = load_HDF5(path + \"test_data_edif.h5\")\n",
    "    test_data[\"edir_test\"] = load_HDF5(path + \"test_data_edir.h5\")\n",
    "    test_data[\"path_rad_test\"] = load_HDF5(path + \"test_data_path_rad.h5\")\n",
    "    test_data[\"SA_test\"] = load_HDF5(path + \"test_data_spherical_albedo.h5\")\n",
    "    test_data[\"tdif_up_test\"] = load_HDF5(path + \"test_data_tdif_up.h5\")\n",
    "    test_data[\"tdir_up_test\"] = load_HDF5(path + \"test_data_tdir_up.h5\")\n",
    "    return test_data"
   ]
  },
  {
   "cell_type": "markdown",
   "id": "3ee6d594",
   "metadata": {},
   "source": [
    "<h3>Convert into .py file</h3>"
   ]
  },
  {
   "cell_type": "code",
   "execution_count": 5,
   "id": "5b9a8ab8",
   "metadata": {},
   "outputs": [
    {
     "name": "stdout",
     "output_type": "stream",
     "text": [
      "[NbConvertApp] Converting notebook RT_model_data.ipynb to script\n",
      "[NbConvertApp] Writing 2057 bytes to RT_model_data.py\n"
     ]
    }
   ],
   "source": [
    "!jupyter nbconvert --to script RT_model_data.ipynb"
   ]
  },
  {
   "cell_type": "markdown",
   "id": "b6493880",
   "metadata": {},
   "source": [
    "- Jupyter notebooks need to be converted to python scripts ('.py' files) to be imported directly into another notebook / script.\n",
    "- Note that this notebook is not converted into a .py file, but rather a copy of this notebook is made as a .py script."
   ]
  }
 ],
 "metadata": {
  "kernelspec": {
   "display_name": "Python 3 (ipykernel)",
   "language": "python",
   "name": "python3"
  },
  "language_info": {
   "codemirror_mode": {
    "name": "ipython",
    "version": 3
   },
   "file_extension": ".py",
   "mimetype": "text/x-python",
   "name": "python",
   "nbconvert_exporter": "python",
   "pygments_lexer": "ipython3",
   "version": "3.9.18"
  }
 },
 "nbformat": 4,
 "nbformat_minor": 5
}
