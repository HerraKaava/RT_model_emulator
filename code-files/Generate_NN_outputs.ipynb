{
 "cells": [
  {
   "cell_type": "code",
   "execution_count": 13,
   "id": "1d75dd57",
   "metadata": {},
   "outputs": [],
   "source": [
    "import numpy as np\n",
    "import pandas as pd\n",
    "import os\n",
    "import h5py"
   ]
  },
  {
   "cell_type": "code",
   "execution_count": 2,
   "id": "515eac90",
   "metadata": {},
   "outputs": [],
   "source": [
    "def gen_outputs(output_folder_path):\n",
    "    \"\"\"\n",
    "    Generates an output tensor of shape (1728, 235002, 9).\n",
    "    \n",
    "    Args:\n",
    "        output_folder_path: path to the folder containing the libradtran output files\n",
    "        \n",
    "    Returns:\n",
    "        output_tensor: tensor of shape (1728, 235002, 9).\n",
    "    \"\"\"\n",
    "    output_files_list = sorted(os.listdir(output_folder_path))\n",
    "    Y = np.zeros((1728, 235002, 9))\n",
    "    for i, file in enumerate(output_files_list):\n",
    "        full_path = output_folder_path + file\n",
    "        M = pd.read_json(full_path)[[\"wavelength\", \"tdir_down\", \"tdif_down\", \"tdir_up\", \"tdif_up\", \"spherical_albedo\", \"edir\", \"edif\", \"path_rad\"]].values\n",
    "        Y[i, :, :] = M\n",
    "    return Y"
   ]
  },
  {
   "cell_type": "code",
   "execution_count": 3,
   "id": "d1e838b9",
   "metadata": {},
   "outputs": [],
   "source": [
    "output_folder_path = \"/fmi/projappl/project_2004400/jamin/data/libradtran_data/NN_data/output_params/\"\n",
    "outputs = gen_outputs(output_folder_path)"
   ]
  },
  {
   "cell_type": "code",
   "execution_count": 4,
   "id": "6a61ea8a",
   "metadata": {},
   "outputs": [
    {
     "data": {
      "text/plain": [
       "(1728, 235002, 9)"
      ]
     },
     "execution_count": 4,
     "metadata": {},
     "output_type": "execute_result"
    }
   ],
   "source": [
    "outputs.shape"
   ]
  },
  {
   "cell_type": "code",
   "execution_count": 14,
   "id": "4bfe2f6f",
   "metadata": {},
   "outputs": [],
   "source": [
    "def save_HDF5(Y, save_loc, file_name):\n",
    "    \"\"\"\n",
    "    Saves the given NumPy array into the desired location in HDF5 format.\n",
    "    \n",
    "    Args:\n",
    "        Y: NumPy array\n",
    "        save_loc: the path to the desired saving location\n",
    "        file_name: name of the saved file\n",
    "        \n",
    "    Returns:\n",
    "        None.\n",
    "    \"\"\"\n",
    "    full_path = save_loc + file_name\n",
    "    with h5py.File(full_path, \"w\") as hf:\n",
    "        hf.create_dataset(\"output_data\", data=Y)"
   ]
  },
  {
   "cell_type": "code",
   "execution_count": 18,
   "id": "0bac7443",
   "metadata": {},
   "outputs": [],
   "source": [
    "output_save_loc = \"/fmi/projappl/project_2004400/jamin/data/libradtran_data/NN_data/\"\n",
    "output_file_name = \"outputs.h5\"\n",
    "save_HDF5(Y=outputs, save_loc=output_save_loc, file_name=output_file_name)"
   ]
  },
  {
   "cell_type": "markdown",
   "id": "b44714ce",
   "metadata": {},
   "source": [
    "**Making sure that the inputs match the outputs**"
   ]
  },
  {
   "cell_type": "code",
   "execution_count": 25,
   "id": "150660e0",
   "metadata": {},
   "outputs": [],
   "source": [
    "X = pd.read_csv(\"/fmi/projappl/project_2004400/jamin/data/libradtran_data/NN_data/inputs.csv\", index_col=0)"
   ]
  },
  {
   "cell_type": "code",
   "execution_count": 35,
   "id": "9fc1f502",
   "metadata": {},
   "outputs": [],
   "source": [
    "mls_files = list(X[\"atmosphere_file\"])\n",
    "output_files = sorted(os.listdir(output_folder_path))"
   ]
  },
  {
   "cell_type": "code",
   "execution_count": 40,
   "id": "0cb8fb26",
   "metadata": {},
   "outputs": [
    {
     "name": "stdout",
     "output_type": "stream",
     "text": [
      "1728\n",
      "1728\n"
     ]
    }
   ],
   "source": [
    "print(len(mls_files))\n",
    "print(len(output_files))"
   ]
  },
  {
   "cell_type": "code",
   "execution_count": 42,
   "id": "bffe8326",
   "metadata": {},
   "outputs": [
    {
     "data": {
      "text/plain": [
       "['afglms_Q1_0', 'afglms_Q1_0', 'afglms_Q1_0']"
      ]
     },
     "execution_count": 42,
     "metadata": {},
     "output_type": "execute_result"
    }
   ],
   "source": [
    "mls_files[:3]"
   ]
  },
  {
   "cell_type": "code",
   "execution_count": 43,
   "id": "f42c7e2a",
   "metadata": {},
   "outputs": [
    {
     "data": {
      "text/plain": [
       "['afglms_Q1_0_sza25_vza1.0_phi0_phi00_alt0_tau0.05.json',\n",
       " 'afglms_Q1_0_sza25_vza1.0_phi0_phi00_alt0_tau0.15.json',\n",
       " 'afglms_Q1_0_sza25_vza1.0_phi0_phi00_alt0_tau0.3.json']"
      ]
     },
     "execution_count": 43,
     "metadata": {},
     "output_type": "execute_result"
    }
   ],
   "source": [
    "output_files[:3]"
   ]
  },
  {
   "cell_type": "code",
   "execution_count": 51,
   "id": "117fccc8",
   "metadata": {},
   "outputs": [
    {
     "name": "stdout",
     "output_type": "stream",
     "text": [
      "All names match\n"
     ]
    }
   ],
   "source": [
    "for i in range(len(mls_files)):\n",
    "    # Length of the ith mls file name\n",
    "    str_len = len(mls_files[i])\n",
    "    # Slice from the output file names \n",
    "    output_name = output_files[i][:str_len]\n",
    "    # Check that they match\n",
    "    assert output_name == mls_files[i], \"names don't match\"\n",
    "    if i == len(mls_files) - 1:\n",
    "        print(\"All names match\")"
   ]
  }
 ],
 "metadata": {
  "kernelspec": {
   "display_name": "Python 3 (ipykernel)",
   "language": "python",
   "name": "python3"
  },
  "language_info": {
   "codemirror_mode": {
    "name": "ipython",
    "version": 3
   },
   "file_extension": ".py",
   "mimetype": "text/x-python",
   "name": "python",
   "nbconvert_exporter": "python",
   "pygments_lexer": "ipython3",
   "version": "3.9.18"
  }
 },
 "nbformat": 4,
 "nbformat_minor": 5
}
