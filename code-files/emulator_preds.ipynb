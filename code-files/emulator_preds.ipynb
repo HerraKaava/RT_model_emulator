{
 "cells": [
  {
   "cell_type": "code",
   "execution_count": 1,
   "id": "1c94d908",
   "metadata": {},
   "outputs": [],
   "source": [
    "import numpy\n",
    "import h5py\n",
    "import os"
   ]
  },
  {
   "cell_type": "code",
   "execution_count": 2,
   "id": "b674dd0d",
   "metadata": {},
   "outputs": [],
   "source": [
    "def load_HDF5(file_path):\n",
    "    with h5py.File(name=file_path, mode=\"r\") as hf:\n",
    "        data = hf[\"output_data\"][:]\n",
    "    return data"
   ]
  },
  {
   "cell_type": "code",
   "execution_count": 3,
   "id": "0a331a3a",
   "metadata": {},
   "outputs": [],
   "source": [
    "def load_emulator_preds(path: str):\n",
    "    \"\"\"\n",
    "    Loads the emulators for the following transfer functions:\n",
    "    edif, edir, path_rad, spherical_albedo, tdif_up, tdir_up.\n",
    "    \"\"\"\n",
    "    output_dict = {}\n",
    "    output_dict[\"edif_preds\"] = load_HDF5(path + \"edif_preds.h5\")\n",
    "    output_dict[\"edir_preds\"] = load_HDF5(path + \"edir_preds.h5\")\n",
    "    output_dict[\"path_rad_preds\"] = load_HDF5(path + \"path_rad_preds.h5\")\n",
    "    output_dict[\"spherical_albedo_preds\"] = load_HDF5(path + \"spherical_albedo_preds.h5\")\n",
    "    output_dict[\"tdif_up_preds\"] = load_HDF5(path + \"tdif_up_preds.h5\")\n",
    "    output_dict[\"tdir_up_preds\"] = load_HDF5(path + \"tdir_up_preds.h5\")\n",
    "    return output_dict"
   ]
  },
  {
   "cell_type": "markdown",
   "id": "f38db4a4",
   "metadata": {},
   "source": [
    "<h3>Convert into .py file</h3>"
   ]
  },
  {
   "cell_type": "code",
   "execution_count": 4,
   "id": "b645721e",
   "metadata": {},
   "outputs": [
    {
     "name": "stdout",
     "output_type": "stream",
     "text": [
      "[NbConvertApp] Converting notebook emulator_preds.ipynb to script\n",
      "[NbConvertApp] Writing 1283 bytes to emulator_preds.py\n"
     ]
    }
   ],
   "source": [
    "!jupyter nbconvert --to script emulator_preds.ipynb"
   ]
  },
  {
   "cell_type": "markdown",
   "id": "78ce9f45",
   "metadata": {},
   "source": [
    "- Jupyter notebooks need to be converted to python scripts ('.py' files) to be imported directly into another notebook / script.\n",
    "- Note that this notebook is not converted into a .py file, but rather a copy of this notebook is made as a .py script."
   ]
  }
 ],
 "metadata": {
  "kernelspec": {
   "display_name": "Python 3 (ipykernel)",
   "language": "python",
   "name": "python3"
  },
  "language_info": {
   "codemirror_mode": {
    "name": "ipython",
    "version": 3
   },
   "file_extension": ".py",
   "mimetype": "text/x-python",
   "name": "python",
   "nbconvert_exporter": "python",
   "pygments_lexer": "ipython3",
   "version": "3.9.18"
  }
 },
 "nbformat": 4,
 "nbformat_minor": 5
}
