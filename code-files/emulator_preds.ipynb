{
 "cells": [
  {
   "cell_type": "code",
   "execution_count": 6,
   "id": "1c94d908",
   "metadata": {},
   "outputs": [],
   "source": [
    "import numpy\n",
    "import h5py\n",
    "import os"
   ]
  },
  {
   "cell_type": "code",
   "execution_count": 7,
   "id": "b674dd0d",
   "metadata": {},
   "outputs": [],
   "source": [
    "def load_HDF5(file_path):\n",
    "    with h5py.File(name=file_path, mode=\"r\") as hf:\n",
    "        data = hf[\"output_data\"][:]\n",
    "    return data"
   ]
  },
  {
   "cell_type": "code",
   "execution_count": 8,
   "id": "0a331a3a",
   "metadata": {},
   "outputs": [],
   "source": [
    "def load_emulator_val_preds(path: str):\n",
    "    \"\"\"\n",
    "    Loads the predictions made by the emulators on the validation data for the following transfer functions:\n",
    "    edif, edir, path_rad, spherical_albedo, tdif_up, tdir_up.\n",
    "    \"\"\"\n",
    "    ##### A dictionary to store the predictions made on the validation data #####\n",
    "    val_preds = {}\n",
    "    val_preds[\"val_preds_edif\"] = load_HDF5(path + \"val_preds_edif.h5\")\n",
    "    val_preds[\"val_preds_edir\"] = load_HDF5(path + \"val_preds_edir.h5\")\n",
    "    val_preds[\"val_preds_path_rad\"] = load_HDF5(path + \"val_preds_path_rad.h5\")\n",
    "    val_preds[\"val_preds_SA\"] = load_HDF5(path + \"val_preds_spherical_albedo.h5\")\n",
    "    val_preds[\"val_preds_tdif_up\"] = load_HDF5(path + \"val_preds_tdif_up.h5\")\n",
    "    val_preds[\"val_preds_tdir_up\"] = load_HDF5(path + \"val_preds_tdir_up.h5\")\n",
    "    return val_preds"
   ]
  },
  {
   "cell_type": "code",
   "execution_count": 9,
   "id": "662af7b5",
   "metadata": {},
   "outputs": [],
   "source": [
    "def load_emulator_test_preds(path: str):\n",
    "    \"\"\"\n",
    "    Loads the predictions made by the emulators on the test data for the following transfer functions:\n",
    "    edif, edir, path_rad, spherical_albedo, tdif_up, tdir_up.\n",
    "    \"\"\"    \n",
    "    ##### A dictionary to store the predictions made on the test data #####\n",
    "    test_preds = {}\n",
    "    test_preds[\"test_preds_edif\"] = load_HDF5(path + \"test_preds_edif.h5\")\n",
    "    test_preds[\"test_preds_edir\"] = load_HDF5(path + \"test_preds_edir.h5\")\n",
    "    test_preds[\"test_preds_path_rad\"] = load_HDF5(path + \"test_preds_path_rad.h5\")\n",
    "    test_preds[\"test_preds_SA\"] = load_HDF5(path + \"test_preds_spherical_albedo.h5\")\n",
    "    test_preds[\"test_preds_tdif_up\"] = load_HDF5(path + \"test_preds_tdif_up.h5\")\n",
    "    test_preds[\"test_preds_tdir_up\"] = load_HDF5(path + \"test_preds_tdir_up.h5\")\n",
    "    return test_preds"
   ]
  },
  {
   "cell_type": "markdown",
   "id": "f38db4a4",
   "metadata": {},
   "source": [
    "<h3>Convert into .py file</h3>"
   ]
  },
  {
   "cell_type": "code",
   "execution_count": 10,
   "id": "b645721e",
   "metadata": {},
   "outputs": [
    {
     "name": "stdout",
     "output_type": "stream",
     "text": [
      "[NbConvertApp] Converting notebook emulator_preds.ipynb to script\n",
      "[NbConvertApp] Writing 2266 bytes to emulator_preds.py\n"
     ]
    }
   ],
   "source": [
    "!jupyter nbconvert --to script emulator_preds.ipynb"
   ]
  },
  {
   "cell_type": "markdown",
   "id": "78ce9f45",
   "metadata": {},
   "source": [
    "- Jupyter notebooks need to be converted to python scripts ('.py' files) to be imported directly into another notebook / script.\n",
    "- Note that this notebook is not converted into a .py file, but rather a copy of this notebook is made as a .py script."
   ]
  }
 ],
 "metadata": {
  "kernelspec": {
   "display_name": "Python 3 (ipykernel)",
   "language": "python",
   "name": "python3"
  },
  "language_info": {
   "codemirror_mode": {
    "name": "ipython",
    "version": 3
   },
   "file_extension": ".py",
   "mimetype": "text/x-python",
   "name": "python",
   "nbconvert_exporter": "python",
   "pygments_lexer": "ipython3",
   "version": "3.9.18"
  }
 },
 "nbformat": 4,
 "nbformat_minor": 5
}
