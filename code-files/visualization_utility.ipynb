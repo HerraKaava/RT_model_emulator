{
 "cells": [
  {
   "cell_type": "code",
   "execution_count": 1,
   "id": "c8b0f081",
   "metadata": {},
   "outputs": [],
   "source": [
    "import sys\n",
    "import warnings\n",
    "import numpy as np\n",
    "import matplotlib as mpl\n",
    "import matplotlib.pyplot as plt\n",
    "from matplotlib.colors import LogNorm\n",
    "from sklearn.metrics import r2_score"
   ]
  },
  {
   "cell_type": "markdown",
   "id": "f1314e73",
   "metadata": {},
   "source": [
    "**NOTE!!!!**\n",
    "\n",
    "- The number of predictors (input features) for the $\\, R^2 \\,$ calculation is fixed at $\\, \\boldsymbol{53}. \\,$\n",
    "- This can be changed by altering the $\\, \\text{p} \\,$ parameter of the $\\, \\text{adjusted_R2} \\,$ function."
   ]
  },
  {
   "cell_type": "markdown",
   "id": "6770a302",
   "metadata": {},
   "source": [
    "<h3>Helper functions</h3>"
   ]
  },
  {
   "cell_type": "code",
   "execution_count": 2,
   "id": "8ff1a8b5",
   "metadata": {},
   "outputs": [],
   "source": [
    "def make_cmap(colors, position=None, bit=False):\n",
    "    '''\n",
    "    The RGB values may either be in 8-bit [0 to 255] (in which bit must be set to True when called) \n",
    "    or arithmetic [0 to 1] (default). \n",
    "    \n",
    "    Args:\n",
    "    colors -- a list containing RGB values\n",
    "    \n",
    "    Returns:\n",
    "    \n",
    "    Notes:\n",
    "    - The RGB values may either be in 8-bit\n",
    "    - If 8-bit RGB values are used, the 'bit' argument must be set to True.\n",
    "    \n",
    "    make_cmap returns\n",
    "    a cmap with equally spaced colors.\n",
    "    Arrange your tuples so that the first color is the lowest value for the\n",
    "    colorbar and the last is the highest.\n",
    "    position contains values from 0 to 1 to dictate the location of each color.\n",
    "    '''\n",
    "    bit_rgb = np.linspace(0, 1, 256)\n",
    "    if position is None:\n",
    "        position = np.linspace(0, 1, len(colors))\n",
    "    else:\n",
    "        if len(position) != len(colors):\n",
    "            sys.exit(\"position length must be the same as colors\")\n",
    "        elif position[0] != 0 or position[-1] != 1:\n",
    "            sys.exit(\"position must start with 0 and end with 1\")\n",
    "    if bit:\n",
    "        for i in range(len(colors)):\n",
    "            colors[i] = (bit_rgb[colors[i][0]],\n",
    "                         bit_rgb[colors[i][1]],\n",
    "                         bit_rgb[colors[i][2]])\n",
    "    cdict = {'red': [], 'green': [], 'blue': []}\n",
    "    for pos, color in zip(position, colors):\n",
    "        cdict['red'].append((pos, color[0], color[0]))\n",
    "        cdict['green'].append((pos, color[1], color[1]))\n",
    "        cdict['blue'].append((pos, color[2], color[2]))\n",
    "\n",
    "    cmap = mpl.colors.LinearSegmentedColormap('my_colormap', cdict, 256)\n",
    "    return cmap"
   ]
  },
  {
   "cell_type": "code",
   "execution_count": 3,
   "id": "57deefe4",
   "metadata": {},
   "outputs": [],
   "source": [
    "cmap2Dhist = make_cmap([(255, 255, 255), (127, 188, 227), (82, 170, 115), (225, 189, 74), (222, 64, 39), (149, 21, 25)], bit=True)"
   ]
  },
  {
   "cell_type": "code",
   "execution_count": 4,
   "id": "41fc1948",
   "metadata": {},
   "outputs": [],
   "source": [
    "def adjusted_R2(y_true, y_pred, p=53):\n",
    "    \"\"\"\n",
    "    Calculates the adjusted R-squared (R2) value.\n",
    "    \n",
    "    R-squared: R2 measures the proportion of the variance in the dependent variable that is predictable \n",
    "               from the independent variables. R2 indicates how well the model fits the data.\n",
    "               R2 is useful when using a single predictor. However, when using multiple predictors,\n",
    "               R2 will always increase as more predictors are added, even if those predictors do not\n",
    "               actually  contribute to the model's predictive power.\n",
    "               \n",
    "    Adjusted R-squared: Adjusted R2 modifies the R2 value by accounting for the number of predictors \n",
    "                        in the model relative to the number of data points. \n",
    "                        Adjusted R2 adjusts for the degrees of freedom, penalizing the addition of \n",
    "                        non-significant predictors. Adjusted R2 is more appropriate when performing\n",
    "                        regression with multiple predictors.\n",
    "                        \n",
    "    Args:\n",
    "    y_true -- the true y-values\n",
    "    y_pred -- the y-values predicted by the model\n",
    "    p -- the number of predictors in the model\n",
    "    \n",
    "    Returns:\n",
    "    R2_adj -- adjusted R2 value.\n",
    "    \"\"\"\n",
    "    n = y_true.size    # The number of observations\n",
    "    R2 = r2_score(y_true, y_pred)\n",
    "    R2_adj = 1 - (((1 - R2) * (n - 1)) / (n - p - 1))\n",
    "    return R2_adj"
   ]
  },
  {
   "cell_type": "code",
   "execution_count": 5,
   "id": "7b2de355",
   "metadata": {},
   "outputs": [],
   "source": [
    "def computeStats(true, predicted, computeEEratio=False):\n",
    "    with warnings.catch_warnings():\n",
    "        warnings.filterwarnings('ignore', message='invalid value encountered in true_divide')  # temporarily ignore this warning (would give warnings if predicted only contains a single value)\n",
    "        N = len(true)\n",
    "        R = np.corrcoef(true, predicted)[0, 1]\n",
    "        #R2 = R**2  # r2_score(true, predicted)\n",
    "        R2_adj = adjusted_R2(true, predicted)\n",
    "        RMSE = np.sqrt(np.mean((true - predicted)**2))\n",
    "        BIAS = np.median(predicted - true)\n",
    "        #EE = None\n",
    "        if computeEEratio:\n",
    "            EE = np.logical_and(predicted >= true * 0.85 - 0.05, predicted <= true * 1.15 + 0.05).sum() / N * 100.0\n",
    "    return R, R2_adj, RMSE, BIAS"
   ]
  },
  {
   "cell_type": "code",
   "execution_count": 6,
   "id": "de6abac8",
   "metadata": {},
   "outputs": [],
   "source": [
    "def calculate_errorbars_in_range(x,y,start_val,stop_val,step):\n",
    "    xx = np.arange(start_val,stop_val,step)\n",
    "    \n",
    "    x_loc = np.zeros(xx.size-1)\n",
    "    y_mean = np.zeros(xx.size-1)\n",
    "    y_std = np.zeros(xx.size-1)\n",
    "    \n",
    "    for i in range(np.size(xx)-1):\n",
    "        ind = np.where(np.logical_and(x >= xx[i], x < xx[i+1]))\n",
    "        \n",
    "        vals = y[ind]\n",
    "        \n",
    "        if vals.size == 0:\n",
    "            y_mean[i] = np.nan\n",
    "            y_std[i] = np.nan\n",
    "        else:\n",
    "            y_mean[i] = np.nanmean(vals)\n",
    "            y_std[i] = np.nanstd(vals)\n",
    "            \n",
    "        x_loc[i] = np.nanmean((xx[i],xx[i+1]))\n",
    "\n",
    "    return x_loc, y_mean, y_std"
   ]
  },
  {
   "cell_type": "markdown",
   "id": "2a3d49b7",
   "metadata": {},
   "source": [
    "<h3>Main plotting function</h3>"
   ]
  },
  {
   "cell_type": "code",
   "execution_count": 7,
   "id": "aa3d8229",
   "metadata": {},
   "outputs": [],
   "source": [
    "def plot_data(y_true, y_pred, title, x_label, y_label, error_bar_on=True, save_fig=False, fig_name=None):\n",
    "    \"\"\"\n",
    "    Args:\n",
    "    y_true -- true output values\n",
    "    y_pred -- predicted output values\n",
    "    title -- title name for plot\n",
    "    x_label --  x-axis label for plot\n",
    "    y_label -- y-xis label for plot\n",
    "    error_bar_on -- if True, plots the error bar\n",
    "    save_fig -- if True, saves the figure in the current working directory\n",
    "    \"\"\"\n",
    "    if not isinstance(y_true, np.ndarray):\n",
    "        y_true = np.array(y_true)\n",
    "    \n",
    "    if not isinstance(y_pred, np.ndarray):\n",
    "        y_pred = np.array(y_pred)\n",
    "        \n",
    "    y_true = y_true.ravel()\n",
    "    y_pred = y_pred.ravel()\n",
    "    \n",
    "    y_true_min = np.min(y_true) - 0.5\n",
    "    y_true_max = np.max(y_true) + 0.5\n",
    "    y_pred_min = np.min(y_pred) - 0.5\n",
    "    y_pred_max = np.max(y_pred) + 0.5\n",
    "    \n",
    "    N = int(np.size(y_true))\n",
    "    \n",
    "    fig = plt.figure(figsize=(8, 6), dpi=100)\n",
    "    ax = fig.subplots()\n",
    "    \n",
    "    #ax.scatter(y_true, y_pred, zorder=1)\n",
    "        \n",
    "    norm2Dhist = LogNorm(vmin=1, vmax=int(0.025 * N))\n",
    "    \n",
    "    ax.hist2d(y_true, y_pred, bins=(64,64), range=[[y_true_min, y_true_max],[y_pred_min, y_pred_max]], cmap=cmap2Dhist, norm=norm2Dhist, alpha=0.8, zorder=2)\n",
    "    ax.grid(True)\n",
    "    \n",
    "    ax.set_ylabel(y_label)\n",
    "    ax.set_xlabel(x_label)\n",
    "    ax.set_title(title)\n",
    "    ax.set_ylim([y_pred_min, y_pred_max])\n",
    "    ax.set_xlim([y_true_min, y_true_max])\n",
    "    \n",
    "    ax.plot([y_true_min, y_true_max], [y_true_min, y_true_max], \"k-\", linewidth=2.0, alpha=0.8, zorder=3)\n",
    "        \n",
    "    axCB = fig.add_axes([0.935, 0.1, 0.02, 0.85])\n",
    "    cb1 = mpl.colorbar.ColorbarBase(axCB, cmap=cmap2Dhist, norm=norm2Dhist, orientation='vertical')\n",
    "    cb1.set_label('N', fontsize=24)\n",
    "    \n",
    "    if error_bar_on:\n",
    "        x_error_loc, y_mean, y_std = calculate_errorbars_in_range(y_true, y_pred, np.min(y_true), np.max(y_true), 1)\n",
    "        ax.errorbar(x_error_loc, y_mean, y_std,marker='o',ecolor=\"m\",markerfacecolor='m',linestyle='None',capsize=5,zorder=4)\n",
    "    \n",
    "    R, R2, RMSE, BIAS = computeStats(y_true, y_pred)\n",
    "    \n",
    "    ax.text(0.99, 0.08 + 4 * 0.08, 'N={}'.format(N), horizontalalignment='right', verticalalignment='top', transform=ax.transAxes, fontsize=18, color='k', zorder=99)#, bbox={'facecolor': 'white', 'alpha': 0.7, 'boxstyle': 'square,pad=0.03'})\n",
    "    #ax.text(0.99, 0.08 + 4 * 0.08, 'R={:.3f}'.format(R), horizontalalignment='right', verticalalignment='top', transform=ax.transAxes, fontsize=18, color='k', zorder=99)#, bbox={'facecolor': 'white', 'alpha': 0.7, 'boxstyle': 'square,pad=0.03'})\n",
    "    ax.text(0.99, 0.08 + 3 * 0.08, 'R2 (adjusted)={:.3f}'.format(R2), horizontalalignment='right', verticalalignment='top', transform=ax.transAxes, fontsize=18, color='k', zorder=99)#, bbox={'facecolor': 'white', 'alpha': 0.7, 'boxstyle': 'square,pad=0.03'})\n",
    "    ax.text(0.99, 0.08 + 2 * 0.08, 'RMSE={:.3f}'.format(RMSE), horizontalalignment='right', verticalalignment='top', transform=ax.transAxes, fontsize=18, color='k', zorder=99)#, bbox={'facecolor': 'white', 'alpha': 0.7, 'boxstyle': 'square,pad=0.03'})\n",
    "    ax.text(0.99, 0.08 + 1 * 0.08, 'BIAS={:.3f}'.format(BIAS), horizontalalignment='right', verticalalignment='top', transform=ax.transAxes, fontsize=18, color='k', zorder=99)#, bbox={'facecolor': 'white', 'alpha': 0.7, 'boxstyle': 'square,pad=0.03'})\n",
    "    #ax.text(0.99, 0.08 + 0 * 0.08, 'EE={}'.format(EE), horizontalalignment='right', verticalalignment='top', transform=ax.transAxes, fontsize=18, color='k', zorder=99)#, bbox={'facecolor': 'white', 'alpha': 0.7, 'boxstyle': 'square,pad=0.03'})\n",
    "    \n",
    "    if save_fig:\n",
    "        if fig_name is None:\n",
    "            raise ValueError(\"fig_name must be provided if save_fig is True\")\n",
    "        fig.savefig(fig_name + \".png\")"
   ]
  },
  {
   "cell_type": "markdown",
   "id": "53c7162a",
   "metadata": {},
   "source": [
    "<h3>Convert into .py file</h3>"
   ]
  },
  {
   "cell_type": "code",
   "execution_count": 8,
   "id": "0fa42444",
   "metadata": {},
   "outputs": [
    {
     "name": "stdout",
     "output_type": "stream",
     "text": [
      "[NbConvertApp] Converting notebook visualization_utility.ipynb to script\n",
      "[NbConvertApp] Writing 9172 bytes to visualization_utility.py\n"
     ]
    }
   ],
   "source": [
    "!jupyter nbconvert --to script visualization_utility.ipynb"
   ]
  },
  {
   "cell_type": "markdown",
   "id": "2469247d",
   "metadata": {},
   "source": [
    "- Jupyter notebooks need to be converted to python scripts ('.py' files) to be imported directly into another notebook / script.\n",
    "- It seems that this did not convert this notebook into a .py file, but rather made a copy of this notebook as a .py script."
   ]
  }
 ],
 "metadata": {
  "kernelspec": {
   "display_name": "Python 3 (ipykernel)",
   "language": "python",
   "name": "python3"
  },
  "language_info": {
   "codemirror_mode": {
    "name": "ipython",
    "version": 3
   },
   "file_extension": ".py",
   "mimetype": "text/x-python",
   "name": "python",
   "nbconvert_exporter": "python",
   "pygments_lexer": "ipython3",
   "version": "3.9.18"
  }
 },
 "nbformat": 4,
 "nbformat_minor": 5
}
