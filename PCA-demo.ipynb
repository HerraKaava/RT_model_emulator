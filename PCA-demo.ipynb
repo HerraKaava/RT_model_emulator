{
 "cells": [
  {
   "cell_type": "markdown",
   "id": "c3d25153",
   "metadata": {},
   "source": [
    "<h1 align=\"center\">Principal Component Analysis</h1>"
   ]
  },
  {
   "cell_type": "markdown",
   "id": "22ceec11",
   "metadata": {},
   "source": [
    "<br>"
   ]
  },
  {
   "cell_type": "markdown",
   "id": "b115eff8",
   "metadata": {},
   "source": [
    "I made this quick tutorial on PCA to freshen my memory on PCA, and also for other people in the FMI group in case they want to learn the basics of PCA in python."
   ]
  },
  {
   "cell_type": "markdown",
   "id": "878128bd",
   "metadata": {},
   "source": [
    "<br>"
   ]
  },
  {
   "cell_type": "markdown",
   "id": "7fb38f2a",
   "metadata": {},
   "source": [
    "- When faced with a large set of correlated variables, principal components allow us to summarize this set with\n",
    "a smaller number of representative variables that collectively explain most of the variability in the original set. "
   ]
  },
  {
   "cell_type": "markdown",
   "id": "6ec0fc32",
   "metadata": {},
   "source": [
    "- PCA is a dimensionality reduction technique. It finds a low-dimensional representation of a data set that contains as much as possible of the variation of the original data set and its features. In other words, the data is projected into a lower dimensional space, while trying to retain as much variance of the original data as possible."
   ]
  },
  {
   "cell_type": "markdown",
   "id": "2128dfa4",
   "metadata": {},
   "source": [
    "- 100% of the variance of the data is explained by all of the p original features. That is, in PCA, we trade off some of the explained variance for less dimensions."
   ]
  },
  {
   "cell_type": "markdown",
   "id": "f711917f",
   "metadata": {},
   "source": [
    "- When the principal components are found, they are constructed in such a way that they are **uncorrelated** with each other."
   ]
  },
  {
   "cell_type": "markdown",
   "id": "1b7589ff",
   "metadata": {},
   "source": [
    "- To perform principal components regression, we simply use principal components as predictors in a regression model in place of the original larger set of variables."
   ]
  },
  {
   "cell_type": "markdown",
   "id": "a7578389",
   "metadata": {},
   "source": [
    "- PCA is unsupervised approach, since it involves only a set of features $\\, X_1,X_2,...,X_p, \\,$ and no associated response $\\, Y.$"
   ]
  },
  {
   "cell_type": "markdown",
   "id": "901a7d12",
   "metadata": {},
   "source": [
    "- Apart from producing derived variables for use in supervised learning problems, PCA also serves as a tool for **data visualization** (when there are many features, we would like to find a low-dimensional representation (visualization) of the data that captures as much of the information as possible)."
   ]
  },
  {
   "cell_type": "markdown",
   "id": "3f5c2646",
   "metadata": {},
   "source": [
    "- PCA can also be used for *missing data imputation*."
   ]
  },
  {
   "cell_type": "markdown",
   "id": "44bcb4a3",
   "metadata": {},
   "source": [
    "- Each of the dimensions found by PCA is a normalized linear combination of the *p* original features. The first principal component, for example, could be written as\n",
    "\n",
    "\\begin{equation}\n",
    "    Z_1 = \\phi_{11} X_1 + \\phi_{21} X_2 + ... + \\phi_{p1} X_p.\n",
    "\\end{equation}"
   ]
  },
  {
   "cell_type": "markdown",
   "id": "ed9cd670",
   "metadata": {},
   "source": [
    "<br>"
   ]
  },
  {
   "cell_type": "code",
   "execution_count": 69,
   "id": "78b54b60",
   "metadata": {},
   "outputs": [],
   "source": [
    "import numpy as np\n",
    "import matplotlib.pyplot as plt\n",
    "import seaborn as sns\n",
    "import pandas as pd\n",
    "from sklearn.preprocessing import StandardScaler\n",
    "from sklearn.decomposition import PCA"
   ]
  },
  {
   "cell_type": "code",
   "execution_count": 3,
   "id": "3c206d33",
   "metadata": {},
   "outputs": [
    {
     "data": {
      "image/png": "[encoded data removed]",
      "text/plain": [
       "<Figure size 640x480 with 1 Axes>"
      ]
     },
     "metadata": {},
     "output_type": "display_data"
    }
   ],
   "source": [
    "x1 = np.array([1, 2, 3, 4, 5, 6])\n",
    "x2 = np.array([2, 1, 2, 4, 3, 5])\n",
    "x1_mean = np.mean(x1)\n",
    "x2_mean = np.mean(x2)\n",
    "plt.scatter(x1, x2)\n",
    "plt.scatter(x1_mean, x2_mean, color='red');"
   ]
  },
  {
   "cell_type": "code",
   "execution_count": 5,
   "id": "0b6dfce5",
   "metadata": {
    "scrolled": false
   },
   "outputs": [
    {
     "data": {
      "image/png": "[encoded data removed]",
      "text/plain": [
       "<Figure size 640x480 with 1 Axes>"
      ]
     },
     "metadata": {},
     "output_type": "display_data"
    }
   ],
   "source": [
    "plt.scatter(x1 - x1_mean, x2 - x2_mean)\n",
    "plt.scatter(0, 0, color='red');"
   ]
  },
  {
   "cell_type": "markdown",
   "id": "2737efec",
   "metadata": {},
   "source": [
    "- Here we shift the data by centering the means of features x1, x2 to be zero. This essentially centers the data around the point (0, 0).\n",
    "- Note that the relationships between the data points does not change when compared to the original (previous) plot.\n",
    "- This centering process is done in the preprocessing of the data in the PCA."
   ]
  },
  {
   "cell_type": "markdown",
   "id": "68d784de",
   "metadata": {},
   "source": [
    "<br>"
   ]
  },
  {
   "cell_type": "markdown",
   "id": "f62684dc",
   "metadata": {},
   "source": [
    "<h3 align=\"left\">Manually implementing the PCA</h3>"
   ]
  },
  {
   "cell_type": "markdown",
   "id": "972f465d",
   "metadata": {},
   "source": [
    "**PCA steps**\n",
    "\n",
    "- get original data\n",
    "- calculate covariance matrix\n",
    "- calculate eigenvectors\n",
    "- sort eigenvectors by eigenvalues\n",
    "- choose N largest eigenvalues\n",
    "- project original data onto eigenvectors"
   ]
  },
  {
   "cell_type": "code",
   "execution_count": 7,
   "id": "892ccfb7",
   "metadata": {},
   "outputs": [],
   "source": [
    "df = pd.read_csv(\"/home/jaminkiukkonen/Desktop/ml/machine_learning/DATA/cancer_tumor_data_features.csv\")"
   ]
  },
  {
   "cell_type": "code",
   "execution_count": 8,
   "id": "640b049d",
   "metadata": {},
   "outputs": [
    {
     "data": {
      "text/html": [
       "<div>\n",
       "<style scoped>\n",
       "    .dataframe tbody tr th:only-of-type {\n",
       "        vertical-align: middle;\n",
       "    }\n",
       "\n",
       "    .dataframe tbody tr th {\n",
       "        vertical-align: top;\n",
       "    }\n",
       "\n",
       "    .dataframe thead th {\n",
       "        text-align: right;\n",
       "    }\n",
       "</style>\n",
       "<table border=\"1\" class=\"dataframe\">\n",
       "  <thead>\n",
       "    <tr style=\"text-align: right;\">\n",
       "      <th></th>\n",
       "      <th>mean radius</th>\n",
       "      <th>mean texture</th>\n",
       "      <th>mean perimeter</th>\n",
       "      <th>mean area</th>\n",
       "      <th>mean smoothness</th>\n",
       "      <th>mean compactness</th>\n",
       "      <th>mean concavity</th>\n",
       "      <th>mean concave points</th>\n",
       "      <th>mean symmetry</th>\n",
       "      <th>mean fractal dimension</th>\n",
       "      <th>...</th>\n",
       "      <th>worst radius</th>\n",
       "      <th>worst texture</th>\n",
       "      <th>worst perimeter</th>\n",
       "      <th>worst area</th>\n",
       "      <th>worst smoothness</th>\n",
       "      <th>worst compactness</th>\n",
       "      <th>worst concavity</th>\n",
       "      <th>worst concave points</th>\n",
       "      <th>worst symmetry</th>\n",
       "      <th>worst fractal dimension</th>\n",
       "    </tr>\n",
       "  </thead>\n",
       "  <tbody>\n",
       "    <tr>\n",
       "      <th>0</th>\n",
       "      <td>17.99</td>\n",
       "      <td>10.38</td>\n",
       "      <td>122.80</td>\n",
       "      <td>1001.0</td>\n",
       "      <td>0.11840</td>\n",
       "      <td>0.27760</td>\n",
       "      <td>0.3001</td>\n",
       "      <td>0.14710</td>\n",
       "      <td>0.2419</td>\n",
       "      <td>0.07871</td>\n",
       "      <td>...</td>\n",
       "      <td>25.38</td>\n",
       "      <td>17.33</td>\n",
       "      <td>184.60</td>\n",
       "      <td>2019.0</td>\n",
       "      <td>0.1622</td>\n",
       "      <td>0.6656</td>\n",
       "      <td>0.7119</td>\n",
       "      <td>0.2654</td>\n",
       "      <td>0.4601</td>\n",
       "      <td>0.11890</td>\n",
       "    </tr>\n",
       "    <tr>\n",
       "      <th>1</th>\n",
       "      <td>20.57</td>\n",
       "      <td>17.77</td>\n",
       "      <td>132.90</td>\n",
       "      <td>1326.0</td>\n",
       "      <td>0.08474</td>\n",
       "      <td>0.07864</td>\n",
       "      <td>0.0869</td>\n",
       "      <td>0.07017</td>\n",
       "      <td>0.1812</td>\n",
       "      <td>0.05667</td>\n",
       "      <td>...</td>\n",
       "      <td>24.99</td>\n",
       "      <td>23.41</td>\n",
       "      <td>158.80</td>\n",
       "      <td>1956.0</td>\n",
       "      <td>0.1238</td>\n",
       "      <td>0.1866</td>\n",
       "      <td>0.2416</td>\n",
       "      <td>0.1860</td>\n",
       "      <td>0.2750</td>\n",
       "      <td>0.08902</td>\n",
       "    </tr>\n",
       "    <tr>\n",
       "      <th>2</th>\n",
       "      <td>19.69</td>\n",
       "      <td>21.25</td>\n",
       "      <td>130.00</td>\n",
       "      <td>1203.0</td>\n",
       "      <td>0.10960</td>\n",
       "      <td>0.15990</td>\n",
       "      <td>0.1974</td>\n",
       "      <td>0.12790</td>\n",
       "      <td>0.2069</td>\n",
       "      <td>0.05999</td>\n",
       "      <td>...</td>\n",
       "      <td>23.57</td>\n",
       "      <td>25.53</td>\n",
       "      <td>152.50</td>\n",
       "      <td>1709.0</td>\n",
       "      <td>0.1444</td>\n",
       "      <td>0.4245</td>\n",
       "      <td>0.4504</td>\n",
       "      <td>0.2430</td>\n",
       "      <td>0.3613</td>\n",
       "      <td>0.08758</td>\n",
       "    </tr>\n",
       "    <tr>\n",
       "      <th>3</th>\n",
       "      <td>11.42</td>\n",
       "      <td>20.38</td>\n",
       "      <td>77.58</td>\n",
       "      <td>386.1</td>\n",
       "      <td>0.14250</td>\n",
       "      <td>0.28390</td>\n",
       "      <td>0.2414</td>\n",
       "      <td>0.10520</td>\n",
       "      <td>0.2597</td>\n",
       "      <td>0.09744</td>\n",
       "      <td>...</td>\n",
       "      <td>14.91</td>\n",
       "      <td>26.50</td>\n",
       "      <td>98.87</td>\n",
       "      <td>567.7</td>\n",
       "      <td>0.2098</td>\n",
       "      <td>0.8663</td>\n",
       "      <td>0.6869</td>\n",
       "      <td>0.2575</td>\n",
       "      <td>0.6638</td>\n",
       "      <td>0.17300</td>\n",
       "    </tr>\n",
       "    <tr>\n",
       "      <th>4</th>\n",
       "      <td>20.29</td>\n",
       "      <td>14.34</td>\n",
       "      <td>135.10</td>\n",
       "      <td>1297.0</td>\n",
       "      <td>0.10030</td>\n",
       "      <td>0.13280</td>\n",
       "      <td>0.1980</td>\n",
       "      <td>0.10430</td>\n",
       "      <td>0.1809</td>\n",
       "      <td>0.05883</td>\n",
       "      <td>...</td>\n",
       "      <td>22.54</td>\n",
       "      <td>16.67</td>\n",
       "      <td>152.20</td>\n",
       "      <td>1575.0</td>\n",
       "      <td>0.1374</td>\n",
       "      <td>0.2050</td>\n",
       "      <td>0.4000</td>\n",
       "      <td>0.1625</td>\n",
       "      <td>0.2364</td>\n",
       "      <td>0.07678</td>\n",
       "    </tr>\n",
       "  </tbody>\n",
       "</table>\n",
       "<p>5 rows × 30 columns</p>\n",
       "</div>"
      ],
      "text/plain": [
       "   mean radius  mean texture  mean perimeter  mean area  mean smoothness  \\\n",
       "0        17.99         10.38          122.80     1001.0          0.11840   \n",
       "1        20.57         17.77          132.90     1326.0          0.08474   \n",
       "2        19.69         21.25          130.00     1203.0          0.10960   \n",
       "3        11.42         20.38           77.58      386.1          0.14250   \n",
       "4        20.29         14.34          135.10     1297.0          0.10030   \n",
       "\n",
       "   mean compactness  mean concavity  mean concave points  mean symmetry  \\\n",
       "0           0.27760          0.3001              0.14710         0.2419   \n",
       "1           0.07864          0.0869              0.07017         0.1812   \n",
       "2           0.15990          0.1974              0.12790         0.2069   \n",
       "3           0.28390          0.2414              0.10520         0.2597   \n",
       "4           0.13280          0.1980              0.10430         0.1809   \n",
       "\n",
       "   mean fractal dimension  ...  worst radius  worst texture  worst perimeter  \\\n",
       "0                 0.07871  ...         25.38          17.33           184.60   \n",
       "1                 0.05667  ...         24.99          23.41           158.80   \n",
       "2                 0.05999  ...         23.57          25.53           152.50   \n",
       "3                 0.09744  ...         14.91          26.50            98.87   \n",
       "4                 0.05883  ...         22.54          16.67           152.20   \n",
       "\n",
       "   worst area  worst smoothness  worst compactness  worst concavity  \\\n",
       "0      2019.0            0.1622             0.6656           0.7119   \n",
       "1      1956.0            0.1238             0.1866           0.2416   \n",
       "2      1709.0            0.1444             0.4245           0.4504   \n",
       "3       567.7            0.2098             0.8663           0.6869   \n",
       "4      1575.0            0.1374             0.2050           0.4000   \n",
       "\n",
       "   worst concave points  worst symmetry  worst fractal dimension  \n",
       "0                0.2654          0.4601                  0.11890  \n",
       "1                0.1860          0.2750                  0.08902  \n",
       "2                0.2430          0.3613                  0.08758  \n",
       "3                0.2575          0.6638                  0.17300  \n",
       "4                0.1625          0.2364                  0.07678  \n",
       "\n",
       "[5 rows x 30 columns]"
      ]
     },
     "execution_count": 8,
     "metadata": {},
     "output_type": "execute_result"
    }
   ],
   "source": [
    "df.head()"
   ]
  },
  {
   "cell_type": "markdown",
   "id": "52570002",
   "metadata": {},
   "source": [
    "**Scale the data**"
   ]
  },
  {
   "cell_type": "code",
   "execution_count": 12,
   "id": "cbf90a3e",
   "metadata": {},
   "outputs": [],
   "source": [
    "scaler = StandardScaler()\n",
    "scaled_X = scaler.fit_transform(df)"
   ]
  },
  {
   "cell_type": "code",
   "execution_count": 14,
   "id": "239bae94",
   "metadata": {},
   "outputs": [
    {
     "data": {
      "text/plain": [
       "-0.0"
      ]
     },
     "execution_count": 14,
     "metadata": {},
     "output_type": "execute_result"
    }
   ],
   "source": [
    "np.round(scaled_X.mean(), 10)"
   ]
  },
  {
   "cell_type": "code",
   "execution_count": 15,
   "id": "37580555",
   "metadata": {},
   "outputs": [
    {
     "data": {
      "text/plain": [
       "(569, 30)"
      ]
     },
     "execution_count": 15,
     "metadata": {},
     "output_type": "execute_result"
    }
   ],
   "source": [
    "scaled_X.shape"
   ]
  },
  {
   "cell_type": "markdown",
   "id": "d4725ee2",
   "metadata": {},
   "source": [
    "**Calculate covariance matrix**"
   ]
  },
  {
   "cell_type": "code",
   "execution_count": 16,
   "id": "bb791219",
   "metadata": {},
   "outputs": [],
   "source": [
    "cov_mat = np.cov(scaled_X, rowvar=False)"
   ]
  },
  {
   "cell_type": "markdown",
   "id": "8d4ba544",
   "metadata": {},
   "source": [
    "- We don't care about the variance of every single row, but rather the variance of the features (features as displayed as column vectors).\n",
    "- This is why we say *rowvar=False*."
   ]
  },
  {
   "cell_type": "markdown",
   "id": "156e88b5",
   "metadata": {},
   "source": [
    "**Calculate the eigenvectors and eigenvalues**"
   ]
  },
  {
   "cell_type": "code",
   "execution_count": 17,
   "id": "ec01523e",
   "metadata": {},
   "outputs": [],
   "source": [
    "eigen_vals, eigen_vectors = np.linalg.eig(cov_mat)"
   ]
  },
  {
   "cell_type": "markdown",
   "id": "5c219b05",
   "metadata": {},
   "source": [
    "- Note that these eigen values correspond to the eigenvectors (i.e., the eigenvalue with index 6 corresponds to the eigenvector with index 6)."
   ]
  },
  {
   "cell_type": "code",
   "execution_count": 19,
   "id": "3400c0a0",
   "metadata": {},
   "outputs": [
    {
     "data": {
      "text/plain": [
       "(30,)"
      ]
     },
     "execution_count": 19,
     "metadata": {},
     "output_type": "execute_result"
    }
   ],
   "source": [
    "eigen_vals.shape"
   ]
  },
  {
   "cell_type": "code",
   "execution_count": 20,
   "id": "1f183c67",
   "metadata": {},
   "outputs": [
    {
     "data": {
      "text/plain": [
       "(30, 30)"
      ]
     },
     "execution_count": 20,
     "metadata": {},
     "output_type": "execute_result"
    }
   ],
   "source": [
    "eigen_vectors.shape"
   ]
  },
  {
   "cell_type": "markdown",
   "id": "5743dcf1",
   "metadata": {},
   "source": [
    "**Sort the eigenvectors by eigenvalues**"
   ]
  },
  {
   "cell_type": "markdown",
   "id": "4c131761",
   "metadata": {},
   "source": [
    "Let's choose N=2 components. So we choose the two eigenvectors that correspond to the largest eigenvalues."
   ]
  },
  {
   "cell_type": "code",
   "execution_count": 45,
   "id": "91482312",
   "metadata": {},
   "outputs": [],
   "source": [
    "# Returns the indices that would sort the array in ascending order\n",
    "# This is why we write [::-1] to get the indices from largest to smallest\n",
    "num_components = 2\n",
    "sorted_key = np.argsort(eigen_vals)[::-1][:num_components]"
   ]
  },
  {
   "cell_type": "code",
   "execution_count": 46,
   "id": "5401925e",
   "metadata": {},
   "outputs": [
    {
     "data": {
      "text/plain": [
       "array([0, 1])"
      ]
     },
     "execution_count": 46,
     "metadata": {},
     "output_type": "execute_result"
    }
   ],
   "source": [
    "sorted_key"
   ]
  },
  {
   "cell_type": "code",
   "execution_count": 50,
   "id": "44b3950b",
   "metadata": {},
   "outputs": [],
   "source": [
    "# Let's choose N=2 as the number of components\n",
    "# (i.e., we choose the eigenvectors that corresponds to the two largest eigenvalues)\n",
    "eigvals, eigvecs = eigen_vals[:num_components], eigen_vectors[:, sorted_key]"
   ]
  },
  {
   "cell_type": "code",
   "execution_count": 51,
   "id": "62f6f324",
   "metadata": {},
   "outputs": [
    {
     "data": {
      "text/plain": [
       "array([13.30499079,  5.7013746 ])"
      ]
     },
     "execution_count": 51,
     "metadata": {},
     "output_type": "execute_result"
    }
   ],
   "source": [
    "eigvals"
   ]
  },
  {
   "cell_type": "code",
   "execution_count": 52,
   "id": "c44ebe76",
   "metadata": {},
   "outputs": [
    {
     "data": {
      "text/plain": [
       "(30, 2)"
      ]
     },
     "execution_count": 52,
     "metadata": {},
     "output_type": "execute_result"
    }
   ],
   "source": [
    "eigvecs.shape"
   ]
  },
  {
   "cell_type": "code",
   "execution_count": 59,
   "id": "e4116f54",
   "metadata": {},
   "outputs": [
    {
     "data": {
      "text/plain": [
       "array([[ 0.21890244, -0.23385713],\n",
       "       [ 0.10372458, -0.05970609],\n",
       "       [ 0.22753729, -0.21518136],\n",
       "       [ 0.22099499, -0.23107671],\n",
       "       [ 0.14258969,  0.18611302]])"
      ]
     },
     "execution_count": 59,
     "metadata": {},
     "output_type": "execute_result"
    }
   ],
   "source": [
    "# First 5 rows\n",
    "eigvecs[:5, :]"
   ]
  },
  {
   "cell_type": "code",
   "execution_count": 60,
   "id": "7cf0e1f7",
   "metadata": {},
   "outputs": [],
   "source": [
    "# Originl data --> project --> eigenvectors\n",
    "# This will equal the principal components\n",
    "principal_components = np.dot(scaled_X, eigvecs)"
   ]
  },
  {
   "cell_type": "markdown",
   "id": "96efd375",
   "metadata": {},
   "source": [
    "- The projection can be done using the dot product."
   ]
  },
  {
   "cell_type": "code",
   "execution_count": 64,
   "id": "595338f7",
   "metadata": {},
   "outputs": [
    {
     "data": {
      "image/png": "[encoded data removed]",
      "text/plain": [
       "<Figure size 800x600 with 1 Axes>"
      ]
     },
     "metadata": {},
     "output_type": "display_data"
    }
   ],
   "source": [
    "plt.figure(figsize=(8, 6), dpi=100)\n",
    "plt.scatter(principal_components[:, 0], principal_components[:, 1]);"
   ]
  },
  {
   "cell_type": "markdown",
   "id": "8e9246eb",
   "metadata": {},
   "source": [
    "<br>"
   ]
  },
  {
   "cell_type": "markdown",
   "id": "93a97b38",
   "metadata": {},
   "source": [
    "<h3 align=\"left\">PCA in Sklearn</h3>"
   ]
  },
  {
   "cell_type": "markdown",
   "id": "d5be6373",
   "metadata": {},
   "source": [
    "In sklearn, we still need to scale the data (for numerical stability)."
   ]
  },
  {
   "cell_type": "code",
   "execution_count": 66,
   "id": "477254c6",
   "metadata": {},
   "outputs": [],
   "source": [
    "scaler = StandardScaler()\n",
    "# Recall that df contains only features (no response)\n",
    "scaled_X = scaler.fit_transform(df)"
   ]
  },
  {
   "cell_type": "code",
   "execution_count": 73,
   "id": "92099e41",
   "metadata": {},
   "outputs": [],
   "source": [
    "pca_model = PCA(n_components=2)\n",
    "pca_results = pca_model.fit_transform(scaled_X)"
   ]
  },
  {
   "cell_type": "markdown",
   "id": "260acc1f",
   "metadata": {},
   "source": [
    "- *fit()* calculates the eigenvalues and eigenvectors\n",
    "- *transform()* projects the original data onto the eigenvectors (dot product)\n",
    "- *fit_transform* does these previously mentioned steps at the same time."
   ]
  },
  {
   "cell_type": "code",
   "execution_count": 75,
   "id": "015e8fc8",
   "metadata": {
    "scrolled": false
   },
   "outputs": [
    {
     "data": {
      "image/png": "[encoded data removed]",
      "text/plain": [
       "<Figure size 800x600 with 1 Axes>"
      ]
     },
     "metadata": {},
     "output_type": "display_data"
    }
   ],
   "source": [
    "plt.figure(figsize=(8,6), dpi=100)\n",
    "plt.scatter(pca_results[:, 0], pca_results[:, 1]);"
   ]
  },
  {
   "cell_type": "markdown",
   "id": "bad3c539",
   "metadata": {},
   "source": [
    "<br>"
   ]
  },
  {
   "cell_type": "code",
   "execution_count": 76,
   "id": "7d2f8b45",
   "metadata": {},
   "outputs": [
    {
     "data": {
      "text/plain": [
       "array([[ 0.21890244,  0.10372458,  0.22753729,  0.22099499,  0.14258969,\n",
       "         0.23928535,  0.25840048,  0.26085376,  0.13816696,  0.06436335,\n",
       "         0.20597878,  0.01742803,  0.21132592,  0.20286964,  0.01453145,\n",
       "         0.17039345,  0.15358979,  0.1834174 ,  0.04249842,  0.10256832,\n",
       "         0.22799663,  0.10446933,  0.23663968,  0.22487053,  0.12795256,\n",
       "         0.21009588,  0.22876753,  0.25088597,  0.12290456,  0.13178394],\n",
       "       [-0.23385713, -0.05970609, -0.21518136, -0.23107671,  0.18611302,\n",
       "         0.15189161,  0.06016536, -0.0347675 ,  0.19034877,  0.36657547,\n",
       "        -0.10555215,  0.08997968, -0.08945723, -0.15229263,  0.20443045,\n",
       "         0.2327159 ,  0.19720728,  0.13032156,  0.183848  ,  0.28009203,\n",
       "        -0.21986638, -0.0454673 , -0.19987843, -0.21935186,  0.17230435,\n",
       "         0.14359317,  0.09796411, -0.00825724,  0.14188335,  0.27533947]])"
      ]
     },
     "execution_count": 76,
     "metadata": {},
     "output_type": "execute_result"
    }
   ],
   "source": [
    "pca_model.components_"
   ]
  },
  {
   "cell_type": "markdown",
   "id": "e98eb729",
   "metadata": {},
   "source": [
    "- The directions of the maximum variance in the data."
   ]
  },
  {
   "cell_type": "code",
   "execution_count": 77,
   "id": "a099826e",
   "metadata": {},
   "outputs": [
    {
     "data": {
      "text/plain": [
       "array([0.44272026, 0.18971182])"
      ]
     },
     "execution_count": 77,
     "metadata": {},
     "output_type": "execute_result"
    }
   ],
   "source": [
    "pca_model.explained_variance_ratio_"
   ]
  },
  {
   "cell_type": "markdown",
   "id": "c9cf3749",
   "metadata": {},
   "source": [
    "- The first principal component explains 44.3% of the data, and the second principal component explains 19% of the data."
   ]
  },
  {
   "cell_type": "code",
   "execution_count": 79,
   "id": "58aa1fad",
   "metadata": {},
   "outputs": [
    {
     "data": {
      "text/plain": [
       "63.243207651559395"
      ]
     },
     "execution_count": 79,
     "metadata": {},
     "output_type": "execute_result"
    }
   ],
   "source": [
    "np.sum(pca_model.explained_variance_ratio_) * 100"
   ]
  },
  {
   "cell_type": "markdown",
   "id": "f166aa5f",
   "metadata": {},
   "source": [
    "- Together the principal components 1 and 2 explain around 63% of the data."
   ]
  },
  {
   "cell_type": "markdown",
   "id": "ac7c015c",
   "metadata": {},
   "source": [
    "Plot explained variance with different number of principal components"
   ]
  },
  {
   "cell_type": "code",
   "execution_count": 113,
   "id": "d6194cb4",
   "metadata": {},
   "outputs": [],
   "source": [
    "explained_sigmasq = np.zeros((scaled_X.shape[1], 0))\n",
    "\n",
    "for n in range(1, 31):\n",
    "    pca = PCA(n_components=n)\n",
    "    pca.fit(scaled_X)\n",
    "    sum_explained_var = np.sum(pca.explained_variance_ratio_)\n",
    "    explained_sigmasq = np.append(explained_sigmasq, sum_explained_var)"
   ]
  },
  {
   "cell_type": "code",
   "execution_count": 120,
   "id": "a982bdf2",
   "metadata": {},
   "outputs": [
    {
     "data": {
      "image/png": "[encoded data removed]",
      "text/plain": [
       "<Figure size 800x600 with 1 Axes>"
      ]
     },
     "metadata": {},
     "output_type": "display_data"
    }
   ],
   "source": [
    "plt.figure(figsize=(8, 6))\n",
    "plt.plot(range(1, 31), explained_sigmasq, color='black')\n",
    "plt.xlabel('Number of principal components', size=12, labelpad=12)\n",
    "plt.ylabel('Explained variance', size=12, labelpad=12);"
   ]
  }
 ],
 "metadata": {
  "kernelspec": {
   "display_name": "Python 3 (ipykernel)",
   "language": "python",
   "name": "python3"
  },
  "language_info": {
   "codemirror_mode": {
    "name": "ipython",
    "version": 3
   },
   "file_extension": ".py",
   "mimetype": "text/x-python",
   "name": "python",
   "nbconvert_exporter": "python",
   "pygments_lexer": "ipython3",
   "version": "3.12.3"
  }
 },
 "nbformat": 4,
 "nbformat_minor": 5
}
